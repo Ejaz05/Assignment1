{
 "cells": [
  {
   "cell_type": "code",
   "execution_count": 1,
   "id": "ddcd94ca-8857-41b0-856f-4a401f3adad3",
   "metadata": {},
   "outputs": [],
   "source": [
    "#Q1. What is Flask Framework? What are the advantages of Flask Framework?\n",
    "\n",
    "#Ans:Flask is a web framework for building web applications using the Python programming language. It is lightweight and designed to be easy to use and flexible, making it a popular choice for building web applications and APIs.\n",
    "\n",
    "#Some of the advantages of Flask include:\n",
    "\n",
    "#1.Lightweight and Easy to Use: Flask is a lightweight and minimalist framework that is easy to learn and use. It doesn't come with pre-defined tools and libraries, which makes it a flexible option that can be tailored to specific needs.\n",
    "\n",
    "#2. Modular and Extensible: Flask allows developers to add additional features and functionality to their web applications using extensions and plug-ins. This makes it a highly extensible framework that can be customized to suit a wide range of requirements.\n",
    "\n",
    "#3. Flexible and Scalable: Flask is designed to be flexible and scalable, which makes it suitable for building web applications of any size or complexity. It is easy to add new features and adapt the framework to changing requirements as your application grows.\n",
    "\n",
    "#4. Built-in Development Server: Flask comes with a built-in development server, which makes it easy to develop and test web applications without having to set up a separate server.\n",
    "\n",
    "#5. Large and Active Community: Flask has a large and active community of developers who contribute to its development and provide support to others. This means that there is a lot of documentation and resources available to help you learn and use Flask effectively.\n",
    "\n"
   ]
  },
  {
   "cell_type": "code",
   "execution_count": null,
   "id": "3e05163f-5fde-4296-a59e-03ccb88932a3",
   "metadata": {},
   "outputs": [],
   "source": [
    "#Q2. Create a simple Flask application to display ‘Hello World!!’. Attach the screenshot of the output in Jupyter Notebook.\n",
    "\n",
    "# from flask import Flask\n",
    "\n",
    "# app = Flask(__name__)\n",
    "\n",
    "# @app.route(\"/\")\n",
    "# def hello_world():\n",
    "    # return \"<h1>Hello, World!</h1>\"\n",
    "    \n",
    "  #  https://purple-chef-fujpv.pwskills.app/files/work/13%20feb%20onwards/helloworld.PNG?_xsrf=2%7C725df287%7C91cd60121545e0ece3ac20d331a4834a%7C1675005283\n",
    "#above link provided for image as insert option not showing in jupiter notebook"
   ]
  },
  {
   "cell_type": "code",
   "execution_count": null,
   "id": "f2833737-97c1-4ae9-b799-65bd97277279",
   "metadata": {},
   "outputs": [],
   "source": [
    "#Q3. What is App routing in Flask? Why do we use app routes?\n",
    "\n",
    "#ans: In Flask, app routing is a mechanism for defining the URL endpoints or routes of a web application. It allows you to map URLs to Python functions that handle the requests and generate the responses for those URLs.\n",
    "\n",
    "#When a user requests a specific URL from a Flask application, the app routing system matches the URL to a function that handles that request. The function generates a response, which is sent back to the user's browser. The response can be HTML content, JSON data, or any other type of content that the application is designed to produce.\n",
    "\n",
    "#App routing is essential in Flask because it enables developers to define the structure and behavior of the web application. It allows them to map URLs to specific functionalities and define how the application should respond to different types of requests.\n",
    "\n",
    "#There are different types of app routes that can be defined in Flask, such as:\n",
    "\n",
    "# @app.route('/'): This defines the default or root URL of the web application.\n",
    "# @app.route('/hello'): This defines a specific URL, such as http://localhost:5000/hello, and maps it to a corresponding function that generates the response for that URL.\n",
    "# @app.route('/user/<username>'): This defines a URL that includes a parameter or variable that can be used to generate a dynamic response.\n",
    "#Overall, app routing is a powerful feature of Flask that allows developers to define the structure and behavior of their web applications. It provides a clear and organized way to map URLs to specific functionalities and handle user requests."
   ]
  },
  {
   "cell_type": "code",
   "execution_count": null,
   "id": "0dff7a74-b30e-4a74-b43c-04eeb1283d9e",
   "metadata": {},
   "outputs": [],
   "source": [
    "#Q4. Create a “/welcome” route to display the welcome message “Welcome to ABC Corporation” and a “/”\n",
    "#route to show the following details:\n",
    "#Company Name: ABC Corporation\n",
    "#Location: India\n",
    "#Contact Detail: 999-999-9999"
   ]
  },
  {
   "cell_type": "code",
   "execution_count": null,
   "id": "1db6e5a6-4b58-4988-a1c1-d1df24ff9b33",
   "metadata": {},
   "outputs": [],
   "source": [
    "# from flask import Flask\n",
    "\n",
    "# app = Flask(__name__)\n",
    "# @app.route('/welcome')\n",
    "# def welcome():\n",
    "    # return 'Welcome to ABC Corporation'\n",
    "# if __name__ == '__main__':\n",
    "   # app.run(host = \"0.0.0.0\")        \n",
    "    \n",
    "# screenshot link below\n",
    "# https://purple-chef-fujpv.pwskills.app/files/work/13%20feb%20onwards/welcome%20to%20abc.PNG?_xsrf=2%7C725df287%7C91cd60121545e0ece3ac20d331a4834a%7C1675005283"
   ]
  },
  {
   "cell_type": "code",
   "execution_count": null,
   "id": "7f4c11a1-0660-4142-b3e6-21695bfa190e",
   "metadata": {},
   "outputs": [],
   "source": [
    "# from flask import Flask\n",
    "# app = Flask(__name__)\n",
    "# @app.route('/')\n",
    "# def home():\n",
    "    #company_name = 'ABC Corporation'\n",
    "    #location = 'India'\n",
    "    #contact_detail = '999-999-9999'\n",
    "    #return f'Company Name: {company_name}<br>Location: {location}<br>Contact Detail: {contact_detail}'\n",
    "# if __name__ == '__main__':\n",
    "   # app.run(host = \"0.0.0.0\")    \n",
    "\n",
    "    \n",
    "# screenshot link below\n",
    "# https://purple-chef-fujpv.pwskills.app/files/work/13%20feb%20onwards/company%20name.PNG?_xsrf=2%7C725df287%7C91cd60121545e0ece3ac20d331a4834a%7C1675005283"
   ]
  },
  {
   "cell_type": "code",
   "execution_count": null,
   "id": "71f969a2-531e-47bd-b75c-b376b045baf5",
   "metadata": {},
   "outputs": [],
   "source": [
    "#Q5. What function is used in Flask for URL Building? Write a Python code to demonstrate the working of the url_for() function."
   ]
  },
  {
   "cell_type": "code",
   "execution_count": null,
   "id": "f37806af-fcab-41a5-a306-ceb33ddd1a20",
   "metadata": {},
   "outputs": [],
   "source": [
    "#Ans: In Flask, the url_for() function is used for URL building. It generates a URL for a given function name and arguments. This function takes the name of the function as the first argument and any keyword arguments as additional arguments.\n",
    "\n",
    "# Here's an example code that demonstrates the working of url_for() function in Flask:"
   ]
  },
  {
   "cell_type": "code",
   "execution_count": null,
   "id": "ee5fcc5c-31ad-4114-80e7-b7d344760853",
   "metadata": {},
   "outputs": [],
   "source": [
    "# from flask import Flask, url_for\n",
    "\n",
    "# app = Flask(__name__)\n",
    "\n",
    "# Define a route that takes a name parameter\n",
    "# @app.route('/hello/<name>')\n",
    "# def hello(name):\n",
    "    # return f'Hello, {name}!'\n",
    "\n",
    "# Define a route that generates a URL for the hello route\n",
    "# @app.route('/')\n",
    "# def index():\n",
    "    # url = url_for('hello', name='John')\n",
    "    # return f'The URL for the hello function is {url}'\n",
    "\n",
    "# if __name__ == '__main__':\n",
    "    # app.run(host= \"0.0.0.0\")"
   ]
  },
  {
   "cell_type": "code",
   "execution_count": null,
   "id": "9ffe047d-ed67-4bfb-bbb8-d6e9abc8086c",
   "metadata": {},
   "outputs": [],
   "source": []
  }
 ],
 "metadata": {
  "kernelspec": {
   "display_name": "Python 3 (ipykernel)",
   "language": "python",
   "name": "python3"
  },
  "language_info": {
   "codemirror_mode": {
    "name": "ipython",
    "version": 3
   },
   "file_extension": ".py",
   "mimetype": "text/x-python",
   "name": "python",
   "nbconvert_exporter": "python",
   "pygments_lexer": "ipython3",
   "version": "3.10.8"
  }
 },
 "nbformat": 4,
 "nbformat_minor": 5
}
