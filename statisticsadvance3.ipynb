{
 "cells": [
  {
   "cell_type": "markdown",
   "id": "9e034b00-f30a-4166-9e40-5d5840189210",
   "metadata": {},
   "source": [
    "Q1: What is Estimation Statistics? Explain point estimate and interval estimate."
   ]
  },
  {
   "cell_type": "markdown",
   "id": "022e31c5-84d1-44d8-8e44-f90c0d88667b",
   "metadata": {},
   "source": [
    "Ans:\n",
    "Estimation statistics is a branch of inferential statistics that is concerned with making inferences about population parameters based on information obtained from a sample of the population. The goal of estimation is to provide a best guess, or estimate, of a population parameter, such as the population mean or proportion, based on sample data.\n",
    "\n",
    "There are two types of estimation: point estimation and interval estimation.\n",
    "\n",
    "Point estimate refers to a single value that is used to estimate the population parameter. For example, if we want to estimate the population mean, we might use the sample mean as the point estimate. Point estimates can be calculated for any population parameter, including the population variance, population proportion, and population median.\n",
    "\n",
    "Interval estimate, on the other hand, refers to a range of values that is used to estimate the population parameter. Interval estimates are constructed using sample statistics and involve a level of confidence, usually expressed as a percentage. For example, a 95% confidence interval for the population mean would include the sample mean plus or minus a margin of error that accounts for sampling variability.\n",
    "\n",
    "Interval estimates are generally considered to be more informative than point estimates because they provide information about the precision of the estimate. The narrower the interval, the more precise the estimate. However, constructing interval estimates requires more information and assumptions than point estimates."
   ]
  },
  {
   "cell_type": "markdown",
   "id": "aafdfd96-a8c6-4bc4-b675-ba728e44bd9b",
   "metadata": {},
   "source": [
    "Q2. Write a Python function to estimate the population mean using a sample mean and standard\n",
    "deviation."
   ]
  },
  {
   "cell_type": "code",
   "execution_count": 2,
   "id": "1f15f416-e0b1-4afd-8c20-6d9d81f404ee",
   "metadata": {},
   "outputs": [],
   "source": [
    "import math\n",
    "\n",
    "def estimate_population_mean(sample_mean, sample_std_dev, sample_size):\n",
    "    # Calculate the standard error of the mean\n",
    "    std_error = sample_std_dev / math.sqrt(sample_size)\n",
    "    \n",
    "    # Calculate the margin of error for a 95% confidence interval\n",
    "    margin_of_error = 1.96 * std_error\n",
    "    \n",
    "    # Calculate the lower and upper bounds of the confidence interval\n",
    "    lower_bound = sample_mean - margin_of_error\n",
    "    upper_bound = sample_mean + margin_of_error\n",
    "    \n",
    "    # Return the estimated population mean and confidence interval\n",
    "    return (sample_mean, lower_bound, upper_bound)\n"
   ]
  },
  {
   "cell_type": "code",
   "execution_count": 3,
   "id": "d8c1a40d-95b0-4b0b-8fc9-ae0d90f18404",
   "metadata": {},
   "outputs": [
    {
     "name": "stdout",
     "output_type": "stream",
     "text": [
      "Estimated population mean: 25.30\n",
      "95% Confidence Interval: (24.25, 26.35)\n"
     ]
    }
   ],
   "source": [
    "sample_mean = 25.3\n",
    "sample_std_dev = 3.8\n",
    "sample_size = 50\n",
    "\n",
    "estimated_mean, lower_bound, upper_bound = estimate_population_mean(sample_mean, sample_std_dev, sample_size)\n",
    "\n",
    "print(\"Estimated population mean: {:.2f}\".format(estimated_mean))\n",
    "print(\"95% Confidence Interval: ({:.2f}, {:.2f})\".format(lower_bound, upper_bound))\n"
   ]
  },
  {
   "cell_type": "code",
   "execution_count": null,
   "id": "812dc344-3b23-4aac-95d6-2589de873023",
   "metadata": {},
   "outputs": [],
   "source": []
  },
  {
   "cell_type": "markdown",
   "id": "0c5b6021-c409-4072-957e-f7e014bf2fb7",
   "metadata": {},
   "source": [
    "Q3: What is Hypothesis testing? Why is it used? State the importance of Hypothesis testing.\n",
    "\n",
    "Ans:\n",
    "Hypothesis testing is a statistical method used to evaluate whether a given hypothesis is supported by the observed data. In hypothesis testing, we start with a null hypothesis, which is a statement that there is no significant difference between two groups or variables. We then collect data and use statistical tests to determine whether the observed data is consistent with the null hypothesis or whether it is more likely to support an alternative hypothesis.\n",
    "\n",
    "Hypothesis testing is used in a wide range of fields, including medicine, psychology, economics, and engineering. It is used to test theories and hypotheses, to make predictions about future events, and to make decisions based on data.\n",
    "\n",
    "The importance of hypothesis testing lies in its ability to provide a systematic and objective way to evaluate the strength of evidence for a given hypothesis. By using statistical tests to evaluate the probability of obtaining the observed data under the null hypothesis, we can determine whether there is enough evidence to reject the null hypothesis in favor of an alternative hypothesis.\n",
    "\n",
    "Hypothesis testing also helps to avoid making incorrect conclusions based on anecdotal evidence or intuition. By relying on statistical tests, we can make more informed and accurate decisions based on empirical evidence.\n",
    "\n",
    "Furthermore, hypothesis testing provides a framework for making decisions under uncertainty. By setting a level of significance, we can determine the probability of making a Type I error (rejecting the null hypothesis when it is true) and a Type II error (failing to reject the null hypothesis when it is false) and make decisions based on the relative risks and benefits of each type of error.\n",
    "\n",
    "In summary, hypothesis testing is an important tool for evaluating the strength of evidence for a given hypothesis, making decisions based on empirical evidence, and avoiding incorrect conclusions based on anecdotal evidence or intuition."
   ]
  },
  {
   "cell_type": "code",
   "execution_count": null,
   "id": "c5712a4b-2c48-46a5-a60b-87eb9f4ad050",
   "metadata": {},
   "outputs": [],
   "source": []
  },
  {
   "cell_type": "markdown",
   "id": "289683a4-2c36-4caf-bf83-8d0b4f456118",
   "metadata": {},
   "source": [
    "Q4. Create a hypothesis that states whether the average weight of male college students is greater than\n",
    "the average weight of female college students.\n",
    "\n",
    "Ans:\n",
    "Here's an example hypothesis statement:\n",
    "\n",
    "Null Hypothesis: The average weight of male college students is equal to or less than the average weight of female college students.\n",
    "\n",
    "Alternative Hypothesis: The average weight of male college students is greater than the average weight of female college students.\n",
    "\n",
    "To test this hypothesis, we would need to collect data on the weights of male and female college students and perform a statistical test to determine whether there is sufficient evidence to reject the null hypothesis in favor of the alternative hypothesis.\n",
    "\n",
    "We could use a two-sample t-test to compare the means of the two groups and determine whether the observed difference is statistically significant. We would need to ensure that the data meets the assumptions of the t-test, including normality and equal variances between the two groups. We would also need to specify a level of significance and interpret the results in the context of the research question.\n",
    "\n",
    "Note that this is just an example hypothesis statement, and any real-world hypothesis would need to be tailored to the specific research question and context. Additionally, it is important to ensure that any hypotheses are formulated based on prior research and theoretical considerations, and that the data collection and analysis procedures are carefully planned and executed to ensure validity and reliability.\n",
    "\n",
    "\n",
    "\n"
   ]
  },
  {
   "cell_type": "code",
   "execution_count": null,
   "id": "5d1a772e-2362-403f-b399-fd36e23311c8",
   "metadata": {},
   "outputs": [],
   "source": []
  },
  {
   "cell_type": "markdown",
   "id": "c0c03abe-ffd8-477e-beb0-a4890d27e78a",
   "metadata": {},
   "source": [
    "Q5. Write a Python script to conduct a hypothesis test on the difference between two population means,\n",
    "given a sample from each population."
   ]
  },
  {
   "cell_type": "code",
   "execution_count": 5,
   "id": "5d67796b-0da1-430b-b048-04eaadbe2891",
   "metadata": {},
   "outputs": [
    {
     "name": "stdout",
     "output_type": "stream",
     "text": [
      "Sample 1 Mean: 35.00\n",
      "Sample 2 Mean: 30.00\n",
      "Sample 1 Standard Deviation: 7.91\n",
      "Sample 2 Standard Deviation: 7.91\n",
      "Degrees of Freedom: 8\n",
      "t-value: 1.00\n",
      "p-value: 0.3466\n"
     ]
    }
   ],
   "source": [
    "import numpy as np\n",
    "from scipy.stats import ttest_ind\n",
    "\n",
    "# Define the sample data\n",
    "sample1 = np.array([25, 30, 35, 40, 45])\n",
    "sample2 = np.array([20, 25, 30, 35, 40])\n",
    "\n",
    "# Calculate the means and standard deviations of the samples\n",
    "mean1 = np.mean(sample1)\n",
    "mean2 = np.mean(sample2)\n",
    "std_dev1 = np.std(sample1, ddof=1)\n",
    "std_dev2 = np.std(sample2, ddof=1)\n",
    "\n",
    "# Calculate the degrees of freedom for the t-test\n",
    "n1 = len(sample1)\n",
    "n2 = len(sample2)\n",
    "df = n1 + n2 - 2\n",
    "\n",
    "# Calculate the t-value and p-value for the two-sample t-test\n",
    "t_value, p_value = ttest_ind(sample1, sample2)\n",
    "\n",
    "# Print the results of the hypothesis test\n",
    "print(\"Sample 1 Mean: {:.2f}\".format(mean1))\n",
    "print(\"Sample 2 Mean: {:.2f}\".format(mean2))\n",
    "print(\"Sample 1 Standard Deviation: {:.2f}\".format(std_dev1))\n",
    "print(\"Sample 2 Standard Deviation: {:.2f}\".format(std_dev2))\n",
    "print(\"Degrees of Freedom: {}\".format(df))\n",
    "print(\"t-value: {:.2f}\".format(t_value))\n",
    "print(\"p-value: {:.4f}\".format(p_value))\n"
   ]
  },
  {
   "cell_type": "code",
   "execution_count": null,
   "id": "1b469095-40fa-440c-9274-1dfd708cf627",
   "metadata": {},
   "outputs": [],
   "source": []
  },
  {
   "cell_type": "markdown",
   "id": "b4416ce6-7278-4ea0-bc55-8554adaa07f7",
   "metadata": {},
   "source": [
    "Q6: What is a null and alternative hypothesis? Give some examples.\n",
    "\n",
    "Ans: In statistical hypothesis testing, a null hypothesis and an alternative hypothesis are two complementary statements used to test a claim or hypothesis about a population parameter based on sample data.\n",
    "\n",
    "The null hypothesis is a statement of no effect, no difference, or no relationship between variables. It is typically denoted as H0 and represents the status quo or the default assumption. The null hypothesis is assumed to be true unless there is sufficient evidence from the data to reject it. If the null hypothesis is rejected, this suggests that there is evidence of an effect or a relationship between variables.\n",
    "\n",
    "The alternative hypothesis is a statement of what we hope to prove or discover through the hypothesis test. It is typically denoted as Ha or H1 and represents the opposite of the null hypothesis. The alternative hypothesis is only considered if there is sufficient evidence to reject the null hypothesis. The alternative hypothesis can be one-tailed (i.e. specifying a direction) or two-tailed (i.e. not specifying a direction).\n",
    "\n",
    "Here are some examples of null and alternative hypotheses:\n",
    "\n",
    "Null hypothesis: The mean weight of apples from two different orchards is equal.\n",
    "Alternative hypothesis: The mean weight of apples from two different orchards is not equal.\n",
    "\n",
    "Null hypothesis: There is no difference in the average height of men and women in a population.\n",
    "Alternative hypothesis: The average height of men is greater than the average height of women in a population.\n",
    "\n",
    "Null hypothesis: There is no relationship between smoking and lung cancer.\n",
    "Alternative hypothesis: There is a positive relationship between smoking and lung cancer.\n",
    "\n",
    "Null hypothesis: There is no difference in the effectiveness of two different pain medications.\n",
    "Alternative hypothesis: One pain medication is more effective than the other.\n",
    "\n"
   ]
  },
  {
   "cell_type": "code",
   "execution_count": null,
   "id": "79582c32-456e-4000-87e2-cea5bd761f88",
   "metadata": {},
   "outputs": [],
   "source": []
  },
  {
   "cell_type": "markdown",
   "id": "0c9d72c6-e88c-4cf3-8b60-1ad7c62bb9b4",
   "metadata": {},
   "source": [
    "Q7: Write down the steps involved in hypothesis testing.\n",
    "\n",
    "Ans: Hypothesis testing is a statistical method used to determine whether a given hypothesis about a population is true or not. The general steps involved in hypothesis testing are as follows:\n",
    "\n",
    "State the null hypothesis (H0) and alternative hypothesis (H1):\n",
    "\n",
    "The null hypothesis is the assumption that there is no significant difference or relationship between the variables being tested.\n",
    "The alternative hypothesis is the opposite of the null hypothesis and is used to test if the sample data supports the research hypothesis.\n",
    "Determine the level of significance (α):\n",
    "\n",
    "The level of significance (α) is the probability of rejecting the null hypothesis when it is actually true. It is usually set at 0.05, which means there is a 5% chance of rejecting the null hypothesis when it is true.\n",
    "Choose the appropriate test statistic:\n",
    "\n",
    "The test statistic is a measure used to quantify the difference between the sample data and the null hypothesis. The choice of test statistic depends on the type of hypothesis being tested and the nature of the data.\n",
    "Calculate the p-value:\n",
    "\n",
    "The p-value is the probability of obtaining a test statistic as extreme or more extreme than the observed value, assuming that the null hypothesis is true. A small p-value (less than α) indicates strong evidence against the null hypothesis.\n",
    "Compare the p-value to the level of significance:\n",
    "\n",
    "If the p-value is less than the level of significance (α), reject the null hypothesis and accept the alternative hypothesis.\n",
    "If the p-value is greater than the level of significance (α), fail to reject the null hypothesis and conclude that there is insufficient evidence to support the alternative hypothesis.\n",
    "Interpret the results:\n",
    "\n",
    "If the null hypothesis is rejected, it means that there is sufficient evidence to support the alternative hypothesis.\n",
    "If the null hypothesis is not rejected, it means that there is not enough evidence to support the alternative hypothesis.\n",
    "Draw conclusions:\n",
    "\n",
    "Based on the results, draw conclusions about the research question and make recommendations for future research or decision-making.\n",
    "\n",
    "\n"
   ]
  },
  {
   "cell_type": "code",
   "execution_count": null,
   "id": "88889704-c5bd-4a10-b6b2-e26cf0194259",
   "metadata": {},
   "outputs": [],
   "source": []
  },
  {
   "cell_type": "markdown",
   "id": "8883bf01-c635-43e5-b828-fe80238485eb",
   "metadata": {},
   "source": [
    "Q8. Define p-value and explain its significance in hypothesis testing.\n",
    "\n",
    "Ans:The p-value is a statistical measure that quantifies the probability of obtaining a test statistic as extreme or more extreme than the observed value, assuming that the null hypothesis is true. In other words, it tells us how likely it is to obtain a sample result as extreme or more extreme than what we have observed, if the null hypothesis is true.\n",
    "\n",
    "The significance of the p-value in hypothesis testing is that it allows us to make a decision about whether or not to reject the null hypothesis. If the p-value is less than the level of significance (α) that was set before starting the test, we reject the null hypothesis in favor of the alternative hypothesis, since the result is considered statistically significant.\n",
    "\n",
    "For example, if we are testing the hypothesis that the mean weight of apples in a sample is greater than 200 grams, and we obtain a p-value of 0.02 at a significance level of 0.05, we can conclude that there is sufficient evidence to reject the null hypothesis, and we can accept the alternative hypothesis that the mean weight of apples in the sample is indeed greater than 200 grams.\n",
    "\n",
    "On the other hand, if the p-value is greater than the level of significance (α), we fail to reject the null hypothesis since the evidence is not strong enough to support the alternative hypothesis. This means that the observed difference between the sample data and the null hypothesis could be due to chance or sampling error.\n",
    "\n",
    "In summary, the p-value is a key component of hypothesis testing because it allows us to make a statistical decision about whether or not to reject the null hypothesis and accept the alternative hypothesis based on the strength of the evidence in the sample data.\n",
    "\n",
    "\n",
    "\n"
   ]
  },
  {
   "cell_type": "code",
   "execution_count": null,
   "id": "b8119d39-9cf1-429c-a7fd-3a3f8a367a57",
   "metadata": {},
   "outputs": [],
   "source": []
  },
  {
   "cell_type": "markdown",
   "id": "e47a73ae-4161-493d-a72f-943caf3379a5",
   "metadata": {},
   "source": [
    "Q9. Generate a Student's t-distribution plot using Python's matplotlib library, with the degrees of freedom\n",
    "parameter set to 10."
   ]
  },
  {
   "cell_type": "code",
   "execution_count": 6,
   "id": "18b6dab1-cf9a-4ce6-b1db-dabde7d8f19e",
   "metadata": {},
   "outputs": [
    {
     "data": {
      "image/png": "[encoded data removed]",
      "text/plain": [
       "<Figure size 640x480 with 1 Axes>"
      ]
     },
     "metadata": {},
     "output_type": "display_data"
    }
   ],
   "source": [
    "import numpy as np\n",
    "import matplotlib.pyplot as plt\n",
    "\n",
    "df = 10  # degrees of freedom\n",
    "\n",
    "x = np.linspace(-5, 5, 1000)  # generate 1000 evenly spaced points between -5 and 5\n",
    "t_dist = (1 / np.sqrt(df)) * ((1 + (x ** 2) / df) ** (-0.5 * (df + 1)))  # calculate the t-distribution values\n",
    "\n",
    "plt.plot(x, t_dist)\n",
    "plt.title(\"Student's t-distribution with 10 degrees of freedom\")\n",
    "plt.xlabel('x')\n",
    "plt.ylabel('Probability density')\n",
    "plt.show()\n"
   ]
  },
  {
   "cell_type": "code",
   "execution_count": null,
   "id": "294613d2-0d1a-4a17-9622-9c90c1dac220",
   "metadata": {},
   "outputs": [],
   "source": []
  },
  {
   "cell_type": "markdown",
   "id": "0c73767b-fae9-4971-ab49-7234949b8f3d",
   "metadata": {},
   "source": [
    "Q10. Write a Python program to calculate the two-sample t-test for independent samples, given two\n",
    "random samples of equal size and a null hypothesis that the population means are equal."
   ]
  },
  {
   "cell_type": "code",
   "execution_count": 7,
   "id": "791b8568-1d8b-4813-8998-4ea1ec274176",
   "metadata": {},
   "outputs": [
    {
     "name": "stdout",
     "output_type": "stream",
     "text": [
      "Sample 1 mean: 9.84\n",
      "Sample 2 mean: 12.35\n",
      "Sample 1 standard deviation: 2.25\n",
      "Sample 2 standard deviation: 1.91\n",
      "Pooled standard deviation: 2.09\n",
      "T-statistic: -8.52\n",
      "Degrees of freedom: 198\n",
      "P-value: 0.0000\n"
     ]
    }
   ],
   "source": [
    "import numpy as np\n",
    "from scipy import stats\n",
    "\n",
    "# generate two random samples of equal size\n",
    "sample1 = np.random.normal(loc=10, scale=2, size=100)\n",
    "sample2 = np.random.normal(loc=12, scale=2, size=100)\n",
    "\n",
    "# calculate the sample means and standard deviations\n",
    "mean1, mean2 = np.mean(sample1), np.mean(sample2)\n",
    "std1, std2 = np.std(sample1, ddof=1), np.std(sample2, ddof=1)\n",
    "\n",
    "# calculate the pooled standard deviation\n",
    "s_pooled = np.sqrt(((len(sample1) - 1) * std1 ** 2 + (len(sample2) - 1) * std2 ** 2) / (len(sample1) + len(sample2) - 2))\n",
    "\n",
    "# calculate the t-statistic\n",
    "t_statistic = (mean1 - mean2) / (s_pooled * np.sqrt(2 / len(sample1)))\n",
    "\n",
    "# calculate the degrees of freedom\n",
    "df = len(sample1) + len(sample2) - 2\n",
    "\n",
    "# calculate the p-value using a two-tailed test\n",
    "p_value = stats.t.sf(np.abs(t_statistic), df) * 2\n",
    "\n",
    "# print the results\n",
    "print(\"Sample 1 mean: {:.2f}\".format(mean1))\n",
    "print(\"Sample 2 mean: {:.2f}\".format(mean2))\n",
    "print(\"Sample 1 standard deviation: {:.2f}\".format(std1))\n",
    "print(\"Sample 2 standard deviation: {:.2f}\".format(std2))\n",
    "print(\"Pooled standard deviation: {:.2f}\".format(s_pooled))\n",
    "print(\"T-statistic: {:.2f}\".format(t_statistic))\n",
    "print(\"Degrees of freedom: {}\".format(df))\n",
    "print(\"P-value: {:.4f}\".format(p_value))\n"
   ]
  },
  {
   "cell_type": "code",
   "execution_count": null,
   "id": "8384915f-1e10-4521-88c8-b44be659b13e",
   "metadata": {},
   "outputs": [],
   "source": []
  },
  {
   "cell_type": "markdown",
   "id": "ec2392c4-51d4-4102-b1a8-62cadaebb86e",
   "metadata": {},
   "source": [
    "Q11: What is Student’s t distribution? When to use the t-Distribution.\n",
    "\n",
    "Ans: Student's t-distribution is a probability distribution that arises when estimating the mean of a normally distributed population in situations where the sample size is small and/or the population standard deviation is unknown. It was developed by William Gosset, who wrote under the pseudonym \"Student,\" hence the name.\n",
    "\n",
    "The t-distribution is similar in shape to the normal distribution, but with heavier tails. As the sample size increases, the t-distribution approaches the normal distribution. The shape of the t-distribution depends on the degrees of freedom, which are equal to n - 1, where n is the sample size.\n",
    "\n",
    "The t-distribution is used in hypothesis testing, specifically for testing the null hypothesis that the population mean is equal to a specified value. It is also used to construct confidence intervals for the population mean when the sample size is small and/or the population standard deviation is unknown.\n",
    "\n",
    "In general, the t-distribution should be used when:\n",
    "\n",
    "The population standard deviation is unknown, and the sample size is small (less than 30).\n",
    "The sample is drawn from a normally distributed population.\n",
    "The population is not normally distributed, but the sample size is large enough that the Central Limit Theorem applies.\n",
    "\n",
    "\n"
   ]
  },
  {
   "cell_type": "code",
   "execution_count": null,
   "id": "25205b4e-bdd9-43c8-a10a-6e2e8f4f8a4a",
   "metadata": {},
   "outputs": [],
   "source": []
  },
  {
   "cell_type": "markdown",
   "id": "08c118f5-6b42-4593-b28b-5f8a28e3fbea",
   "metadata": {},
   "source": [
    "Q12: What is t-statistic? State the formula for t-statistic.\n",
    "\n",
    "Ans: The t-statistic is a test statistic that measures the difference between the sample mean and the hypothesized population mean in units of the standard error of the sample mean. It is used in hypothesis testing to determine whether the difference between the sample mean and the hypothesized population mean is statistically significant.\n",
    "\n",
    "The formula for the t-statistic is:\n",
    "\n",
    "t = (x̄ - μ) / (s / √n)\n",
    "\n",
    "where:\n",
    "\n",
    "x̄ is the sample mean\n",
    "μ is the hypothesized population mean\n",
    "s is the sample standard deviation\n",
    "n is the sample size\n",
    "The t-statistic measures the number of standard errors that the sample mean is away from the hypothesized population mean. A t-statistic with a larger absolute value indicates a larger difference between the sample mean and the hypothesized population mean, and a smaller p-value, indicating stronger evidence against the null hypothesis.\n",
    "\n",
    "The t-statistic follows a t-distribution with n-1 degrees of freedom, assuming the sample is drawn from a normally distributed population and the population standard deviation is unknown."
   ]
  },
  {
   "cell_type": "code",
   "execution_count": null,
   "id": "90827e61-0ac6-4461-882b-884b2b431ba2",
   "metadata": {},
   "outputs": [],
   "source": []
  },
  {
   "cell_type": "markdown",
   "id": "1deecd50-e1d7-43e5-8cda-9a31c8694bdb",
   "metadata": {},
   "source": [
    "Q13. A coffee shop owner wants to estimate the average daily revenue for their shop. They take a random\n",
    "sample of 50 days and find the sample mean revenue to be $500 with a standard deviation of $50.\n",
    "Estimate the population mean revenue with a 95% confidence interval.\n",
    "\n",
    "Ans:\n",
    "    \n",
    "To estimate the population mean revenue with a 95% confidence interval, we can use the following formula:\n",
    "\n",
    "Confidence interval = x̄ ± tα/2 * (s/√n)\n",
    "\n",
    "where:\n",
    "\n",
    "x̄ = sample mean revenue = $500\n",
    "s = sample standard deviation = $50\n",
    "n = sample size = 50\n",
    "tα/2 = t-value for the desired level of confidence and degrees of freedom (df = n - 1)\n",
    "\n",
    "For a 95% confidence interval and 49 degrees of freedom, the t-value can be found using a t-distribution table or using a statistical software such as Python's scipy library. The t-value for a two-tailed test with a 95% confidence level and 49 degrees of freedom is approximately 2.009.\n",
    "\n",
    "Substituting these values into the formula, we get:\n",
    "\n",
    "Confidence interval = 500 ± 2.009 * (50/√50)\n",
    "\n",
    "Simplifying the equation, we get:\n",
    "\n",
    "Confidence interval = 500 ± 14.14\n",
    "\n",
    "Therefore, the 95% confidence interval for the population mean revenue is (500 - 14.14, 500 + 14.14), or approximately ($485.86, $514.14). This means that we can be 95% confident that the true population mean revenue falls within this interval."
   ]
  },
  {
   "cell_type": "code",
   "execution_count": null,
   "id": "4d21f5eb-3b29-4bf9-bee1-2313d1302a6f",
   "metadata": {},
   "outputs": [],
   "source": []
  },
  {
   "cell_type": "markdown",
   "id": "823644d4-f406-48ef-b375-adb465420dd6",
   "metadata": {},
   "source": [
    "Q14. A researcher hypothesizes that a new drug will decrease blood pressure by 10 mmHg. They conduct a\n",
    "clinical trial with 100 patients and find that the sample mean decrease in blood pressure is 8 mmHg with a\n",
    "standard deviation of 3 mmHg. Test the hypothesis with a significance level of 0.05.\n",
    "\n",
    "Ans:\n",
    "\n",
    "To test the hypothesis that the new drug decreases blood pressure by 10 mmHg, we need to perform a one-sample t-test with the following hypotheses:\n",
    "\n",
    "Null hypothesis: The mean decrease in blood pressure is not significantly different from 10 mmHg.\n",
    "\n",
    "Alternative hypothesis: The mean decrease in blood pressure is significantly less than 10 mmHg.\n",
    "\n",
    "The significance level is 0.05, which means we want to have a 95% confidence level.\n",
    "\n",
    "We can use the t-test formula to calculate the t-value and the p-value for this hypothesis test. The t-value is calculated as:\n",
    "\n",
    "t = (x̄ - μ) / (s / √n)\n",
    "\n",
    "where:\n",
    "\n",
    "x̄ = sample mean decrease in blood pressure = 8 mmHg\n",
    "μ = hypothesized mean decrease in blood pressure = 10 mmHg\n",
    "s = sample standard deviation = 3 mmHg\n",
    "n = sample size = 100\n",
    "\n",
    "Substituting the values into the formula, we get:\n",
    "\n",
    "t = (8 - 10) / (3 / √100) = -2.82\n",
    "\n",
    "The degrees of freedom for this test is n-1 = 99.\n",
    "\n",
    "Using a t-distribution table or statistical software, we can find the p-value associated with the t-value of -2.82 and 99 degrees of freedom. The p-value is approximately 0.0038.\n",
    "\n",
    "Since the p-value is less than the significance level of 0.05, we reject the null hypothesis and conclude that the mean decrease in blood pressure is significantly less than 10 mmHg at a 95% confidence level. In other words, the new drug is effective in decreasing blood pressure.\n",
    "\n",
    "\n",
    "\n",
    "\n",
    "\n"
   ]
  },
  {
   "cell_type": "code",
   "execution_count": null,
   "id": "8a66a154-f1ed-4837-89d3-a68498774ff0",
   "metadata": {},
   "outputs": [],
   "source": []
  },
  {
   "cell_type": "markdown",
   "id": "a2f24461-3284-400e-80b5-0755c2b401fc",
   "metadata": {},
   "source": [
    "Q15. An electronics company produces a certain type of product with a mean weight of 5 pounds and a\n",
    "standard deviation of 0.5 pounds. A random sample of 25 products is taken, and the sample mean weight\n",
    "is found to be 4.8 pounds. Test the hypothesis that the true mean weight of the products is less than 5\n",
    "pounds with a significance level of 0.01.\n",
    "\n",
    "Ans:\n",
    "\n",
    "To test the hypothesis that the true mean weight of the products is less than 5 pounds, we can perform a one-sample t-test with the following hypotheses:\n",
    "\n",
    "Null hypothesis: The true mean weight of the products is equal to 5 pounds.\n",
    "Alternative hypothesis: The true mean weight of the products is less than 5 pounds.\n",
    "\n",
    "The significance level is 0.01, which means we want to have a 99% confidence level.\n",
    "\n",
    "We can use the t-test formula to calculate the t-value and the p-value for this hypothesis test. The t-value is calculated as:\n",
    "\n",
    "t = (x̄ - μ) / (s / √n)\n",
    "\n",
    "where:\n",
    "\n",
    "x̄ = sample mean weight = 4.8 pounds\n",
    "μ = true mean weight = 5 pounds\n",
    "s = sample standard deviation = 0.5 pounds\n",
    "n = sample size = 25\n",
    "\n",
    "Substituting the values into the formula, we get:\n",
    "\n",
    "t = (4.8 - 5) / (0.5 / √25) = -2\n",
    "\n",
    "The degrees of freedom for this test is n-1 = 24.\n",
    "\n",
    "Using a t-distribution table or statistical software, we can find the p-value associated with the t-value of -2 and 24 degrees of freedom. The p-value is approximately 0.0294.\n",
    "\n",
    "since the p-value (0.0294) is greater than the significance level of 0.01, we fail to reject the null hypothesis and conclude that there is not enough evidence to suggest that the true mean weight of the products is less than 5 pounds."
   ]
  },
  {
   "cell_type": "code",
   "execution_count": null,
   "id": "63ffc6f3-7755-482b-98f5-9fea537c98cb",
   "metadata": {},
   "outputs": [],
   "source": []
  },
  {
   "cell_type": "markdown",
   "id": "1066c061-6a7d-47a6-a9d8-013e2abcacdf",
   "metadata": {},
   "source": [
    "Q16. Two groups of students are given different study materials to prepare for a test. The first group (n1 = 30) has a mean score of 80 with a standard deviation of 10, and the second group (n2 = 40) has a mean\n",
    "score of 75 with a standard deviation of 8. Test the hypothesis that the population means for the two\n",
    "groups are equal with a significance level of 0.01.\n",
    "\n",
    "Ans:\n",
    "\n",
    "To test the hypothesis that the population means for the two groups are equal, we can perform a two-sample t-test with the following hypotheses:\n",
    "\n",
    "Null hypothesis: μ1 - μ2 = 0, where μ1 and μ2 are the population means for the first and second groups, respectively.\n",
    "Alternative hypothesis: μ1 - μ2 ≠ 0\n",
    "\n",
    "The significance level is 0.01, which means we want to have a 99% confidence level.\n",
    "\n",
    "We can use the two-sample t-test formula to calculate the t-value and the p-value for this hypothesis test. The t-value is calculated as:\n",
    "\n",
    "t = (x̄1 - x̄2) / (s_p * √(1/n1 + 1/n2))\n",
    "\n",
    "where:\n",
    "\n",
    "x̄1 = sample mean score for the first group = 80\n",
    "x̄2 = sample mean score for the second group = 75\n",
    "s_p = pooled standard deviation = √(((n1-1)*s1^2 + (n2-1)*s2^2)/(n1+n2-2))\n",
    "s1 = standard deviation for the first group = 10\n",
    "s2 = standard deviation for the second group = 8\n",
    "n1 = sample size for the first group = 30\n",
    "n2 = sample size for the second group = 40\n",
    "\n",
    "Substituting the values into the formula, we get:\n",
    "\n",
    "s_p = √(((30-1)*10^2 + (40-1)*8^2)/(30+40-2)) = 9.018\n",
    "\n",
    "t = (80 - 75) / (9.018 * √(1/30 + 1/40)) = 2.50\n",
    "\n",
    "The degrees of freedom for this test is (n1 + n2 - 2) = 68.\n",
    "\n",
    "Using a t-distribution table or statistical software, we can find the p-value associated with the t-value of 2.50 and 68 degrees of freedom. The p-value is approximately 0.0148.\n",
    "\n",
    "Since the p-value is greater than the significance level of 0.01, we fail to reject the null hypothesis and conclude that there is insufficient evidence to suggest that the population means for the two groups are different at a 99% confidence level.\n"
   ]
  },
  {
   "cell_type": "code",
   "execution_count": null,
   "id": "b7befad4-45e6-4526-932c-00b651712740",
   "metadata": {},
   "outputs": [],
   "source": []
  },
  {
   "cell_type": "markdown",
   "id": "e6753a7b-87be-4115-8f09-a346a26d52ad",
   "metadata": {},
   "source": [
    "Q17. A marketing company wants to estimate the average number of ads watched by viewers during a TV\n",
    "program. They take a random sample of 50 viewers and find that the sample mean is 4 with a standard\n",
    "deviation of 1.5. Estimate the population mean with a 99% confidence interval.\n",
    "\n",
    "Ans:\n",
    "\n",
    "To estimate the population mean with a 99% confidence interval, we can use the following formula:\n",
    "\n",
    "Confidence interval = sample mean ± margin of error\n",
    "\n",
    "where the margin of error is given by:\n",
    "\n",
    "Margin of error = critical value × standard error\n",
    "\n",
    "The critical value can be found using a t-distribution with 49 degrees of freedom (n-1), and a 99% confidence level. Using a t-distribution table or calculator, the critical value for a two-tailed test is approximately 2.681.\n",
    "\n",
    "The standard error can be calculated as:\n",
    "\n",
    "Standard error = standard deviation / sqrt(sample size)\n",
    "\n",
    "Substituting the values we have:\n",
    "\n",
    "Standard error = 1.5 / sqrt(50) = 0.212\n",
    "\n",
    "The margin of error is then:\n",
    "\n",
    "Margin of error = 2.681 × 0.212 = 0.569\n",
    "\n",
    "Finally, the 99% confidence interval can be calculated as:\n",
    "\n",
    "Confidence interval = 4 ± 0.569\n",
    "\n",
    "Therefore, the 99% confidence interval for the population mean number of ads watched by viewers during a TV program is (3.431, 4.569)."
   ]
  },
  {
   "cell_type": "code",
   "execution_count": null,
   "id": "0e9d7781-b28f-4c8a-a7fa-e79c5783a163",
   "metadata": {},
   "outputs": [],
   "source": []
  }
 ],
 "metadata": {
  "kernelspec": {
   "display_name": "Python 3 (ipykernel)",
   "language": "python",
   "name": "python3"
  },
  "language_info": {
   "codemirror_mode": {
    "name": "ipython",
    "version": 3
   },
   "file_extension": ".py",
   "mimetype": "text/x-python",
   "name": "python",
   "nbconvert_exporter": "python",
   "pygments_lexer": "ipython3",
   "version": "3.10.8"
  }
 },
 "nbformat": 4,
 "nbformat_minor": 5
}
