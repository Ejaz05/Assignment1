{
 "cells": [
  {
   "cell_type": "markdown",
   "id": "8c2d7a66-7493-43a2-8a27-680f0771e5c3",
   "metadata": {},
   "source": [
    "Q1: What are the Probability Mass Function (PMF) and Probability Density Function (PDF)? Explain with\n",
    "an example.\n",
    "\n",
    "Ans:The Probability Mass Function (PMF) and Probability Density Function (PDF) are mathematical functions used to describe the probability distribution of a discrete random variable and a continuous random variable, respectively.\n",
    "\n",
    "Probability Mass Function (PMF):\n",
    "The PMF is a function that gives the probability that a discrete random variable takes on a specific value. It maps each possible value of the random variable to its probability of occurrence. The sum of all probabilities in the PMF is equal to 1.\n",
    "\n",
    "For example, consider a fair six-sided die. The PMF of this die is given by:\n",
    "\n",
    "x\t1\t2\t3\t4\t5\t6\n",
    "P(x)\t1/6\t1/6\t1/6\t1/6\t1/6\t1/6\n",
    "Here, the random variable x takes on the values 1, 2, 3, 4, 5, and 6 with equal probability of 1/6. This is an example of a discrete probability distribution.\n",
    "\n",
    "Probability Density Function (PDF):\n",
    "The PDF is a function that gives the probability density of a continuous random variable at a given point. It represents the relative likelihood of the random variable taking on a specific value, rather than the probability of taking on a specific value itself. The total area under the PDF curve is equal to 1.\n",
    "\n",
    "For example, consider a normal distribution with a mean of 0 and a standard deviation of 1. The PDF of this distribution is given by:\n",
    "\n",
    "Normal Distribution PDF\n",
    "\n",
    "Here, the probability density is highest at the mean of 0 and decreases symmetrically as we move away from the mean in both positive and negative directions. The area under the curve between two points represents the probability of the random variable taking on values between those points.\n",
    "\n",
    "In summary, the PMF is used to describe the probability distribution of a discrete random variable, while the PDF is used to describe the probability distribution of a continuous random variable."
   ]
  },
  {
   "cell_type": "code",
   "execution_count": null,
   "id": "308f8d52-9555-462f-a252-3cb118c050ed",
   "metadata": {},
   "outputs": [],
   "source": []
  },
  {
   "cell_type": "markdown",
   "id": "170a5ad6-2f71-4414-98a7-5f92a5ce367b",
   "metadata": {},
   "source": [
    "Q2: What is Cumulative Density Function (CDF)? Explain with an example. Why CDF is used?\n",
    "\n",
    "Ans: The Cumulative Density Function (CDF) is a function that gives the probability that a random variable takes a value less than or equal to a certain point. It describes the cumulative probability distribution of a random variable.\n",
    "\n",
    "For a discrete random variable, the CDF is the sum of all the probabilities of the outcomes less than or equal to a certain value. For a continuous random variable, the CDF is the integral of the PDF up to that value.\n",
    "\n",
    "For example, consider a fair six-sided die. The CDF of this die is given by:\n",
    "\n",
    "x\t1\t2\t3\t4\t5\t6\n",
    "F(x)\t1/6\t1/3\t1/2\t2/3\t5/6\t1\n",
    "\n",
    "Here, the probability of rolling a value less than or equal to 3 is F(3) = 1/2. The CDF is useful because it provides a simple way to compute the probability of a random variable taking on values less than or equal to a certain point, without having to sum or integrate all the individual probabilities.\n",
    "\n",
    "The CDF is also useful for calculating percentiles of a distribution. The p-th percentile of a distribution is the value below which p% of the observations fall. For example, the median of a distribution is the 50th percentile. We can use the CDF to find the value of the random variable corresponding to a given percentile.\n",
    "\n",
    "In summary, the CDF is a function that gives the cumulative probability distribution of a random variable. It is useful for computing probabilities and percentiles, and for comparing different probability distributions.\n",
    "\n"
   ]
  },
  {
   "cell_type": "code",
   "execution_count": null,
   "id": "0d3ce6e5-9475-4940-8952-3d289b6c42ee",
   "metadata": {},
   "outputs": [],
   "source": []
  },
  {
   "cell_type": "markdown",
   "id": "b99568db-21c4-4c59-b7cb-697263a96a21",
   "metadata": {},
   "source": [
    "Q3: What are some examples of situations where the normal distribution might be used as a model?\n",
    "Explain how the parameters of the normal distribution relate to the shape of the distribution.\n",
    "\n",
    "Ans: The normal distribution is a commonly used probability distribution that models many natural and social phenomena. Some examples of situations where the normal distribution might be used as a model include:\n",
    "\n",
    "Heights of adult humans: The heights of adult humans are often modeled using the normal distribution. The mean and standard deviation of the distribution depend on factors such as gender, age, and ethnicity.\n",
    "\n",
    "Test scores: The scores on many standardized tests, such as the SAT and GRE, are often modeled using the normal distribution. The mean and standard deviation of the distribution depend on the difficulty of the test and the population of test takers.\n",
    "\n",
    "Error terms in regression analysis: The error terms in many regression models are assumed to be normally distributed. This assumption allows for the use of statistical inference techniques such as hypothesis testing and confidence intervals.\n",
    "\n",
    "The normal distribution is characterized by two parameters: the mean (μ) and the standard deviation (σ). The mean specifies the center of the distribution, and the standard deviation specifies the spread or variability of the distribution. The larger the value of σ, the wider and more spread out the distribution is. Similarly, the smaller the value of σ, the narrower and more concentrated the distribution is.\n",
    "\n",
    "The shape of the normal distribution is bell-shaped, symmetric, and unimodal. It is characterized by the empirical rule or the 68-95-99.7 rule, which states that approximately 68%, 95%, and 99.7% of the data falls within one, two, and three standard deviations of the mean, respectively. The normal distribution is a very important and useful distribution, due to its many mathematical and statistical properties, such as the central limit theorem, which states that the sum of a large number of independent and identically distributed random variables tends to be normally distributed, regardless of the underlying distribution of the individual variables. "
   ]
  },
  {
   "cell_type": "markdown",
   "id": "78004d7b-b34e-4856-a50f-023f57da8c81",
   "metadata": {},
   "source": [
    "Q4: Explain the importance of Normal Distribution. Give a few real-life examples of Normal\n",
    "Distribution.\n",
    "\n",
    "Ans: The normal distribution, also known as the Gaussian distribution, is one of the most important probability distributions in statistics and data analysis. It is important because it appears in many natural and social phenomena, and it has many useful mathematical and statistical properties.\n",
    "\n",
    "Some real-life examples of normal distribution are:\n",
    "\n",
    "Heights of adult humans: The heights of adult humans follow a normal distribution, with the mean height being around 5 feet 7 inches for men and 5 feet 3 inches for women. This distribution is useful for clothing manufacturers, furniture designers, and other industries that require information about human dimensions.\n",
    "\n",
    "Test scores: The scores on many standardized tests, such as the SAT and GRE, follow a normal distribution. This distribution is useful for educational institutions, employers, and others who need to compare the performance of different individuals or groups.\n",
    "\n",
    "IQ scores: The distribution of IQ scores in the population is approximately normal, with a mean of 100 and a standard deviation of 15. This distribution is useful for psychologists, educators, and others who study intelligence and cognitive abilities.\n",
    "\n",
    "Stock prices: The daily returns on stock prices for many companies follow a normal distribution, with a mean return of 0% and a standard deviation of around 1%. This distribution is useful for investors and financial analysts who need to model and predict stock market behavior.\n",
    "\n",
    "Blood pressure: The distribution of blood pressure in the population is approximately normal, with a mean of around 120/80 mmHg and a standard deviation of around 10 mmHg. This distribution is useful for physicians and researchers who study cardiovascular health.\n",
    "\n",
    "The normal distribution is important because it is a widely used model for many natural and social phenomena, and it has many useful mathematical and statistical properties, such as:\n",
    "\n",
    "Symmetry: The normal distribution is symmetric around its mean, which makes it easy to calculate probabilities and statistical measures.\n",
    "\n",
    "Central limit theorem: The sum or average of a large number of independent and identically distributed random variables tends to be approximately normally distributed, regardless of the underlying distribution of the individual variables.\n",
    "\n",
    "Standardization: The normal distribution can be easily standardized, which allows for comparisons between different data sets and the calculation of z-scores.\n",
    "\n",
    "Probability calculations: The normal distribution has a well-known and well-defined probability density function and cumulative distribution function, which makes it easy to calculate probabilities and statistical measures.\n",
    "\n",
    "Overall, the normal distribution is an important and useful tool for modeling and analyzing many natural and social phenomena, and for making statistical inferences and predictions."
   ]
  },
  {
   "cell_type": "markdown",
   "id": "b6894a53-c862-400c-b501-e1d99a5c6e71",
   "metadata": {},
   "source": [
    "Q5: What is Bernaulli Distribution? Give an Example. What is the difference between Bernoulli\n",
    "Distribution and Binomial Distribution?\n",
    "\n",
    "Ans:The Bernoulli distribution is a probability distribution that models the outcome of a single binary experiment or trial, which can have only two possible outcomes, usually denoted as success and failure. It is named after Swiss mathematician Jacob Bernoulli.\n",
    "\n",
    "The probability mass function (PMF) of the Bernoulli distribution is:\n",
    "\n",
    "P(X = 1) = p, P(X = 0) = 1 - p\n",
    "\n",
    "where p is the probability of success and 1 - p is the probability of failure.\n",
    "\n",
    "An example of Bernoulli distribution is the result of a coin toss, where success is defined as getting heads and failure is defined as getting tails. Another example is the outcome of a single roll of a fair six-sided die, where success is defined as getting a specific number, say 3, and failure is defined as getting any other number.\n",
    "\n",
    "The main difference between Bernoulli distribution and Binomial distribution is that Bernoulli distribution models the outcome of a single trial, whereas the Binomial distribution models the outcome of multiple independent and identical Bernoulli trials.\n",
    "\n",
    "In other words, if we perform n independent Bernoulli trials with the same probability of success p, then the number of successes X follows a Binomial distribution with parameters n and p.\n",
    "\n",
    "The probability mass function (PMF) of the Binomial distribution is:\n",
    "\n",
    "P(X = k) = (n choose k) * p^k * (1 - p)^(n-k)\n",
    "\n",
    "where k is the number of successes, n is the number of trials, p is the probability of success in each trial, and (n choose k) is the binomial coefficient, which gives the number of ways to choose k successes from n trials.\n",
    "\n",
    "An example of Binomial distribution is the number of heads obtained when flipping a coin n times. If the coin is fair, then the probability of getting a head is 0.5, and the number of heads obtained follows a Binomial distribution with parameters n and 0.5. Another example is the number of defective items in a sample of size n from a production line with a known defect rate p.\n",
    "\n",
    "In summary, the Bernoulli distribution models the outcome of a single binary trial, whereas the Binomial distribution models the number of successes in a fixed number of independent and identical Bernoulli trials."
   ]
  },
  {
   "cell_type": "markdown",
   "id": "06fde96e-f12f-4c20-aa2e-59094ed929c1",
   "metadata": {},
   "source": [
    "Q6. Consider a dataset with a mean of 50 and a standard deviation of 10. If we assume that the dataset\n",
    "is normally distributed, what is the probability that a randomly selected observation will be greater\n",
    "than 60? Use the appropriate formula and show your calculations."
   ]
  },
  {
   "cell_type": "markdown",
   "id": "2a8d0923-b9f3-4b8b-91d9-cc10914ec48b",
   "metadata": {},
   "source": [
    "To solve this problem, we need to use the standard normal distribution, which is a normal distribution with a mean of 0 and a standard deviation of 1. We can standardize the dataset using the following formula:\n",
    "\n",
    "z = (x - μ) / σ\n",
    "\n",
    "where z is the standard normal variable, x is the dataset value, μ is the mean, and σ is the standard deviation.\n",
    "\n",
    "In our case, we have:\n",
    "\n",
    "x = 60\n",
    "μ = 50\n",
    "σ = 10\n",
    "\n",
    "So, we can compute z as:\n",
    "\n",
    "z = (60 - 50) / 10 = 1\n",
    "\n",
    "Using the standard normal distribution table or calculator, we can find that the probability of a standard normal variable being greater than 1 is approximately 0.1587.\n",
    "\n",
    "Therefore, the probability that a randomly selected observation from our dataset will be greater than 60 is approximately 0.1587 or 15.87%."
   ]
  },
  {
   "cell_type": "markdown",
   "id": "d9597104-d47b-4934-b184-90840ad5f9ab",
   "metadata": {},
   "source": [
    "Q7: Explain uniform Distribution with an example.\n",
    "\n",
    "The uniform distribution is a continuous probability distribution that is used to model situations where every value within a certain interval has an equal chance of occurring. In other words, the probability density function of a uniform distribution is constant over the interval and zero outside it.\n",
    "\n",
    "The probability density function of a uniform distribution over the interval [a, b] is given by:\n",
    "\n",
    "f(x) = 1 / (b - a) for a ≤ x ≤ b\n",
    "\n",
    "For example, let's consider a scenario where a manufacturer produces rectangular sheets of glass. The width of the glass sheets is known to follow a uniform distribution over the interval [2, 5] feet. This means that any width between 2 and 5 feet is equally likely to occur, and there is zero probability of a width outside this interval.\n",
    "\n",
    "Suppose we want to calculate the probability that a randomly selected glass sheet has a width between 3 and 4 feet. We can use the uniform distribution probability density function to do this:\n",
    "\n",
    "P(3 ≤ x ≤ 4) = ∫[3, 4] f(x) dx\n",
    "\n",
    "P(3 ≤ x ≤ 4) = ∫[3, 4] 1 / (5 - 2) dx\n",
    "\n",
    "P(3 ≤ x ≤ 4) = (4 - 3) / (5 - 2)\n",
    "\n",
    "P(3 ≤ x ≤ 4) = 1/3\n",
    "\n",
    "Therefore, the probability that a randomly selected glass sheet has a width between 3 and 4 feet is 1/3 or approximately 0.333.\n",
    "\n",
    "\n",
    "\n"
   ]
  },
  {
   "cell_type": "markdown",
   "id": "324a80c5-2650-4f07-bd57-79cfd1f05b7c",
   "metadata": {},
   "source": [
    "Q8: What is the z score? State the importance of the z score.\n",
    "\n",
    "The z-score, also known as the standard score, is a statistical measure that indicates how many standard deviations a data point is from the mean of a dataset. It is calculated by subtracting the mean from the data point and then dividing by the standard deviation:\n",
    "\n",
    "z = (x - μ) / σ\n",
    "\n",
    "where z is the z-score, x is the data point, μ is the mean, and σ is the standard deviation.\n",
    "\n",
    "The z-score is important because it allows us to compare data points from different datasets that may have different units and scales. By converting the data points to standardized units (i.e., z-scores), we can make meaningful comparisons and draw conclusions about the relative positions of the data points within their respective datasets.\n",
    "\n",
    "For example, suppose we want to compare the heights of two groups of people, one from the United States and one from Canada. The heights are measured in different units (inches for the US and centimeters for Canada), which makes direct comparison difficult. However, if we convert the heights to z-scores based on the mean and standard deviation of each group, we can compare the relative positions of the heights within each group and draw conclusions about which group has taller people overall.\n",
    "\n",
    "In addition, the z-score can also be used to calculate probabilities associated with a particular data point or range of data points. This is because the standard normal distribution (i.e., the normal distribution with a mean of 0 and standard deviation of 1) is used as a reference distribution for calculating probabilities based on z-scores."
   ]
  },
  {
   "cell_type": "markdown",
   "id": "1cd1da9e-8635-44de-8d9f-e54f7ae2a481",
   "metadata": {},
   "source": [
    "Q9: What is Central Limit Theorem? State the significance of the Central Limit Theorem.\n",
    "\n",
    "Ans: The Central Limit Theorem (CLT) is a fundamental theorem in statistics that describes the behavior of the sample mean (or sum) of a large number of independent and identically distributed (iid) random variables, regardless of their underlying distribution. The theorem states that as the sample size increases, the distribution of the sample mean approaches a normal distribution with a mean equal to the population mean and a variance equal to the population variance divided by the sample size.\n",
    "\n",
    "The significance of the CLT is that it provides a framework for making statistical inferences about the population mean based on a sample mean. Specifically, it allows us to use the normal distribution to make estimates and test hypotheses about the population mean, even if we do not know the underlying distribution of the population. This is because the CLT implies that, under certain conditions, the sample mean will be normally distributed regardless of the underlying distribution of the population.\n",
    "\n",
    "The CLT has many practical applications in statistics and data analysis, including hypothesis testing, confidence interval estimation, and parameter estimation. It is also important in the design and analysis of experiments, where it is used to determine the appropriate sample size needed to obtain a desired level of precision in estimating the population mean.\n",
    "\n",
    "Overall, the CLT is a powerful tool that enables us to draw reliable conclusions about the population mean based on a sample mean, even when the underlying distribution of the population is unknown or non-normal.\n"
   ]
  },
  {
   "cell_type": "code",
   "execution_count": null,
   "id": "0019c6c0-627f-482b-9472-cb14eff4924a",
   "metadata": {},
   "outputs": [],
   "source": []
  },
  {
   "cell_type": "markdown",
   "id": "784c28fb-155e-490c-b3fa-ff02dab83dd6",
   "metadata": {},
   "source": [
    "Q10: State the assumptions of the Central Limit Theorem.\n",
    "\n",
    "Ans:\n",
    "The Central Limit Theorem (CLT) makes the following assumptions:\n",
    "\n",
    "Independence: The random variables in the sample must be independent of each other.\n",
    "\n",
    "Identically distributed: The random variables in the sample must be identically distributed, meaning they come from the same population.\n",
    "\n",
    "Finite variance: The population must have a finite variance. If the population has an infinite variance, the CLT may still hold under certain conditions.\n",
    "\n",
    "If these assumptions are met, then the CLT guarantees that as the sample size increases, the distribution of the sample mean approaches a normal distribution with a mean equal to the population mean and a variance equal to the population variance divided by the sample size.    "
   ]
  },
  {
   "cell_type": "code",
   "execution_count": null,
   "id": "20e898ea-c348-4a93-8065-0b2702fbebfb",
   "metadata": {},
   "outputs": [],
   "source": []
  }
 ],
 "metadata": {
  "kernelspec": {
   "display_name": "Python 3 (ipykernel)",
   "language": "python",
   "name": "python3"
  },
  "language_info": {
   "codemirror_mode": {
    "name": "ipython",
    "version": 3
   },
   "file_extension": ".py",
   "mimetype": "text/x-python",
   "name": "python",
   "nbconvert_exporter": "python",
   "pygments_lexer": "ipython3",
   "version": "3.10.8"
  }
 },
 "nbformat": 4,
 "nbformat_minor": 5
}
