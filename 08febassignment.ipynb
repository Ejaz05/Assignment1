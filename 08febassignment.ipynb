{
 "cells": [
  {
   "cell_type": "code",
   "execution_count": 1,
   "id": "0aa6f420-40cb-4856-b84e-0ecf1139f535",
   "metadata": {},
   "outputs": [],
   "source": [
    "#Q1. What is Abstraction in OOps? Explain with an example.\n",
    "#Q2. Differentiate between Abstraction and Encapsulation. Explain with an example.\n",
    "#Q3. What is abc module in python? Why is it used?\n",
    "#Q4. How can we achieve data abstraction?\n",
    "#Q5. Can we create an instance of an abstract class? Explain your answer"
   ]
  },
  {
   "cell_type": "code",
   "execution_count": null,
   "id": "bcaeee83-d521-4ef4-a8e6-a0ce4218402a",
   "metadata": {},
   "outputs": [],
   "source": [
    "#A1. Abstraction in OOPs refers to the process of hiding the implementation details and showing only the necessary information to the users. This helps in reducing the complexity of the system and improving the security of the implementation. An example of abstraction in OOPs can be seen in a bank system, where a customer interacts with the bank using a debit card, but the internal workings of the system such as the database, servers, and the algorithms used for transactions, are hidden from the customer.\n",
    "\n",
    "#A2. Abstraction and Encapsulation are related concepts in OOPs but are different from each other. Abstraction refers to the process of hiding the implementation details and showing only the necessary information to the users. On the other hand, Encapsulation refers to the wrapping of data and functions within a single unit or object. Encapsulation helps in hiding the implementation details and providing a secure way to access the data. An example of Encapsulation can be seen in a class where member variables are kept private and accessed through public methods.\n",
    "\n",
    "#A3. The abc (Abstract Base Class) module in Python is used to define abstract base classes. An abstract base class is a class that cannot be instantiated and is meant to be subclassed. The abstract base class defines the interface for the subclass and provides a way to check if a subclass implements the required methods.\n",
    "\n",
    "#A4. Data abstraction can be achieved in OOPs using abstract classes and interfaces. An abstract class is a class that cannot be instantiated and is meant to be subclassed. The abstract class defines the interface for the subclass and provides a way to check if a subclass implements the required methods. Interfaces, on the other hand, provide a way to define the methods that a class must implement, without specifying the implementation details.\n",
    "\n",
    "#A5. No, an instance of an abstract class cannot be created. An abstract class is meant to be subclassed and not meant to be instantiated directly. The purpose of an abstract class is to provide a base structure for the subclasses to build upon.\n",
    "\n",
    "\n",
    "\n"
   ]
  }
 ],
 "metadata": {
  "kernelspec": {
   "display_name": "Python 3 (ipykernel)",
   "language": "python",
   "name": "python3"
  },
  "language_info": {
   "codemirror_mode": {
    "name": "ipython",
    "version": 3
   },
   "file_extension": ".py",
   "mimetype": "text/x-python",
   "name": "python",
   "nbconvert_exporter": "python",
   "pygments_lexer": "ipython3",
   "version": "3.10.8"
  }
 },
 "nbformat": 4,
 "nbformat_minor": 5
}
