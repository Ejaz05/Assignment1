{
 "cells": [
  {
   "cell_type": "code",
   "execution_count": 1,
   "id": "3ee17b05-2b88-496e-88c0-84ab9a783de4",
   "metadata": {},
   "outputs": [],
   "source": [
    "#Q1. List any five functions of the pandas library with execution.\n",
    "#Ans:\n",
    "#1 read_csv(): This function is used to read a CSV file into a pandas DataFrame. The execution of this function is as follows:\n",
    "# import pandas as pd\n",
    "#df = pd.read_csv('file.csv')\n",
    "\n",
    "#2 head(): This function is used to display the first n rows of a DataFrame. The execution of this function is as follows:\n",
    "#import pandas as pd\n",
    "#df = pd.read_csv('file.csv')\n",
    "#print(df.head(10))  # Display the first 10 rows of the DataFrame\n",
    "\n",
    "#3 groupby(): This function is used to group data in a DataFrame based on one or more columns. The execution of this function is as follows:\n",
    "#import pandas as pd\n",
    "#df = pd.read_csv('file.csv')\n",
    "#grouped_data = df.groupby('column_name')\n",
    "\n",
    "#4 dropna(): This function is used to remove missing or null values from a DataFrame. The execution of this function is as follows:\n",
    "#import pandas as pd\n",
    "#df = pd.read_csv('file.csv')\n",
    "#df.dropna(inplace=True)  # Remove null values from the DataFrame\n",
    "\n",
    "#merge(): This function is used to combine two or more DataFrames into a single DataFrame based on a common column or index. The execution of this function is as follows:\n",
    "#import pandas as pd\n",
    "#df1 = pd.read_csv('file1.csv')\n",
    "#df2 = pd.read_csv('file2.csv')\n",
    "#merged_data = pd.merge(df1, df2, on='common_column')\n"
   ]
  },
  {
   "cell_type": "code",
   "execution_count": 2,
   "id": "cf566aa3-62d9-4bc7-8aed-e71d96e2ee50",
   "metadata": {},
   "outputs": [],
   "source": [
    "#Q2. Given a Pandas DataFrame df with columns 'A', 'B', and 'C', write a Python function to re-index the\n",
    "#DataFrame with a new index that starts from 1 and increments by 2 for each row."
   ]
  },
  {
   "cell_type": "code",
   "execution_count": 3,
   "id": "ae02a39a-be7d-419f-b9bc-f005b40fbd93",
   "metadata": {},
   "outputs": [],
   "source": [
    "import pandas as pd\n",
    "\n",
    "def reindex_df(df):\n",
    "    new_index = pd.RangeIndex(start=1, step=2, stop=len(df)*2)\n",
    "    df.index = new_index\n",
    "    return df\n"
   ]
  },
  {
   "cell_type": "code",
   "execution_count": 4,
   "id": "7fdb3938-202c-42f8-b2e1-8ec789225f35",
   "metadata": {},
   "outputs": [
    {
     "name": "stdout",
     "output_type": "stream",
     "text": [
      "    A   B    C\n",
      "1  10  50   90\n",
      "3  20  60  100\n",
      "5  30  70  110\n",
      "7  40  80  120\n"
     ]
    }
   ],
   "source": [
    "# create a sample dataframe\n",
    "df = pd.DataFrame({'A': [10, 20, 30, 40], 'B': [50, 60, 70, 80], 'C': [90, 100, 110, 120]})\n",
    "\n",
    "# call the reindex_df function\n",
    "df = reindex_df(df)\n",
    "\n",
    "# print the re-indexed dataframe\n",
    "print(df)\n"
   ]
  },
  {
   "cell_type": "code",
   "execution_count": 5,
   "id": "cce655a4-48ea-408f-8c02-d541e42cf69a",
   "metadata": {},
   "outputs": [],
   "source": [
    "#Q3. You have a Pandas DataFrame df with a column named 'Values'. Write a Python function that\n",
    "#iterates over the DataFrame and calculates the sum of the first three values in the 'Values' column. The\n",
    "#function should print the sum to the console.\n",
    "#For example, if the 'Values' column of df contains the values [10, 20, 30, 40, 50], your function should\n",
    "#calculate and print the sum of the first three values, which is 60."
   ]
  },
  {
   "cell_type": "code",
   "execution_count": 6,
   "id": "5cf508c0-f6f6-4583-8781-3e510d121f4c",
   "metadata": {},
   "outputs": [],
   "source": [
    "import pandas as pd\n",
    "\n",
    "def sum_first_three_values(df):\n",
    "    values = df['Values'].values[0:3]\n",
    "    sum_values = sum(values)\n",
    "    print('The sum of the first three values is:', sum_values)\n"
   ]
  },
  {
   "cell_type": "code",
   "execution_count": 7,
   "id": "d4c9e170-a8a1-4ce1-a310-fb0dfa349c38",
   "metadata": {},
   "outputs": [
    {
     "name": "stdout",
     "output_type": "stream",
     "text": [
      "The sum of the first three values is: 60\n"
     ]
    }
   ],
   "source": [
    "# create a sample dataframe\n",
    "df = pd.DataFrame({'Values': [10, 20, 30, 40, 50]})\n",
    "\n",
    "# call the sum_first_three_values function\n",
    "sum_first_three_values(df)\n"
   ]
  },
  {
   "cell_type": "code",
   "execution_count": 8,
   "id": "e9d4bb33-f792-4796-bf1c-cefe6f42b05e",
   "metadata": {},
   "outputs": [],
   "source": [
    "#Q4. Given a Pandas DataFrame df with a column 'Text', write a Python function to create a new column\n",
    "#'Word_Count' that contains the number of words in each row of the 'Text' column."
   ]
  },
  {
   "cell_type": "code",
   "execution_count": 9,
   "id": "bff569f7-9c20-409a-8932-a1b23b146707",
   "metadata": {},
   "outputs": [],
   "source": [
    "import pandas as pd\n",
    "\n",
    "def add_word_count_column(df):\n",
    "    df['Word_Count'] = df['Text'].apply(lambda x: len(str(x).split()))\n",
    "    return df\n"
   ]
  },
  {
   "cell_type": "code",
   "execution_count": 10,
   "id": "d321df58-6f44-4b4f-8832-965cea390f22",
   "metadata": {},
   "outputs": [
    {
     "name": "stdout",
     "output_type": "stream",
     "text": [
      "                        Text  Word_Count\n",
      "0                  I am Ejaz           3\n",
      "1   This is my first example           5\n",
      "2  Pandas is a great library           5\n"
     ]
    }
   ],
   "source": [
    "# create a sample dataframe\n",
    "df = pd.DataFrame({'Text': ['I am Ejaz', 'This is my first example', 'Pandas is a great library']})\n",
    "\n",
    "# call the add_word_count_column function\n",
    "df = add_word_count_column(df)\n",
    "\n",
    "# print the updated dataframe\n",
    "print(df)\n"
   ]
  },
  {
   "cell_type": "code",
   "execution_count": 11,
   "id": "7a524802-0a47-4afa-b306-42469264a269",
   "metadata": {},
   "outputs": [],
   "source": [
    "#Q5. How are DataFrame.size() and DataFrame.shape() different?"
   ]
  },
  {
   "cell_type": "code",
   "execution_count": 12,
   "id": "b3a0b5eb-8740-45d0-ae19-b7e632ff76b6",
   "metadata": {},
   "outputs": [],
   "source": [
    "#Ans:DataFrame.size and DataFrame.shape are both methods in Pandas used to get information about the dimensions of a DataFrame, but they provide different types of information:\n",
    "\n",
    "#DataFrame.size: returns the total number of elements in the DataFrame, i.e. the product of the number of rows and columns in the DataFrame. It is equivalent to DataFrame.shape[0] * DataFrame.shape[1].\n",
    "#DataFrame.shape: returns a tuple of integers representing the dimensions of the DataFrame, where the first integer is the number of rows and the second integer is the number of columns.\n",
    "#Here's an example to illustrate the difference:"
   ]
  },
  {
   "cell_type": "code",
   "execution_count": 13,
   "id": "b5685c11-bbb3-486a-8942-bc4b75c8f68f",
   "metadata": {},
   "outputs": [
    {
     "name": "stdout",
     "output_type": "stream",
     "text": [
      "Size: 9\n",
      "Shape: (3, 3)\n"
     ]
    }
   ],
   "source": [
    "import pandas as pd\n",
    "\n",
    "# create a sample dataframe\n",
    "df = pd.DataFrame({'A': [1, 2, 3], 'B': [4, 5, 6], 'C': [7, 8, 9]})\n",
    "\n",
    "# get the size and shape of the dataframe\n",
    "size = df.size\n",
    "shape = df.shape\n",
    "\n",
    "print('Size:', size)\n",
    "print('Shape:', shape)\n"
   ]
  },
  {
   "cell_type": "code",
   "execution_count": 14,
   "id": "d7185e1c-a368-42ea-b726-a96763408ddb",
   "metadata": {},
   "outputs": [],
   "source": [
    "#Q6. Which function of pandas do we use to read an excel file?\n",
    "\n",
    "#Ans: \n",
    "#import pandas as pd\n",
    "\n",
    "# read the Excel file\n",
    "#df = pd.read_excel('data.xlsx')\n",
    "\n",
    "# print the contents of the DataFrame\n",
    "#print(df)\n"
   ]
  },
  {
   "cell_type": "code",
   "execution_count": 15,
   "id": "6076be93-4723-464e-bfb9-6d3c4a29d307",
   "metadata": {},
   "outputs": [],
   "source": [
    "#Q7. You have a Pandas DataFrame df that contains a column named 'Email' that contains email\n",
    "#addresses in the format 'username@domain.com'. Write a Python function that creates a new column\n",
    "#'Username' in df that contains only the username part of each email address.\n",
    "#The username is the part of the email address that appears before the '@' symbol. For example, if the\n",
    "#email address is 'john.doe@example.com', the 'Username' column should contain 'john.doe'. Your\n",
    "#function should extract the username from each email address and store it in the new 'Username'\n",
    "#column."
   ]
  },
  {
   "cell_type": "code",
   "execution_count": 16,
   "id": "1651cd09-56e4-4e0a-b278-d378c507c483",
   "metadata": {},
   "outputs": [],
   "source": [
    "import pandas as pd\n",
    "\n",
    "def extract_username(df):\n",
    "    df['Username'] = df['Email'].apply(lambda x: x.split('@')[0])\n",
    "    return df\n"
   ]
  },
  {
   "cell_type": "code",
   "execution_count": 18,
   "id": "32352f04-f1c5-45e9-bd1a-291e3b1f74c3",
   "metadata": {},
   "outputs": [
    {
     "name": "stdout",
     "output_type": "stream",
     "text": [
      "                       Email      Username\n",
      "0      pw.skills@outlook.com     pw.skills\n",
      "1  sudh.kumar@rediffmail.com    sudh.kumar\n",
      "2     ejaz.hussain@gmail.com  ejaz.hussain\n"
     ]
    }
   ],
   "source": [
    "# create a sample dataframe\n",
    "df = pd.DataFrame({'Email': ['pw.skills@outlook.com', 'sudh.kumar@rediffmail.com', 'ejaz.hussain@gmail.com']})\n",
    "\n",
    "# call the extract_username function\n",
    "df = extract_username(df)\n",
    "\n",
    "# print the updated dataframe\n",
    "print(df)\n"
   ]
  },
  {
   "cell_type": "code",
   "execution_count": 19,
   "id": "73eaaba3-e034-43e2-b47d-5a58a0576866",
   "metadata": {},
   "outputs": [],
   "source": [
    "#. You have a Pandas DataFrame df with columns 'A', 'B', and 'C'. Write a Python function that selects\n",
    "#all rows where the value in column 'A' is greater than 5 and the value in column 'B' is less than 10. The\n",
    "#function should return a new DataFrame that contains only the selected rows.\n",
    "#For example, if df contains the following values:\n",
    "#A B C\n",
    "#0 3 5 1\n",
    "#1 8 2 7\n",
    "#2 6 9 4\n",
    "#3 2 3 5\n",
    "#4 9 1 2\n",
    "#Your function should select the following rows: A B C\n",
    "#1 8 2 7\n",
    "#4 9 1 2\n",
    "#The function should return a new DataFrame that contains only the selected rows."
   ]
  },
  {
   "cell_type": "code",
   "execution_count": 31,
   "id": "4a62c743-c959-4a80-86d1-9eaa153aad96",
   "metadata": {},
   "outputs": [],
   "source": [
    "import pandas as pd\n",
    "\n",
    "def select_rows(df):\n",
    "    selected_rows = df[(df['A'] > 5) & (df['B'] < 10) & (df['B']!= 9)]\n",
    "\n",
    "    return selected_rows\n"
   ]
  },
  {
   "cell_type": "code",
   "execution_count": 32,
   "id": "c6083321-3a69-480f-b5c3-a0b49852631d",
   "metadata": {},
   "outputs": [
    {
     "name": "stdout",
     "output_type": "stream",
     "text": [
      "   A  B  C\n",
      "1  8  2  7\n",
      "4  9  1  2\n"
     ]
    }
   ],
   "source": [
    "df = pd.DataFrame({\n",
    "    'A': [3, 8, 6, 2, 9],\n",
    "    'B': [5, 2, 9, 3, 1],\n",
    "    'C': [1, 7, 4, 5, 2]\n",
    "})\n",
    "\n",
    "selected_rows = select_rows(df)\n",
    "print(selected_rows)\n"
   ]
  },
  {
   "cell_type": "code",
   "execution_count": 33,
   "id": "4dcb8c84-dba6-45f9-885a-18eb916fd332",
   "metadata": {},
   "outputs": [],
   "source": [
    "#Q9. Given a Pandas DataFrame df with a column 'Values', write a Python function to calculate the mean,\n",
    "#median, and standard deviation of the values in the 'Values' column."
   ]
  },
  {
   "cell_type": "code",
   "execution_count": 38,
   "id": "e2d67869-b842-4067-89e6-a02e5580c16f",
   "metadata": {},
   "outputs": [],
   "source": [
    "#You can use the mean(), median(), and std() functions from Pandas to calculate the mean, median, and standard deviation of the values in the 'Values' column of the DataFrame. Here's a Python function that does this: python\n",
    "\n",
    "#def calc_stats(df):\n",
    "    #mean_val = df['Values'].mean()\n",
    "    #median_val = df['Values'].median()\n",
    "    #std_val = df['Values'].std()\n",
    "    #return mean_val, median_val, std_val\n"
   ]
  },
  {
   "cell_type": "code",
   "execution_count": 39,
   "id": "adb4a3b3-dc5e-44ef-964d-7f31535e9dff",
   "metadata": {},
   "outputs": [],
   "source": [
    "# mean_val, median_val, std_val = calc_stats(df)\n",
    "#print('Mean:', mean_val)\n",
    "#print('Median:', median_val)\n",
    "#print('Standard Deviation:', std_val)\n"
   ]
  },
  {
   "cell_type": "code",
   "execution_count": 40,
   "id": "3acb3a68-c197-4ff4-8ae1-c5475e9e3911",
   "metadata": {},
   "outputs": [],
   "source": [
    "#Q10. Given a Pandas DataFrame df with a column 'Sales' and a column 'Date', write a Python function to\n",
    "#create a new column 'MovingAverage' that contains the moving average of the sales for the past 7 days\n",
    "#for each row in the DataFrame. The moving average should be calculated using a window of size 7 and\n",
    "#should include the current day."
   ]
  },
  {
   "cell_type": "code",
   "execution_count": 41,
   "id": "49b8a042-cdab-4b78-b5ba-d50c44331a37",
   "metadata": {},
   "outputs": [],
   "source": [
    "#To calculate the moving average of sales for the past 7 days for each row in the DataFrame, we can use the rolling method in pandas with a window size of 7 and the mean method to calculate the mean value. Here's the Python function to create the new column 'MovingAverage':\n",
    "\n",
    "#import pandas as pd\n",
    "\n",
    "#def calculate_moving_average(df):\n",
    "    #df['MovingAverage'] = df['Sales'].rolling(window=7, min_periods=1).mean()\n",
    "    #return df\n",
    "    \n",
    "    \n",
    "#This function takes the DataFrame df as input and returns the DataFrame with the new column 'MovingAverage' added. The rolling method with window=7 creates a rolling window of size 7 and the min_periods=1 argument ensures that the moving average is calculated even if there are less than 7 days of data available. The mean method is used to calculate the mean value for each window.\n",
    "\n",
    "#Note that this function assumes that the 'Date' column is already sorted in ascending order, so that the rolling window is correctly calculated based on the dates. If the 'Date' column is not sorted, you can use the sort_values method in pandas to sort the DataFrame by date before calculating the moving average."
   ]
  },
  {
   "cell_type": "code",
   "execution_count": 42,
   "id": "9e99893d-4c34-4c0a-a243-42c9ca424598",
   "metadata": {},
   "outputs": [],
   "source": [
    "#Q11. You have a Pandas DataFrame df with a column 'Date'. Write a Python function that creates a new\n",
    "#column 'Weekday' in the DataFrame. The 'Weekday' column should contain the weekday name (e.g.\n",
    "#Monday, Tuesday) corresponding to each date in the 'Date' column.\n",
    "#For example, if df contains the following values:\n",
    "#Date\n",
    "#0 2023-01-01\n",
    "#1 2023-01-02\n",
    "#2 2023-01-03\n",
    "#3 2023-01-04\n",
    "#4 2023-01-05\n",
    "#Your function should create the following DataFrame:\n",
    "\n",
    "#Date Weekday\n",
    "#0 2023-01-01 Sunday\n",
    "#1 2023-01-02 Monday\n",
    "#2 2023-01-03 Tuesday\n",
    "#3 2023-01-04 Wednesday\n",
    "#4 2023-01-05 Thursday\n",
    "#The function should return the modified DataFrame."
   ]
  },
  {
   "cell_type": "code",
   "execution_count": 45,
   "id": "503fd825-35d9-46c3-bcca-28d8f1cfb2fa",
   "metadata": {},
   "outputs": [
    {
     "name": "stdout",
     "output_type": "stream",
     "text": [
      "        Date    Weekday\n",
      "0 2023-01-01     Sunday\n",
      "1 2023-01-02     Monday\n",
      "2 2023-01-03    Tuesday\n",
      "3 2023-01-04  Wednesday\n",
      "4 2023-01-05   Thursday\n"
     ]
    }
   ],
   "source": [
    "import pandas as pd\n",
    "\n",
    "# create sample dataframe\n",
    "df = pd.DataFrame({'Date': ['2023-01-01', '2023-01-02', '2023-01-03', '2023-01-04', '2023-01-05']})\n",
    "\n",
    "# convert date strings to datetime objects\n",
    "df['Date'] = pd.to_datetime(df['Date'])\n",
    "\n",
    "# create a new column 'Weekday' with the weekday name\n",
    "df['Weekday'] = df['Date'].dt.day_name()\n",
    "\n",
    "print(df)\n"
   ]
  },
  {
   "cell_type": "code",
   "execution_count": 47,
   "id": "b4143a01-dd0c-4b8a-b0aa-66c3f407280b",
   "metadata": {},
   "outputs": [],
   "source": [
    "#Q12. Given a Pandas DataFrame df with a column 'Date' that contains timestamps, write a Python\n",
    "#function to select all rows where the date is between '2023-01-01' and '2023-01-31'."
   ]
  },
  {
   "cell_type": "code",
   "execution_count": 48,
   "id": "3cb5cac4-1978-49ed-a1c4-52030dd151fc",
   "metadata": {},
   "outputs": [],
   "source": [
    "import pandas as pd\n",
    "\n",
    "# Create a sample dataframe\n",
    "df = pd.DataFrame({\n",
    "    'Date': pd.date_range(start='2022-12-25', end='2023-02-05')\n",
    "})\n",
    "\n",
    "# Select all rows where date is between '2023-01-01' and '2023-01-31'\n",
    "start_date = '2023-01-01'\n",
    "end_date = '2023-01-31'\n",
    "mask = (df['Date'] >= start_date) & (df['Date'] <= end_date)\n",
    "selected_df = df.loc[mask]\n"
   ]
  },
  {
   "cell_type": "code",
   "execution_count": 50,
   "id": "53a62e7d-8077-40ba-87d2-c30b4efaa837",
   "metadata": {},
   "outputs": [],
   "source": [
    "#Q13. To use the basic functions of pandas, what is the first and foremost necessary library that needs to\n",
    "#be imported?\n",
    "\n",
    "#Ans: The first and foremost necessary library that needs to be imported to use the basic functions of pandas is pandas itself. The commonly used alias for pandas is pd, so the import statement is usually written as:\n",
    "\n",
    "import pandas as pd\n",
    "import numpy as np\n",
    "import matplotlib.pyplot as plt\n"
   ]
  },
  {
   "cell_type": "code",
   "execution_count": null,
   "id": "6c840e63-b041-4236-a0d6-e4316b2cdde7",
   "metadata": {},
   "outputs": [],
   "source": []
  }
 ],
 "metadata": {
  "kernelspec": {
   "display_name": "Python 3 (ipykernel)",
   "language": "python",
   "name": "python3"
  },
  "language_info": {
   "codemirror_mode": {
    "name": "ipython",
    "version": 3
   },
   "file_extension": ".py",
   "mimetype": "text/x-python",
   "name": "python",
   "nbconvert_exporter": "python",
   "pygments_lexer": "ipython3",
   "version": "3.10.8"
  }
 },
 "nbformat": 4,
 "nbformat_minor": 5
}
