{
 "cells": [
  {
   "cell_type": "code",
   "execution_count": 1,
   "id": "6ab049aa-e977-42db-9373-9565850d88fe",
   "metadata": {},
   "outputs": [],
   "source": [
    "##Q1: Who developed python programming language?\n",
    "\n",
    "##Ans: Guido van Rossum developed the Python programming language."
   ]
  },
  {
   "cell_type": "code",
   "execution_count": 2,
   "id": "1b144f06-fec2-4a61-a29d-265f39002323",
   "metadata": {},
   "outputs": [],
   "source": [
    "## Q2: Which type of programming does python suppourt\n",
    "\n",
    "##Ans: Python supports multiple programming paradigms including:\n",
    "\n",
    "#Object-Oriented Programming (OOP)\n",
    "#Imperative programming\n",
    "#Functional programming\n",
    "#Procedural programming\n",
    "\n",
    "#Python is often described as a multi-paradigm language, allowing developers to use the most suitable programming approach for their task."
   ]
  },
  {
   "cell_type": "code",
   "execution_count": 3,
   "id": "bed28472-99c4-4e2c-a693-97cccebdeb25",
   "metadata": {},
   "outputs": [],
   "source": [
    "##Q3: Is python case sensitive while dealing with identifiers?\n",
    "\n",
    "##Ans: Yes, Python is case sensitive when dealing with identifiers. For example, the variable names \"ejazHussain\" and \"EjazHussain\" are considered two different names in Python."
   ]
  },
  {
   "cell_type": "code",
   "execution_count": 4,
   "id": "4abea37f-7153-48ec-be5c-3e24393f5e04",
   "metadata": {},
   "outputs": [],
   "source": [
    "##Q4: What is the correct extension of the python file\n",
    "\n",
    "##Ans: The correct file extension for a Python file is \".py\""
   ]
  },
  {
   "cell_type": "code",
   "execution_count": 5,
   "id": "27e1cf9d-a9a4-44fc-9e3d-bb8571ca3f8e",
   "metadata": {},
   "outputs": [],
   "source": [
    "##Q5: Is Python code compiled or interpreted?\n",
    "\n",
    "##Ans: Python code is interpreted, not compiled."
   ]
  },
  {
   "cell_type": "code",
   "execution_count": 6,
   "id": "da6bc336-b07f-44e1-bba0-b2c8cb8b38df",
   "metadata": {},
   "outputs": [],
   "source": [
    "##Q6: Name a few blocks of code used to define in python language.\n",
    "\n",
    "##Ans: In Python, blocks of code are defined using indentation, rather than curly braces or keywords like \"begin\" and \"end\". Here are a few examples of code blocks in Python:\n",
    "\n",
    "##Functions: defined using the def keyword, followed by the function name, arguments, and a colon. The block of code inside the function is indented.\n",
    "##Loops: defined using for or while keywords, followed by a condition, and a colon. The block of code inside the loop is indented.\n",
    "##Conditional statements: defined using if, elif, and else keywords, followed by conditions, and colons. The blocks of code inside each condition are indented."
   ]
  },
  {
   "cell_type": "code",
   "execution_count": 7,
   "id": "7c901108-400c-4222-a8b7-55a5f1d61dc8",
   "metadata": {},
   "outputs": [],
   "source": [
    "##Q7: State the character used to give single-line comments in Python?\n",
    "\n",
    "##Ans: The character used for giving single-line comments in Python is \"#\"."
   ]
  },
  {
   "cell_type": "code",
   "execution_count": 8,
   "id": "fafeae34-9072-4718-9868-d5ce363d7548",
   "metadata": {},
   "outputs": [],
   "source": [
    "##Q8: Mention functions which can help us to find the version of python that we are currently working on\n",
    "##Ans: sys.version"
   ]
  },
  {
   "cell_type": "code",
   "execution_count": 16,
   "id": "42d32542-9967-44e5-a6e5-11c5eb24535d",
   "metadata": {},
   "outputs": [],
   "source": [
    "##Q9:Python supports the creation of anonymous functions at runtime using a construct called_______\n",
    "##Ans: lambda"
   ]
  },
  {
   "cell_type": "code",
   "execution_count": 17,
   "id": "1fbf84bd-dec4-489a-880f-ee912a0316a3",
   "metadata": {},
   "outputs": [],
   "source": [
    "##Q10: What does pip stand for in python?\n",
    "\n",
    "##Ans: \"pip\" stands for \"Pip Installs Packages\". It is the default package manager for Python programming language, used to install and manage packages (libraries and modules) in Python."
   ]
  },
  {
   "cell_type": "code",
   "execution_count": 18,
   "id": "6811cf93-87fb-4a5f-9c81-5d6d986cb80d",
   "metadata": {},
   "outputs": [],
   "source": [
    "##Q11: Mention a few built in functions in python?\n",
    "\n",
    "##Ans: Here are a few built-in functions in Python:\n",
    "\n",
    "#print()\n",
    "#len()\n",
    "#int()\n",
    "#float()\n",
    "#str()\n",
    "#bool()\n",
    "#list()\n",
    "#dict()\n",
    "#set()\n",
    "#tuple()\n",
    "#min()\n",
    "#max()\n",
    "#sum()\n",
    "#abs()\n",
    "#type()\n",
    "#range()\n",
    "#sorted()\n",
    "#reversed()\n",
    "#enumerate()\n",
    "#zip()"
   ]
  },
  {
   "cell_type": "code",
   "execution_count": 19,
   "id": "42c2266a-f5a6-4016-94df-dcf26f226a54",
   "metadata": {},
   "outputs": [],
   "source": [
    "##Q12: What is the maximum possible length of an identifier in Python?\n",
    "\n",
    "#Ans: In Python, there is no specified maximum length for an identifier (variable name, function name, etc.). The length is limited by the amount of memory available to store the name in your system. However, it is recommended to keep the length of identifier names within reasonable limits for readability and maintainability of your code."
   ]
  },
  {
   "cell_type": "code",
   "execution_count": 20,
   "id": "40a45e27-948d-49d7-9b21-766615269823",
   "metadata": {},
   "outputs": [],
   "source": [
    "#Q13: What are the benefits of using python?\n",
    "\n",
    "#Ans: There are several benefits of using Python as a programming language:\n",
    "\n",
    "#Easy to learn and read: Python has a simple and straightforward syntax, making it easy to learn and understand.\n",
    "\n",
    "#Versatile: Python can be used for a wide range of applications, including web development, scientific computing, data analysis, artificial intelligence, and more.\n",
    "\n",
    "#Large community: Python has a large and active user community, which provides a wealth of libraries and tools to help you with your projects.\n",
    "\n",
    "#Open-source: Python is open-source, which means that you can use and distribute it for free, as well as modify its source code to suit your needs.\n",
    "\n",
    "#Interoperability: Python can easily integrate with other programming languages and technologies, making it a great choice for projects that involve multiple components.\n",
    "\n",
    "#Dynamically-typed: Python uses dynamic typing, which means that you don't have to declare the type of a variable before using it, making it easier to write and debug code."
   ]
  },
  {
   "cell_type": "code",
   "execution_count": 21,
   "id": "a06c0c2b-9272-4291-83c1-85b7679718e9",
   "metadata": {},
   "outputs": [],
   "source": [
    "#Q14: How is memory managed in python?\n",
    "\n",
    "#Ans: In Python, memory management is handled by the Python memory manager, which is part of the Python interpreter. The memory manager is responsible for allocating memory for Python objects and data structures, as well as freeing that memory when it is no longer needed. This is done through a combination of reference counting and garbage collection. Reference counting keeps track of the number of references to an object, and when that count drops to zero, the memory for that object is freed. Garbage collection is an automatic process that periodically frees objects that are no longer reachable from any part of the program, even if their reference count is non-zero."
   ]
  },
  {
   "cell_type": "code",
   "execution_count": 22,
   "id": "f08a2c3b-2c40-4440-ae16-e8b1170b9937",
   "metadata": {},
   "outputs": [],
   "source": [
    "#Q15: How to install python on windows and set path variables?\n",
    "\n",
    "#Ans: To install Python on Windows, follow these steps:\n",
    "\n",
    "#Download the Python installer from the official website: https://www.python.org/downloads/\n",
    "#Run the installer and follow the prompts. Make sure to check the option to add Python to the PATH environment variable.\n",
    "#Open the Command Prompt and type \"python\" to confirm that the installation was successful.\n",
    "#To set the PATH environment variable on Windows, follow these steps:\n",
    "\n",
    "#Right-click on the Computer icon on your desktop and select Properties.\n",
    "#Click on Advanced system settings.\n",
    "#Click on Environment Variables.\n",
    "#Under System Variables, scroll down and find the PATH variable, then click on Edit.\n",
    "#Add the location of the Python installation to the PATH, for example, \"C:\\Python36\" or \"C:\\Python36\\Scripts\".\n",
    "#Click OK to close all windows.\n",
    "#Open a new Command Prompt and type \"python\" to confirm that the PATH has been set correctly."
   ]
  },
  {
   "cell_type": "code",
   "execution_count": 23,
   "id": "1411e817-e48a-4cea-a101-2fd6faf532c4",
   "metadata": {},
   "outputs": [],
   "source": [
    "#Q16: Is indentation required in python?\n",
    "\n",
    "#Ans: Yes, indentation is mandatory in Python and it is used to define blocks of code such as loops, functions, and classes. It is an important aspect of Python's syntax and helps to make the code readable and organized."
   ]
  },
  {
   "cell_type": "code",
   "execution_count": null,
   "id": "d1f9a6ab-e67a-45f2-8d8a-7f1a4db95cc2",
   "metadata": {},
   "outputs": [],
   "source": []
  }
 ],
 "metadata": {
  "kernelspec": {
   "display_name": "Python 3 (ipykernel)",
   "language": "python",
   "name": "python3"
  },
  "language_info": {
   "codemirror_mode": {
    "name": "ipython",
    "version": 3
   },
   "file_extension": ".py",
   "mimetype": "text/x-python",
   "name": "python",
   "nbconvert_exporter": "python",
   "pygments_lexer": "ipython3",
   "version": "3.10.8"
  }
 },
 "nbformat": 4,
 "nbformat_minor": 5
}
