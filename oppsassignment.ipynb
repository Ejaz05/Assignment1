{
 "cells": [
  {
   "cell_type": "code",
   "execution_count": 1,
   "id": "930a4821-6d09-457f-98e9-2f0071488925",
   "metadata": {},
   "outputs": [],
   "source": [
    "#OOPS Assignment"
   ]
  },
  {
   "cell_type": "code",
   "execution_count": 2,
   "id": "abde0cf7-fecc-4f26-ba42-c267cd4e60ef",
   "metadata": {},
   "outputs": [],
   "source": [
    "#Q1. Explain Class and Object with respect to Object-Oriented Programming. Give a suitable example.\n",
    "\n",
    "\n",
    "#ANS: Class is a blueprint or a template for creating objects. It defines the properties (attributes) and behaviors (methods) that an object of that class will have.\n",
    "\n",
    "#Object is an instance of a class. It is a real-world entity that has its own state and behavior, based on the class definition. An object is also referred to as an instance of a class.\n",
    "\n",
    "#For example, consider the class \"Car\". A Car class might have attributes such as make, model, year, and color, and behaviors like drive, stop, and accelerate. Each individual car object, such as a specific \"Toyota Corolla 2020\", would have its own values for these attributes and can perform the behaviors defined in the Car class."
   ]
  },
  {
   "cell_type": "code",
   "execution_count": 3,
   "id": "39e03060-6930-4833-92c0-4ac72653392e",
   "metadata": {},
   "outputs": [],
   "source": [
    "#Q2. Name the four pillars of OOPs.\n",
    "\n",
    "#ANS: The four pillars of object-oriented programming (OOP) are:\n",
    "\n",
    "#Encapsulation: The mechanism of hiding the implementation details from the user and providing a public interface to interact with the object.\n",
    "\n",
    "#Abstraction: The process of hiding the complexities of a system and presenting only necessary information to the user.\n",
    "\n",
    "#Inheritance: The mechanism by which one class acquires the properties and behaviors of another class.\n",
    "\n",
    "#Polymorphism: The ability of an object to take on multiple forms. This allows objects of different classes to be used interchangeably in the same context."
   ]
  },
  {
   "cell_type": "code",
   "execution_count": 4,
   "id": "b08cf230-37b5-4dc4-b75d-a9006ccade08",
   "metadata": {},
   "outputs": [
    {
     "name": "stdout",
     "output_type": "stream",
     "text": [
      "ejaz\n",
      "30\n"
     ]
    }
   ],
   "source": [
    "#Q3. Explain why the __init__() function is used. Give a suitable example.\n",
    "\n",
    "#ANS: The __init__ function, also known as the constructor, is used in Python classes to initialize the object's state when it is created. The __init__ function is automatically called when a new object is created from a class, and it sets the initial state of the object by assigning values to its attributes.\n",
    "\n",
    "#For example, consider a class Person that has two attributes: name and age. The __init__ function could be used to initialize these attributes with values passed as arguments when a new Person object is created:\n",
    "\n",
    "class Person:\n",
    "    def __init__(self, name, number):\n",
    "        self.name = name\n",
    "        self.number = number\n",
    "\n",
    "p = Person(\"ejaz\", 30)\n",
    "print(p.name) \n",
    "print(p.number)\n"
   ]
  },
  {
   "cell_type": "code",
   "execution_count": 5,
   "id": "8a5ba8fc-d813-49af-8e21-41fadcdc6132",
   "metadata": {},
   "outputs": [],
   "source": [
    "#Q4. Why self is used in OOPs?\n",
    "\n",
    "#ANS: self is a reference to the current instance of an object in Python. It is used to access the attributes and methods of a class from within the class definition. In other words, self refers to the object on which a method is being called.\n",
    "\n",
    "#The use of self allows each object to maintain its own separate state and behavior, rather than having all objects share the same state and behavior."
   ]
  },
  {
   "cell_type": "code",
   "execution_count": 9,
   "id": "b297496e-6229-48c5-b908-25889f5d2c4a",
   "metadata": {},
   "outputs": [
    {
     "name": "stdout",
     "output_type": "stream",
     "text": [
      "No. of sides: 3\n"
     ]
    }
   ],
   "source": [
    "#Q5. What is inheritance? Give an example for each type of inheritance.\n",
    "\n",
    "#ANS: Inheritance is a mechanism in object-oriented programming that allows a new class to be derived from an existing class. The derived class inherits all the attributes and behaviors of the existing class, and can add or modify the attributes and behaviors as needed. This allows for code reusability and organization.\n",
    "\n",
    "#There are several types of inheritance in OOP:\n",
    "\n",
    "#Single inheritance: When a class is derived from a single base class, it is known as single inheritance. For example:\n",
    "\n",
    "class Shape:\n",
    "    def __init__(self, sides):\n",
    "        self.sides = sides\n",
    "    \n",
    "    def display_sides(self):\n",
    "        print(f\"No. of sides: {self.sides}\")\n",
    "\n",
    "class Triangle(Shape):\n",
    "    def __init__(self):\n",
    "        super().__init__(3)\n",
    "    \n",
    "t = Triangle()\n",
    "t.display_sides() # Output: No. of sides: 3\n",
    "#In this example, the Triangle class is derived from the Shape class and inherits its display_sides method.\n",
    "\n"
   ]
  },
  {
   "cell_type": "code",
   "execution_count": 7,
   "id": "a5802dee-9d74-423e-8c41-c8937d0f5ee3",
   "metadata": {},
   "outputs": [
    {
     "name": "stdout",
     "output_type": "stream",
     "text": [
      "No. of sides: 3\n"
     ]
    }
   ],
   "source": [
    "#Multi-level inheritance: When a class is derived from a class which is already derived from another class, it is known as multi-level inheritance. For example:\n",
    "\n",
    "class Shape:\n",
    "    def __init__(self, sides):\n",
    "        self.sides = sides\n",
    "    \n",
    "    def display_sides(self):\n",
    "        print(f\"No. of sides: {self.sides}\")\n",
    "\n",
    "class Triangle(Shape):\n",
    "    def __init__(self):\n",
    "        super().__init__(3)\n",
    "    \n",
    "class EquilateralTriangle(Triangle):\n",
    "    def __init__(self):\n",
    "        super().__init__()\n",
    "\n",
    "et = EquilateralTriangle()\n",
    "et.display_sides() # Output: No. of sides: 3\n",
    "#In this example, the EquilateralTriangle class is derived from the Triangle class, which in turn is derived from the Shape class, resulting in multi-level inheritance.\n",
    "\n"
   ]
  },
  {
   "cell_type": "code",
   "execution_count": 8,
   "id": "401a0426-bee5-4e60-b748-49ea9b1562f4",
   "metadata": {},
   "outputs": [
    {
     "name": "stdout",
     "output_type": "stream",
     "text": [
      "No. of sides: 3\n",
      "Color: Red\n"
     ]
    }
   ],
   "source": [
    "#Multiple inheritance: When a class is derived from more than one base class, it is known as multiple inheritance. For example:\n",
    "\n",
    "class Shape:\n",
    "    def __init__(self, sides):\n",
    "        self.sides = sides\n",
    "    \n",
    "    def display_sides(self):\n",
    "        print(f\"No. of sides: {self.sides}\")\n",
    "\n",
    "class Color:\n",
    "    def __init__(self, color):\n",
    "        self.color = color\n",
    "    \n",
    "    def display_color(self):\n",
    "        print(f\"Color: {self.color}\")\n",
    "\n",
    "class Triangle(Shape, Color):\n",
    "    def __init__(self, color):\n",
    "        Shape.__init__(self, 3)\n",
    "        Color.__init__(self, color)\n",
    "    \n",
    "t = Triangle(\"Red\")\n",
    "t.display_sides() # Output: No. of sides: 3\n",
    "t.display_color() # Output: Color: Red\n",
    "#In this example, the Triangle class is derived from both the Shape and Color classes, resulting in multiple inheritance."
   ]
  },
  {
   "cell_type": "code",
   "execution_count": null,
   "id": "b14fd085-5d2e-4806-bf9c-47f675148eab",
   "metadata": {},
   "outputs": [],
   "source": []
  }
 ],
 "metadata": {
  "kernelspec": {
   "display_name": "Python 3 (ipykernel)",
   "language": "python",
   "name": "python3"
  },
  "language_info": {
   "codemirror_mode": {
    "name": "ipython",
    "version": 3
   },
   "file_extension": ".py",
   "mimetype": "text/x-python",
   "name": "python",
   "nbconvert_exporter": "python",
   "pygments_lexer": "ipython3",
   "version": "3.10.8"
  }
 },
 "nbformat": 4,
 "nbformat_minor": 5
}
