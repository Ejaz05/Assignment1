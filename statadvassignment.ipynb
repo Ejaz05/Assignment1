{
 "cells": [
  {
   "cell_type": "markdown",
   "id": "1e7612ef-2ad7-4fef-8c9e-2cdbdf93f71c",
   "metadata": {},
   "source": [
    "Q1. What is the Probability density function?\n",
    "\n",
    "Ans: The Probability Density Function (PDF) is a function that describes the probability distribution of a continuous random variable. It gives the probability that a random variable takes on a specific value within a given range.\n",
    "\n",
    "The PDF is defined as the derivative of the cumulative distribution function (CDF) of the random variable. The CDF gives the probability that a random variable takes on a value less than or equal to a specific value. The PDF is used to calculate probabilities by integrating over a range of values, which gives the probability of the variable taking on a value within that range.\n",
    "\n",
    "The PDF has some important properties, such as that it is always non-negative, its total area under the curve is equal to one, and its value at any given point gives the relative likelihood of the random variable taking on that value. The PDF can be used to calculate important statistical quantities, such as the mean and variance of a random variable."
   ]
  },
  {
   "cell_type": "markdown",
   "id": "541865f0-7b8b-4e12-9c93-cdbf0c2718aa",
   "metadata": {},
   "source": [
    "Q2. What are the types of Probability distribution?\n",
    "\n",
    "Ans: There are several types of Probability Distributions, but the most commonly used ones are:\n",
    "\n",
    "Normal Distribution: Also known as the Gaussian distribution, it is a continuous probability distribution that is often used to model real-world data, such as measurements of height, weight, and IQ. The normal distribution is characterized by its bell-shaped curve, and it is described by two parameters, the mean and the standard deviation.\n",
    "\n",
    "Binomial Distribution: The binomial distribution is a discrete probability distribution that is used to model the probability of a certain number of successes in a fixed number of independent trials, where each trial has only two possible outcomes, success or failure. It is characterized by two parameters, the number of trials and the probability of success in each trial.\n",
    "\n",
    "Poisson Distribution: The Poisson distribution is a discrete probability distribution that is used to model the probability of a certain number of events occurring in a fixed interval of time or space. It is often used in applications such as queuing theory, where it is used to model the arrival rate of customers at a service facility. It is characterized by a single parameter, the average rate of events per unit of time or space.\n",
    "\n",
    "Exponential Distribution: The exponential distribution is a continuous probability distribution that is used to model the time between events in a Poisson process, where events occur randomly and independently at a constant rate. It is characterized by a single parameter, the mean time between events.\n",
    "\n",
    "Uniform Distribution: The uniform distribution is a continuous probability distribution that is used to model situations where every outcome in a certain range is equally likely. It is characterized by two parameters, the minimum and maximum values of the range."
   ]
  },
  {
   "cell_type": "markdown",
   "id": "5cf65a5a-2bd1-4972-b5d6-39c03a8e32d7",
   "metadata": {},
   "source": [
    "Q3. Write a Python function to calculate the probability density function of a normal distribution with given mean and standard deviation at a given point."
   ]
  },
  {
   "cell_type": "code",
   "execution_count": 1,
   "id": "4818a76d-a10d-4a79-892b-62d795f42e1d",
   "metadata": {},
   "outputs": [],
   "source": [
    "import math\n",
    "\n",
    "def normal_pdf(x, mean, std_dev):\n",
    "    \"\"\"\n",
    "    Returns the probability density function (PDF) of a normal distribution\n",
    "    with the given mean and standard deviation at the given point x.\n",
    "    \"\"\"\n",
    "    exponent = -((x - mean)**2) / (2 * std_dev**2)\n",
    "    coefficient = 1 / (std_dev * math.sqrt(2 * math.pi))\n",
    "    return coefficient * math.exp(exponent)\n"
   ]
  },
  {
   "cell_type": "code",
   "execution_count": 2,
   "id": "337efe00-f177-4379-b894-f4e10f714bb0",
   "metadata": {},
   "outputs": [
    {
     "name": "stdout",
     "output_type": "stream",
     "text": [
      "PDF of N(10,2) at x=12: 0.1210\n"
     ]
    }
   ],
   "source": [
    "'''Here's an example usage of the function:'''\n",
    "\n",
    "mean = 10\n",
    "std_dev = 2\n",
    "x = 12\n",
    "\n",
    "pdf = normal_pdf(x, mean, std_dev)\n",
    "print(f\"PDF of N({mean},{std_dev}) at x={x}: {pdf:.4f}\")\n"
   ]
  },
  {
   "cell_type": "markdown",
   "id": "140ee42d-c1d8-481f-b6ea-b76123591efa",
   "metadata": {},
   "source": [
    "Q4. What are the properties of Binomial distribution? Give two examples of events where binomial\n",
    "distribution can be applied.\n",
    "\n",
    "Ans: The properties of a Binomial Distribution are:\n",
    "\n",
    "It is a discrete probability distribution that describes the number of successes in a fixed number of independent trials.\n",
    "Each trial has only two possible outcomes, success or failure.\n",
    "The trials are independent of each other.\n",
    "The probability of success is constant for each trial.\n",
    "The number of trials is fixed.\n",
    "The random variable X, which represents the number of successes, has a Binomial Distribution.\n",
    "Two examples of events where the Binomial Distribution can be applied are:\n",
    "\n",
    "Flipping a coin: If you flip a fair coin (one with a 50% probability of landing heads or tails) 10 times, you can model the number of heads you get using a Binomial Distribution. Here, the number of trials is 10, and the probability of success (getting heads) is 0.5.\n",
    "Quality control: A factory produces 500 light bulbs, and the quality control team inspects 50 of them. They record whether each bulb is defective or not. If the probability of a bulb being defective is 0.02, then the number of defective bulbs in the sample of 50 can be modeled using a Binomial Distribution. Here, the number of trials is 50, and the probability of success (a bulb being defective) is 0.02.\n"
   ]
  },
  {
   "cell_type": "markdown",
   "id": "af9ca68d-8f52-4973-bc06-54fe55ae645d",
   "metadata": {},
   "source": [
    "Q5. Generate a random sample of size 1000 from a binomial distribution with probability of success 0.4\n",
    "and plot a histogram of the results using matplotlib."
   ]
  },
  {
   "cell_type": "code",
   "execution_count": 4,
   "id": "95450192-6410-4b32-86c5-b293d9ae90ab",
   "metadata": {},
   "outputs": [
    {
     "data": {
      "image/png": "[encoded data removed]",
      "text/plain": [
       "<Figure size 640x480 with 1 Axes>"
      ]
     },
     "metadata": {},
     "output_type": "display_data"
    }
   ],
   "source": [
    "import numpy as np\n",
    "import matplotlib.pyplot as plt\n",
    "\n",
    "# Set the parameters of the Binomial Distribution\n",
    "n = 100  # number of trials\n",
    "p = 0.4  # probability of success\n",
    "\n",
    "# Generate a random sample of size 1000 from the Binomial Distribution\n",
    "sample = np.random.binomial(n, p, size=1000)\n",
    "\n",
    "# Plot a histogram of the sample\n",
    "plt.hist(sample, bins=range(n+1), align='left', rwidth=0.8)\n",
    "plt.xlabel('Number of Successes')\n",
    "plt.ylabel('Frequency')\n",
    "plt.title(f'Binomial Distribution: n={n}, p={p}, Sample Size=1000')\n",
    "plt.show()\n"
   ]
  },
  {
   "cell_type": "markdown",
   "id": "5d13436d-dd87-40a5-b684-53fb96d410c7",
   "metadata": {},
   "source": [
    "Q6. Write a Python function to calculate the cumulative distribution function of a Poisson distribution\n",
    "with given mean at a given point."
   ]
  },
  {
   "cell_type": "code",
   "execution_count": 5,
   "id": "0ed5aabc-c82c-48f9-810b-7078a3782848",
   "metadata": {},
   "outputs": [],
   "source": [
    "import math\n",
    "\n",
    "def poisson_cdf(x, mean):\n",
    "    \"\"\"\n",
    "    Returns the cumulative distribution function (CDF) of a Poisson distribution\n",
    "    with the given mean at the given point x.\n",
    "    \"\"\"\n",
    "    cdf = 0\n",
    "    for i in range(x+1):\n",
    "        cdf += (math.exp(-mean) * mean**i) / math.factorial(i)\n",
    "    return cdf\n"
   ]
  },
  {
   "cell_type": "markdown",
   "id": "9b84563b-9279-4a1c-8547-95016067be5a",
   "metadata": {},
   "source": [
    "Here's an example usage of the function:"
   ]
  },
  {
   "cell_type": "code",
   "execution_count": 6,
   "id": "873cee81-9ec3-4458-81f7-76c6ffeaf434",
   "metadata": {},
   "outputs": [
    {
     "name": "stdout",
     "output_type": "stream",
     "text": [
      "CDF of Poisson(5) at x=3: 0.2650\n"
     ]
    }
   ],
   "source": [
    "mean = 5\n",
    "x = 3\n",
    "\n",
    "cdf = poisson_cdf(x, mean)\n",
    "print(f\"CDF of Poisson({mean}) at x={x}: {cdf:.4f}\")\n"
   ]
  },
  {
   "cell_type": "markdown",
   "id": "06913696-5330-4b90-81a8-6dcff0c8602b",
   "metadata": {},
   "source": [
    "Q7. How Binomial distribution different from Poisson distribution?\n",
    "\n",
    "Ans: Binomial distribution and Poisson distribution are both discrete probability distributions, but they are different in several ways.\n",
    "\n",
    "Definition and Assumptions:\n",
    "\n",
    "Binomial Distribution: It describes the number of successes in a fixed number of independent trials, where each trial can have only two possible outcomes (success or failure), and the probability of success is constant for each trial.\n",
    "\n",
    "Poisson Distribution: It describes the number of events that occur in a fixed interval of time or space, where the events occur randomly and independently of each other, and the average rate of events is constant.\n",
    "\n",
    "Parameters:\n",
    "\n",
    "Binomial Distribution: It has two parameters: the number of trials n and the probability of success p.\n",
    "\n",
    "Poisson Distribution: It has only one parameter: the average rate of events lambda.\n",
    "\n",
    "Probability Functions:\n",
    "\n",
    "Binomial Distribution: The probability mass function (PMF) of the Binomial Distribution is given by the formula P(X=k) = (n choose k) * p^k * (1-p)^(n-k), where X is the random variable that represents the number of successes, k is the number of successes, n is the number of trials, and p is the probability of success.\n",
    "Poisson Distribution: The probability mass function (PMF) of the Poisson Distribution is given by the formula P(X=k) = (e^-lambda * lambda^k) / k!, where X is the random variable that represents the number of events, k is the number of events, and lambda is the average rate of events.\n",
    "\n",
    "Relationship:\n",
    "\n",
    "The Poisson Distribution can be considered as a limiting case of the Binomial Distribution when the number of trials n is very large and the probability of success p is very small, such that the product n*p remains constant. In this case, the Binomial Distribution approaches the Poisson Distribution with parameter lambda = n*p.\n",
    "\n",
    "The Binomial Distribution describes the number of successes in a fixed number of trials, whereas the Poisson Distribution describes the number of events in a fixed interval of time or space.\n",
    "\n",
    "The Poisson Distribution is used to model rare events, while the Binomial Distribution is used to model more common events.\n"
   ]
  },
  {
   "cell_type": "markdown",
   "id": "e13a6ac1-b79b-47ad-bed1-da86fb51148b",
   "metadata": {},
   "source": [
    "\n",
    "Q8. Generate a random sample of size 1000 from a Poisson distribution with mean 5 and calculate the\n",
    "sample mean and variance."
   ]
  },
  {
   "cell_type": "code",
   "execution_count": 7,
   "id": "1578eccf-01cd-4ab3-ab8d-b12d2dfeeb93",
   "metadata": {},
   "outputs": [
    {
     "name": "stdout",
     "output_type": "stream",
     "text": [
      "Sample mean: 4.9190\n",
      "Sample variance: 5.0304\n"
     ]
    }
   ],
   "source": [
    "import numpy as np\n",
    "\n",
    "# Set the random seed for reproducibility\n",
    "np.random.seed(123)\n",
    "\n",
    "# Generate a random sample of size 1000 from a Poisson distribution with mean 5\n",
    "sample = np.random.poisson(lam=5, size=1000)\n",
    "\n",
    "# Calculate the sample mean and variance\n",
    "sample_mean = np.mean(sample)\n",
    "sample_var = np.var(sample)\n",
    "\n",
    "print(f\"Sample mean: {sample_mean:.4f}\")\n",
    "print(f\"Sample variance: {sample_var:.4f}\")"
   ]
  },
  {
   "cell_type": "markdown",
   "id": "06f3ce78-0efa-45a1-be2a-0a9e34a89cc0",
   "metadata": {},
   "source": [
    "Q9. How mean and variance are related in Binomial distribution and Poisson distribution?\n",
    "\n",
    "Ans:\n",
    "The mean and variance are related in Binomial and Poisson distributions in the following ways:\n",
    "\n",
    "Binomial Distribution:\n",
    "Mean: The mean of a Binomial Distribution with parameters n (number of trials) and p (probability of success) is given by mean = n * p.\n",
    "Variance: The variance of a Binomial Distribution is given by variance = n * p * (1 - p).\n",
    "Therefore, in a Binomial Distribution, the variance is directly proportional to the product of n and p, and is highest when p is equal to 0.5.\n",
    "\n",
    "Poisson Distribution:\n",
    "Mean: The mean of a Poisson Distribution is equal to its parameter lambda.\n",
    "Variance: The variance of a Poisson Distribution is also equal to its parameter lambda.\n",
    "Therefore, in a Poisson Distribution, the variance is equal to the mean. This relationship between the mean and variance is a unique property of the Poisson Distribution, and is not shared by other discrete distributions such as the Binomial Distribution.\n",
    "\n",
    "In summary, in a Binomial Distribution, the variance is proportional to the product of n and p, while in a Poisson Distribution, the variance is equal to the mean."
   ]
  },
  {
   "cell_type": "markdown",
   "id": "efc7e5ef-0316-49f3-8f35-d710fb363549",
   "metadata": {},
   "source": [
    "Q10. In normal distribution with respect to mean position, where does the least frequent data appear?\n",
    "\n",
    "Ans: \n",
    "In a normal distribution, the least frequent data appear in the tails of the distribution, which are the regions furthest away from the mean. Specifically, the tails of the normal distribution extend to infinity in both the positive and negative directions, and the probability of observing a data point in the extreme tails is very low.\n",
    "\n",
    "For example, in a standard normal distribution with a mean of 0 and a standard deviation of 1, the least frequent data appear in the tails of the distribution beyond 3 standard deviations from the mean, which correspond to the values less than -3 or greater than 3. The probability of observing a data point beyond 3 standard deviations from the mean in a standard normal distribution is approximately 0.003, or 0.3%."
   ]
  },
  {
   "cell_type": "code",
   "execution_count": null,
   "id": "58157646-29f5-413e-871d-94d172d3e86c",
   "metadata": {},
   "outputs": [],
   "source": []
  }
 ],
 "metadata": {
  "kernelspec": {
   "display_name": "Python 3 (ipykernel)",
   "language": "python",
   "name": "python3"
  },
  "language_info": {
   "codemirror_mode": {
    "name": "ipython",
    "version": 3
   },
   "file_extension": ".py",
   "mimetype": "text/x-python",
   "name": "python",
   "nbconvert_exporter": "python",
   "pygments_lexer": "ipython3",
   "version": "3.10.8"
  }
 },
 "nbformat": 4,
 "nbformat_minor": 5
}
