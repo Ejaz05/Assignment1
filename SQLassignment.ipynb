{
 "cells": [
  {
   "cell_type": "code",
   "execution_count": 2,
   "id": "c5ff0e15-f037-45af-a9d6-72ec6cc226f5",
   "metadata": {},
   "outputs": [],
   "source": [
    "#Q1. What is a database? Differentiate between SQL and NoSQL databases.\n",
    "\n",
    "#Answer:\n",
    "#A database is a structured collection of data that is stored and managed on a computer system. It provides a way to organize and store large amounts of data, as well as to retrieve and manipulate that data as needed.\n",
    "\n",
    "#SQL (Structured Query Language) is a language used to manage relational databases. It provides a way to create, modify, and query data in a structured manner using tables, columns, and rows. SQL databases are typically used for applications that require strict data consistency and reliability, such as financial systems and enterprise resource planning (ERP) systems.\n",
    "\n",
    "#On the other hand, NoSQL databases (Not Only SQL) are databases that do not use the traditional tabular relations used by SQL databases. They are often used for applications that require flexible and scalable data storage and retrieval, such as social media platforms and big data applications. NoSQL databases can store and retrieve data in a variety of formats, including key-value, document-oriented, and graph databases."
   ]
  },
  {
   "cell_type": "code",
   "execution_count": 3,
   "id": "066e0cd4-5605-4188-8ddc-6bcca236e1ca",
   "metadata": {},
   "outputs": [],
   "source": [
    "#Q2. What is DDL? Explain why CREATE, DROP, ALTER, and TRUNCATE are used with an example.\n",
    "\n",
    "#Answer:\n",
    "#DDL (Data Definition Language) is a subset of SQL used to define and manage the structure of a database. It includes commands for creating, modifying, and deleting database objects such as tables, views, indexes, and constraints.\n",
    "\n",
    "#CREATE is used to create new database objects such as tables, views, and indexes. For example, the following SQL statement creates a new table named \"customers\":\n",
    "# CREATE TABLE customers (\n",
    "  #id INT PRIMARY KEY,\n",
    "  #name VARCHAR(50),\n",
    "  #email VARCHAR(50)\n",
    "#);\n",
    "\n",
    "#DROP is used to delete existing database objects such as tables, views, and indexes. For example, the following SQL statement drops the \"customers\" table:\n",
    "\n",
    "# DROP TABLE customers;\n",
    "\n",
    "#ALTER is used to modify the structure of existing database objects such as tables and views. For example, the following SQL statement adds a new column named \"address\" to the \"customers\" table:\n",
    "\n",
    "# ALTER TABLE customers ADD address VARCHAR(50);\n",
    "\n",
    "#RUNCATE is used to delete all rows from a table. Unlike the DROP statement, TRUNCATE retains the table structure. For example, the following SQL statement removes all rows from the \"customers\" table:\n",
    "\n",
    "# TRUNCATE TABLE customers;\n"
   ]
  },
  {
   "cell_type": "code",
   "execution_count": 4,
   "id": "63c2ec40-ef64-4757-baf0-bcf2e67a488a",
   "metadata": {},
   "outputs": [],
   "source": [
    "#Q3. What is DML? Explain INSERT, UPDATE, and DELETE with an example.\n",
    "\n",
    "#Answer:\n",
    "#DML (Data Manipulation Language) is a subset of SQL used to insert, update, and delete data in a database.\n",
    "\n",
    "#INSERT is used to add new rows to a table. For example, the following SQL statement adds a new customer to the \"customers\" table:\n",
    "\n",
    "# INSERT INTO customers (id, name, email) VALUES (1, 'John Doe', 'john@example.com');\n",
    "\n",
    "#UPDATE is used to modify existing rows in a table. For example, the following SQL statement changes the email address of the customer with an id of 1:\n",
    "\n",
    "# UPDATE customers SET email = 'johndoe@example.com' WHERE id = 1;\n",
    "\n",
    "#DELETE is used to remove rows from a table. For example, the following SQL statement removes the customer with an id of 1 from the \"customers\" table:\n",
    "\n",
    "# DELETE FROM customers WHERE id = 1;\n",
    "\n"
   ]
  },
  {
   "cell_type": "code",
   "execution_count": 5,
   "id": "6366e42b-305e-40de-b692-01b350dbf77d",
   "metadata": {},
   "outputs": [],
   "source": [
    "#Q4. What is DQL? Explain SELECT with an example.\n",
    "\n",
    "#DQL stands for Data Query Language and it is used to retrieve data from a database. The most commonly used DQL command is SELECT, which is used to retrieve data from one or more tables in a database. The SELECT statement has various components, including the SELECT clause, the FROM clause, the WHERE clause, and others. Here is an example of a SELECT statement:\n",
    "\n",
    "# SELECT * FROM customers WHERE age > 25;\n",
    "\n",
    "#This statement will retrieve all rows from the \"customers\" table where the customer's age is greater than 25."
   ]
  },
  {
   "cell_type": "code",
   "execution_count": 6,
   "id": "78500b44-c56b-49ee-9f65-93940066c73d",
   "metadata": {},
   "outputs": [],
   "source": [
    "#Q5. Explain Primary Key and Foreign Key.\n",
    "\n",
    "#A primary key is a column or a set of columns in a table that uniquely identifies each row in the table. It must have a unique value for each row and cannot contain NULL values. Primary keys are used to enforce data integrity, and to establish relationships between tables.\n",
    "\n",
    "#A foreign key is a column or a set of columns in a table that refers to the primary key of another table. It establishes a link between the two tables, and is used to enforce referential integrity. The foreign key ensures that the values in the referencing table exist in the referenced table.\n",
    "\n",
    "#For example, if we have a table called \"orders\" that has a foreign key column \"customer_id\", it can refer to the primary key column \"id\" in the \"customers\" table. This means that the \"customer_id\" column in the \"orders\" table can only contain values that exist in the \"id\" column of the \"customers\" table."
   ]
  },
  {
   "cell_type": "code",
   "execution_count": 7,
   "id": "235762b0-8022-4894-87b8-9c425ccb49f6",
   "metadata": {},
   "outputs": [],
   "source": [
    "#Q6. Write a python code to connect MySQL to python. Explain the cursor() and execute() method.\n",
    "\n",
    "#Here is an example Python code to connect to a MySQL database and execute a SQL query:\n",
    "\n",
    "#import mysql.connector\n",
    "\n",
    "# establish a connection to the MySQL database\n",
    "#mydb = mysql.connector.connect(\n",
    "  #host=\"localhost\",\n",
    "  #user=\"yourusername\",\n",
    "  #password=\"yourpassword\",\n",
    "  #database=\"yourdatabase\"\n",
    "#)\n",
    "\n",
    "# create a cursor object to execute SQL queries\n",
    "#mycursor = mydb.cursor()\n",
    "\n",
    "# execute a SELECT statement to retrieve data from a table\n",
    "#mycursor.execute(\"SELECT * FROM customers\")\n",
    "\n",
    "# fetch all the rows returned by the SELECT statement\n",
    "#myresult = mycursor.fetchall()\n",
    "\n",
    "# print the rows\n",
    "#for row in myresult:\n",
    "  #print(row)\n",
    "\n",
    "#The cursor() method is used to create a cursor object that can be used to execute SQL queries. The execute() method is used to execute an SQL query on the database using the cursor object. In the example above, the SELECT statement is executed using the cursor object and the fetchall() method is used to fetch all the rows returned by the SELECT statement.    "
   ]
  },
  {
   "cell_type": "code",
   "execution_count": 8,
   "id": "20bf0358-d4d5-4bcc-aad5-170342e82acf",
   "metadata": {},
   "outputs": [],
   "source": [
    "#Q7. Give the order of execution of SQL clauses in an SQL query.\n",
    "\n",
    "#The order of execution for an SQL query is:\n",
    "\n",
    "#FROM\n",
    "#JOIN\n",
    "#WHERE\n",
    "#GROUP BY\n",
    "#HAVING\n",
    "#SELECT\n",
    "#DISTINCT\n",
    "#UNION\n",
    "#ORDER BY\n",
    "#LIMIT"
   ]
  },
  {
   "cell_type": "code",
   "execution_count": null,
   "id": "e5dadae9-9685-4611-b682-16a8b69be8dd",
   "metadata": {},
   "outputs": [],
   "source": []
  }
 ],
 "metadata": {
  "kernelspec": {
   "display_name": "Python 3 (ipykernel)",
   "language": "python",
   "name": "python3"
  },
  "language_info": {
   "codemirror_mode": {
    "name": "ipython",
    "version": 3
   },
   "file_extension": ".py",
   "mimetype": "text/x-python",
   "name": "python",
   "nbconvert_exporter": "python",
   "pygments_lexer": "ipython3",
   "version": "3.10.8"
  }
 },
 "nbformat": 4,
 "nbformat_minor": 5
}
