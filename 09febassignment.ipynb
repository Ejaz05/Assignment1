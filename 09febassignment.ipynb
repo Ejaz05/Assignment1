{
 "cells": [
  {
   "cell_type": "code",
   "execution_count": 1,
   "id": "bd1c3b3c-b384-4dd0-b7aa-e51e0da9c45a",
   "metadata": {},
   "outputs": [],
   "source": [
    "#Q1, Create a vehicle class with an init method having instance variables as name_of_vehicle, max_speedand average_of_vehicle."
   ]
  },
  {
   "cell_type": "code",
   "execution_count": 2,
   "id": "08e93959-a07b-4987-b6e3-038507fedabe",
   "metadata": {},
   "outputs": [],
   "source": [
    "#sol\n",
    "\n",
    "class Vehicle:\n",
    "    def __init__(self, name_of_vehicle, max_speed, average_of_vehicle):\n",
    "        self.name_of_vehicle = name_of_vehicle\n",
    "        self.max_speed = max_speed\n",
    "        self.average_of_vehicle = average_of_vehicle\n"
   ]
  },
  {
   "cell_type": "code",
   "execution_count": 3,
   "id": "2473f2fd-49ca-4770-8f30-a02c0496a919",
   "metadata": {},
   "outputs": [
    {
     "name": "stdout",
     "output_type": "stream",
     "text": [
      "Car\n",
      "120\n",
      "60\n"
     ]
    }
   ],
   "source": [
    "car = Vehicle(\"Car\", 120, 60)\n",
    "print(car.name_of_vehicle)\n",
    "print(car.max_speed)\n",
    "print(car.average_of_vehicle)\n"
   ]
  },
  {
   "cell_type": "code",
   "execution_count": 4,
   "id": "1d8dfc87-8a41-4e3e-92f3-10c26a83c196",
   "metadata": {},
   "outputs": [
    {
     "name": "stdout",
     "output_type": "stream",
     "text": [
      "The Car has a seating capacity of 5\n"
     ]
    }
   ],
   "source": [
    "#Q2. Create a child class car from the vehicle class created in Que 1, which will inherit the vehicle class.\n",
    "#Create a method named seating_capacity which takes capacity as an argument and returns the name of\n",
    "#the vehicle and its seating capacity.\n",
    "\n",
    "#sol\n",
    "\n",
    "class Car(Vehicle):\n",
    "    def seating_capacity(self, capacity):\n",
    "        return f\"The {self.name_of_vehicle} has a seating capacity of {capacity}\"\n",
    "\n",
    "car = Car(\"Car\", 120, 60)\n",
    "print(car.seating_capacity(5))\n"
   ]
  },
  {
   "cell_type": "code",
   "execution_count": 5,
   "id": "bd41f6fb-69a5-45ae-b699-51e3056e9c51",
   "metadata": {},
   "outputs": [],
   "source": [
    "#Q3. What is multiple inheritance? Write a python code to demonstrate multiple inheritance.\n",
    "\n",
    "#sol\n",
    "\n",
    "#Multiple inheritance is a feature in object-oriented programming where a class can inherit attributes and methods from multiple parent classes. This allows the child class to inherit the characteristics and behaviors of multiple classes, making it more versatile and reusable."
   ]
  },
  {
   "cell_type": "code",
   "execution_count": 12,
   "id": "7ebd5b5c-053c-47c9-ae34-45d13427793c",
   "metadata": {},
   "outputs": [
    {
     "name": "stdout",
     "output_type": "stream",
     "text": [
      "I am Parent1\n",
      "I am Parent2\n"
     ]
    }
   ],
   "source": [
    "class Parent1:\n",
    "    def __init__(self):\n",
    "        self.var1 = \"I am Parent1\"\n",
    "        \n",
    "    def print_parent1(self):\n",
    "        print(self.var1)\n",
    "\n",
    "class Parent2:\n",
    "    def __init__(self):\n",
    "        self.var2 = \"I am Parent2\"\n",
    "        \n",
    "    def print_parent2(self):\n",
    "        print(self.var2)\n",
    "\n",
    "class Child(Parent1, Parent2):\n",
    "    def __init__(self):\n",
    "        Parent1.__init__(self)\n",
    "        Parent2.__init__(self)\n",
    "\n",
    "child = Child()\n",
    "print(child.var1)\n",
    "print(child.var2)\n"
   ]
  },
  {
   "cell_type": "code",
   "execution_count": 9,
   "id": "acd3fadd-085c-4e55-b07f-915577e45746",
   "metadata": {},
   "outputs": [
    {
     "name": "stdout",
     "output_type": "stream",
     "text": [
      "I am Parent1\n"
     ]
    }
   ],
   "source": [
    "child.print_parent1()"
   ]
  },
  {
   "cell_type": "code",
   "execution_count": 11,
   "id": "2909e836-3664-4895-926d-5aa77ab68dd2",
   "metadata": {},
   "outputs": [
    {
     "name": "stdout",
     "output_type": "stream",
     "text": [
      "I am Parent2\n"
     ]
    }
   ],
   "source": [
    "child.print_parent2()"
   ]
  },
  {
   "cell_type": "code",
   "execution_count": 13,
   "id": "fe047d02-ef60-4d29-be9b-cd491853d424",
   "metadata": {},
   "outputs": [],
   "source": [
    "#Q4. What are getter and setter in python? Create a class and create a getter and a setter method in this class.\n",
    "\n",
    "#sol\n",
    "#Getters and setters are special methods that are used to get and set the values of the attributes of an object, respectively. They are often used to provide additional control over the values of the attributes and to ensure that the values are set and retrieved correctly."
   ]
  },
  {
   "cell_type": "code",
   "execution_count": 14,
   "id": "d026a937-dcb9-4b76-98eb-21f05860ea21",
   "metadata": {},
   "outputs": [],
   "source": [
    "class Person:\n",
    "    def __init__(self, name, age):\n",
    "        self._name = name\n",
    "        self._age = age\n",
    "\n",
    "    def get_name(self):\n",
    "        return self._name\n",
    "    \n",
    "    def set_name(self, name):\n",
    "        self._name = name\n",
    "        \n",
    "    def get_age(self):\n",
    "        return self._age\n",
    "    \n",
    "    def set_age(self, age):\n",
    "        self._age = age\n"
   ]
  },
  {
   "cell_type": "code",
   "execution_count": 15,
   "id": "7cd9bfef-a6c8-4472-8546-3f49f2d445fc",
   "metadata": {},
   "outputs": [
    {
     "name": "stdout",
     "output_type": "stream",
     "text": [
      "John\n",
      "30\n",
      "Jane\n",
      "35\n"
     ]
    }
   ],
   "source": [
    "person = Person(\"John\", 30)\n",
    "print(person.get_name())\n",
    "print(person.get_age())\n",
    "\n",
    "person.set_name(\"Jane\")\n",
    "person.set_age(35)\n",
    "print(person.get_name())\n",
    "print(person.get_age())\n"
   ]
  },
  {
   "cell_type": "code",
   "execution_count": 16,
   "id": "06a2f719-d20d-4570-b805-09eb3f497e84",
   "metadata": {},
   "outputs": [],
   "source": [
    "#Q5.What is method overriding in python? Write a python code to demonstrate method overriding.\n",
    "\n",
    "#SOL:\n",
    "\n",
    "#Method overriding is a feature in object-oriented programming where a subclass can provide its own implementation for a method that is already defined in its parent class. The method in the subclass has the same name and signature as the method in the parent class, and it replaces the behavior of the method in the parent class."
   ]
  },
  {
   "cell_type": "code",
   "execution_count": 17,
   "id": "47b47610-d4e2-44a6-9b54-f8a6dbe04632",
   "metadata": {},
   "outputs": [
    {
     "name": "stdout",
     "output_type": "stream",
     "text": [
      "Rectangle area: 200\n",
      "Circle area: 78.5\n"
     ]
    }
   ],
   "source": [
    "class Shape:\n",
    "    def area(self):\n",
    "        return 0\n",
    "    \n",
    "class Rectangle(Shape):\n",
    "    def __init__(self, length, width):\n",
    "        self.length = length\n",
    "        self.width = width\n",
    "        \n",
    "    def area(self):\n",
    "        return self.length * self.width\n",
    "    \n",
    "class Circle(Shape):\n",
    "    def __init__(self, radius):\n",
    "        self.radius = radius\n",
    "        \n",
    "    def area(self):\n",
    "        return 3.14 * self.radius * self.radius\n",
    "    \n",
    "rect = Rectangle(10, 20)\n",
    "print(\"Rectangle area:\", rect.area())\n",
    "\n",
    "circle = Circle(5)\n",
    "print(\"Circle area:\", circle.area())\n"
   ]
  },
  {
   "cell_type": "code",
   "execution_count": null,
   "id": "d6102fc0-1444-4386-9619-29a7930c18fc",
   "metadata": {},
   "outputs": [],
   "source": []
  }
 ],
 "metadata": {
  "kernelspec": {
   "display_name": "Python 3 (ipykernel)",
   "language": "python",
   "name": "python3"
  },
  "language_info": {
   "codemirror_mode": {
    "name": "ipython",
    "version": 3
   },
   "file_extension": ".py",
   "mimetype": "text/x-python",
   "name": "python",
   "nbconvert_exporter": "python",
   "pygments_lexer": "ipython3",
   "version": "3.10.8"
  }
 },
 "nbformat": 4,
 "nbformat_minor": 5
}
