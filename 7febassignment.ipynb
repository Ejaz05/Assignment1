{
 "cells": [
  {
   "cell_type": "code",
   "execution_count": 2,
   "id": "59fa0c82-906a-48a9-a0a4-01af25b81af8",
   "metadata": {},
   "outputs": [],
   "source": [
    "#Q1. You are writing code for a company. The requirement of the company is that you create a python\n",
    "#function that will check whether the password entered by the user is correct or not. The function should\n",
    "#take the password as input and return the string “Valid Password” if the entered password follows the\n",
    "#below-given password guidelines else it should return “Invalid Password”.\n",
    "#Note: 1. The Password should contain at least two uppercase letters and at least two lowercase letters.\n",
    "#2. The Password should contain at least a number and three special characters.\n",
    "#3. The length of the password should be 10 characters long."
   ]
  },
  {
   "cell_type": "code",
   "execution_count": 64,
   "id": "f5658916-83dd-4200-9162-f6c3fc99f066",
   "metadata": {},
   "outputs": [
    {
     "name": "stdin",
     "output_type": "stream",
     "text": [
      "Enter a password:  PW@#%sdf12\n"
     ]
    },
    {
     "name": "stdout",
     "output_type": "stream",
     "text": [
      "Valid Password\n"
     ]
    }
   ],
   "source": [
    "#solution\n",
    "\n",
    "def check_password(password):\n",
    "    upper_letters = 0\n",
    "    lower_letters = 0\n",
    "    special_characters = 0\n",
    "    numbers = 0\n",
    "    \n",
    "    for char in password:\n",
    "        if char.islower():\n",
    "            lower_letters += 1\n",
    "        elif char.isupper():\n",
    "            upper_letters += 1\n",
    "        elif char.isdigit():\n",
    "            numbers += 1\n",
    "        elif char in \"!@#$%^&*\":\n",
    "            special_characters += 1\n",
    "    \n",
    "    if upper_letters >= 2 and lower_letters >= 2 and numbers >= 1 and special_characters >= 3 and len(password) == 10:\n",
    "        return \"Valid Password\"\n",
    "    else:\n",
    "        return \"Invalid Password\"\n",
    "password = input(\"Enter a password: \")\n",
    "result = check_password(password)\n",
    "print(result)    \n"
   ]
  },
  {
   "cell_type": "code",
   "execution_count": 42,
   "id": "a5fa5eb4-e258-4807-bfde-cbeda42ea1f6",
   "metadata": {},
   "outputs": [],
   "source": [
    "#Q2. Solve the below-given questions using at least one of the following:\n",
    "#1. Lambda functioJ\n",
    "#2. Filter functioJ\n",
    "#3. Zap functioJ\n",
    "#4. List ComprehensioI\n",
    "#B Check if the string starts with a particular letter\n",
    "# Check if the string is numericY\n",
    "# Sort a list of tuples having fruit names and their quantity. [(\"mango\",99),(\"orange\",80), (\"grapes\", 1000)-\n",
    "# Find the squares of numbers from 1 to 10\n",
    "# Find the cube root of numbers from 1 to 10\n",
    "# Check if a given number is even\n",
    "# Filter odd numbers from the given list.\n",
    "#[1,2,3,4,5,6,7,8,9,10]\n",
    "# Sort a list of integers into positive and negative integers lists.\n",
    "#[1,2,3,4,5,6,-1,-2,-3,-4,-5,0]"
   ]
  },
  {
   "cell_type": "code",
   "execution_count": 43,
   "id": "bcd57730-d273-4130-884a-65ec8d8c1ccb",
   "metadata": {},
   "outputs": [
    {
     "data": {
      "text/plain": [
       "True"
      ]
     },
     "execution_count": 43,
     "metadata": {},
     "output_type": "execute_result"
    }
   ],
   "source": [
    "starts_with_letter = lambda x: x.startswith(\"a\")\n",
    "starts_with_letter(\"apple\")\n"
   ]
  },
  {
   "cell_type": "code",
   "execution_count": 45,
   "id": "22473320-06d8-4626-8892-faaa4d9c9e99",
   "metadata": {},
   "outputs": [
    {
     "data": {
      "text/plain": [
       "['123', '456']"
      ]
     },
     "execution_count": 45,
     "metadata": {},
     "output_type": "execute_result"
    }
   ],
   "source": [
    "is_numeric = [x for x in [\"123\", \"abc\", \"456\"] if x.isnumeric()]\n",
    "is_numeric\n"
   ]
  },
  {
   "cell_type": "code",
   "execution_count": 46,
   "id": "2a6d08b4-8b81-4d8f-8ea4-21dcc55575df",
   "metadata": {},
   "outputs": [
    {
     "data": {
      "text/plain": [
       "[('orange', 80), ('mango', 99), ('grapes', 1000)]"
      ]
     },
     "execution_count": 46,
     "metadata": {},
     "output_type": "execute_result"
    }
   ],
   "source": [
    "fruits = [(\"mango\",99),(\"orange\",80), (\"grapes\", 1000)]\n",
    "sorted_fruits = sorted(fruits, key=lambda x: x[1])\n",
    "sorted_fruits\n"
   ]
  },
  {
   "cell_type": "code",
   "execution_count": 47,
   "id": "c081e96e-de80-4288-af6c-710412198177",
   "metadata": {},
   "outputs": [
    {
     "data": {
      "text/plain": [
       "[1, 4, 9, 16, 25, 36, 49, 64, 81, 100]"
      ]
     },
     "execution_count": 47,
     "metadata": {},
     "output_type": "execute_result"
    }
   ],
   "source": [
    "squares = [x**2 for x in range(1, 11)]\n",
    "squares\n"
   ]
  },
  {
   "cell_type": "code",
   "execution_count": 48,
   "id": "dfe14881-4a88-46e7-96f7-c2cb135af256",
   "metadata": {},
   "outputs": [
    {
     "data": {
      "text/plain": [
       "[1.0,\n",
       " 1.2599210498948732,\n",
       " 1.4422495703074083,\n",
       " 1.5874010519681994,\n",
       " 1.7099759466766968,\n",
       " 1.8171205928321397,\n",
       " 1.912931182772389,\n",
       " 2.0,\n",
       " 2.080083823051904,\n",
       " 2.154434690031884]"
      ]
     },
     "execution_count": 48,
     "metadata": {},
     "output_type": "execute_result"
    }
   ],
   "source": [
    "cube_root = lambda x: x**(1/3)\n",
    "cube_roots = list(map(cube_root, range(1, 11)))\n",
    "cube_roots\n"
   ]
  },
  {
   "cell_type": "code",
   "execution_count": 49,
   "id": "9f4802d3-3731-4b25-8f1f-058888a6d877",
   "metadata": {},
   "outputs": [
    {
     "data": {
      "text/plain": [
       "[2, 4]"
      ]
     },
     "execution_count": 49,
     "metadata": {},
     "output_type": "execute_result"
    }
   ],
   "source": [
    "is_even = [x for x in [2, 3, 4, 5] if x % 2 == 0]\n",
    "is_even\n"
   ]
  },
  {
   "cell_type": "code",
   "execution_count": 50,
   "id": "b8e56c37-15cb-4d2a-adfb-7ee42e02671f",
   "metadata": {},
   "outputs": [
    {
     "data": {
      "text/plain": [
       "[1, 3, 5, 7, 9]"
      ]
     },
     "execution_count": 50,
     "metadata": {},
     "output_type": "execute_result"
    }
   ],
   "source": [
    "numbers = [1,2,3,4,5,6,7,8,9,10]\n",
    "odd_numbers = list(filter(lambda x: x % 2 != 0, numbers))\n",
    "odd_numbers\n"
   ]
  },
  {
   "cell_type": "code",
   "execution_count": 51,
   "id": "b3ff3016-a065-4728-8444-746ae48ab4c2",
   "metadata": {},
   "outputs": [],
   "source": [
    "numbers = [1,2,3,4,5,6,-1,-2,-3,-4,-5,0]\n",
    "positive_numbers = [x for x in numbers if x > 0]\n",
    "negative_numbers = [x for x in numbers if x < 0]\n"
   ]
  },
  {
   "cell_type": "code",
   "execution_count": 52,
   "id": "dad839ee-e264-4c54-8906-81254a178f5f",
   "metadata": {},
   "outputs": [
    {
     "data": {
      "text/plain": [
       "[1, 2, 3, 4, 5, 6]"
      ]
     },
     "execution_count": 52,
     "metadata": {},
     "output_type": "execute_result"
    }
   ],
   "source": [
    "positive_numbers"
   ]
  },
  {
   "cell_type": "code",
   "execution_count": 53,
   "id": "fadeec64-20aa-404c-92f9-a2b452404915",
   "metadata": {},
   "outputs": [
    {
     "data": {
      "text/plain": [
       "[-1, -2, -3, -4, -5]"
      ]
     },
     "execution_count": 53,
     "metadata": {},
     "output_type": "execute_result"
    }
   ],
   "source": [
    "negative_numbers "
   ]
  },
  {
   "cell_type": "code",
   "execution_count": null,
   "id": "24e841dd-9ef9-4d18-90d7-d23e8ea4bd85",
   "metadata": {},
   "outputs": [],
   "source": []
  }
 ],
 "metadata": {
  "kernelspec": {
   "display_name": "Python 3 (ipykernel)",
   "language": "python",
   "name": "python3"
  },
  "language_info": {
   "codemirror_mode": {
    "name": "ipython",
    "version": 3
   },
   "file_extension": ".py",
   "mimetype": "text/x-python",
   "name": "python",
   "nbconvert_exporter": "python",
   "pygments_lexer": "ipython3",
   "version": "3.10.8"
  }
 },
 "nbformat": 4,
 "nbformat_minor": 5
}
