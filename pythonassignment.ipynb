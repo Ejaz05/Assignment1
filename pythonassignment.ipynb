{
 "cells": [
  {
   "cell_type": "code",
   "execution_count": 1,
   "id": "9b21b8d3-fd13-4395-88d8-1dc53bc52650",
   "metadata": {},
   "outputs": [],
   "source": [
    "## Q1: Which keyword is used to create a function? Create a function to return a list of odd numbers in the range of 1 to 25.\n",
    "\n",
    "## Solution: The keyword \"def\" is used to create a function in Python. Here's the function to return a list of odd numbers in the range of 1 to 25:\n"
   ]
  },
  {
   "cell_type": "code",
   "execution_count": 4,
   "id": "938f4157-d6df-49ec-800f-6a03fcdc18d0",
   "metadata": {},
   "outputs": [],
   "source": [
    "def odd_numbers():\n",
    "    odd_list = []\n",
    "    for i in range(1, 26):\n",
    "        if i % 2 != 0:\n",
    "            odd_list.append(i)\n",
    "    return odd_list\n"
   ]
  },
  {
   "cell_type": "code",
   "execution_count": 6,
   "id": "c9b9fe47-f34a-409b-a019-4683e2ce3dc1",
   "metadata": {},
   "outputs": [],
   "source": [
    "##Q2. Why *args and **kwargs is used in some functions? Create a function each for *args and **kwargs to demonstrate their use.\n",
    "\n",
    "###Solution: *args and **kwargs are used to pass a variable number of arguments to a function. *args is used to send a non-keyworded variable length argument list to the function and **kwargs allows you to pass keyworded variable length of arguments to a function."
   ]
  },
  {
   "cell_type": "code",
   "execution_count": 7,
   "id": "76c370e3-cce5-4b7f-b4e6-1716c828dd61",
   "metadata": {},
   "outputs": [
    {
     "name": "stdout",
     "output_type": "stream",
     "text": [
      "Arguments passed to the function:  (1, 2, 3, 4, 5)\n"
     ]
    }
   ],
   "source": [
    "## function that demonstrates the use of *args:\n",
    "\n",
    "def print_args(*args):\n",
    "    print(\"Arguments passed to the function: \", args)\n",
    "\n",
    "print_args(1, 2, 3, 4, 5)"
   ]
  },
  {
   "cell_type": "code",
   "execution_count": 8,
   "id": "720ce327-6646-4048-b66e-46803d06c314",
   "metadata": {},
   "outputs": [
    {
     "name": "stdout",
     "output_type": "stream",
     "text": [
      "Keyword arguments passed to the function:  {'first_name': 'Ejaz', 'last_name': 'Hussain'}\n"
     ]
    }
   ],
   "source": [
    "## function that demonstrates the use of **kwargs:\n",
    "\n",
    "def print_kwargs(**kwargs):\n",
    "    print(\"Keyword arguments passed to the function: \", kwargs)\n",
    "\n",
    "print_kwargs(first_name='Ejaz', last_name='Hussain')\n"
   ]
  },
  {
   "cell_type": "code",
   "execution_count": 9,
   "id": "0620fbf4-e350-4f3c-b760-fa0e96f5d5b4",
   "metadata": {},
   "outputs": [],
   "source": [
    "## Q3. What is an iterator in python? Name the method used to initialise the iterator object and the method\n",
    "##used for iteration. Use these methods to print the first five elements of the given list [2, 4, 6, 8, 10, 12, 14,16, 18, 20].\n",
    "\n",
    "##Solution: An iterator in Python is an object that implements the iterator protocol, which consists of the methods __iter__() and __next__(). The __iter__() method returns the iterator object itself, and the __next__() method returns the next value from the iterator."
   ]
  },
  {
   "cell_type": "code",
   "execution_count": 10,
   "id": "ff42b929-b71c-4f18-92f3-1de667a51490",
   "metadata": {},
   "outputs": [
    {
     "name": "stdout",
     "output_type": "stream",
     "text": [
      "2\n",
      "4\n",
      "6\n",
      "8\n",
      "10\n"
     ]
    }
   ],
   "source": [
    "lst = [2, 4, 6, 8, 10, 12, 14, 16, 18, 20]\n",
    "it = iter(lst) # initializing the iterator object\n",
    "\n",
    "for i in range(5):\n",
    "    print(next(it)) # printing the first five elements\n"
   ]
  },
  {
   "cell_type": "code",
   "execution_count": 11,
   "id": "7b9d4fe1-e16a-41ef-b1be-13d852b69121",
   "metadata": {},
   "outputs": [],
   "source": [
    "## Q4. What is a generator function in python? Why yield keyword is used? Give an example of a generator function.\n",
    "\n",
    "## Solution : A generator function is a special type of function in Python that allows the code to pause and resume execution during the function call, retaining the state of the function variables between pauses. It returns a generator object, which can be iterated over using a for loop or next() function.\n",
    "\n",
    "##The yield keyword is used in a generator function to produce a value and pause the execution of the function, retaining the state of the variables. The next time the generator is called, execution resumes where it left off."
   ]
  },
  {
   "cell_type": "code",
   "execution_count": 12,
   "id": "304465d2-17e2-41c3-b8e6-960d8cb71e50",
   "metadata": {},
   "outputs": [
    {
     "name": "stdout",
     "output_type": "stream",
     "text": [
      "0\n",
      "1\n",
      "1\n",
      "2\n",
      "3\n",
      "5\n",
      "8\n",
      "13\n",
      "21\n",
      "34\n"
     ]
    }
   ],
   "source": [
    "def fibonacci_gen(n):\n",
    "    a, b = 0, 1\n",
    "    for i in range(n):\n",
    "        yield a\n",
    "        a, b = b, a + b\n",
    "\n",
    "fib = fibonacci_gen(10)\n",
    "for i in fib:\n",
    "    print(i)\n"
   ]
  },
  {
   "cell_type": "code",
   "execution_count": 13,
   "id": "f35e99ed-9002-4394-a729-fcd9059d9975",
   "metadata": {},
   "outputs": [],
   "source": [
    "##Q5. Create a generator function for prime numbers less than 1000. Use the next() method to print the first 20 prime numbers."
   ]
  },
  {
   "cell_type": "code",
   "execution_count": 14,
   "id": "288b6039-2874-44cc-9e8f-d0086d08418b",
   "metadata": {},
   "outputs": [
    {
     "name": "stdout",
     "output_type": "stream",
     "text": [
      "2\n",
      "3\n",
      "5\n",
      "7\n",
      "11\n",
      "13\n",
      "17\n",
      "19\n",
      "23\n",
      "29\n",
      "31\n",
      "37\n",
      "41\n",
      "43\n",
      "47\n",
      "53\n",
      "59\n",
      "61\n",
      "67\n",
      "71\n"
     ]
    }
   ],
   "source": [
    "##soluttion\n",
    "\n",
    "def prime_numbers(n):\n",
    "    for num in range(2, n):\n",
    "        for i in range(2, num):\n",
    "            if (num % i) == 0:\n",
    "                break\n",
    "        else:\n",
    "            yield num\n",
    "\n",
    "prime_gen = prime_numbers(1000)\n",
    "\n",
    "# Use the next() method to print the first 20 prime numbers\n",
    "for i in range(20):\n",
    "    print(next(prime_gen))\n"
   ]
  },
  {
   "cell_type": "code",
   "execution_count": 15,
   "id": "fe56c16e-044b-40fc-b85b-ca210c0f5be1",
   "metadata": {},
   "outputs": [],
   "source": [
    "## Q6. Write a python program to print the first 10 Fibonacci numbers using a while loop."
   ]
  },
  {
   "cell_type": "code",
   "execution_count": 19,
   "id": "646545ff-9ad8-434c-a68d-c8d7bd23ea9c",
   "metadata": {},
   "outputs": [
    {
     "name": "stdout",
     "output_type": "stream",
     "text": [
      "1\n",
      "1\n",
      "2\n",
      "3\n",
      "5\n",
      "8\n",
      "13\n",
      "21\n",
      "34\n",
      "55\n"
     ]
    }
   ],
   "source": [
    "##Solution\n",
    "\n",
    "def fibonacci(n):\n",
    "    a, b = 0, 1\n",
    "    while n > 0:\n",
    "        print(b)\n",
    "        a, b = b, a + b\n",
    "        n = n - 1\n",
    "\n",
    "fibonacci(10)\n"
   ]
  },
  {
   "cell_type": "code",
   "execution_count": 20,
   "id": "674699c7-9cd1-4205-9e86-bebe9624bf09",
   "metadata": {},
   "outputs": [],
   "source": [
    "##Q7. Write a List Comprehension to iterate through the given string: ‘pwskills’.\n",
    "## Expected output: ['p', 'w', 's', 'k', 'i', 'l', 'l', 's']"
   ]
  },
  {
   "cell_type": "code",
   "execution_count": 21,
   "id": "21dfb687-a6bc-4a7f-8f77-027b0dd1d8f3",
   "metadata": {},
   "outputs": [
    {
     "name": "stdout",
     "output_type": "stream",
     "text": [
      "['p', 'w', 's', 'k', 'i', 'l', 'l', 's']\n"
     ]
    }
   ],
   "source": [
    "string = 'pwskills'\n",
    "list_comp = [char for char in string]\n",
    "print(list_comp)\n"
   ]
  },
  {
   "cell_type": "code",
   "execution_count": 22,
   "id": "435fafd0-f790-41b0-9320-a968801b4673",
   "metadata": {},
   "outputs": [],
   "source": [
    "##Q8. Write a python program to check whether a given number is Palindrome or not using a while loop."
   ]
  },
  {
   "cell_type": "code",
   "execution_count": 27,
   "id": "19ab3613-56e7-45f9-a4b6-0060bed353c7",
   "metadata": {},
   "outputs": [
    {
     "name": "stdin",
     "output_type": "stream",
     "text": [
      "Enter a number:  8\n"
     ]
    },
    {
     "name": "stdout",
     "output_type": "stream",
     "text": [
      "8 is a palindrome\n"
     ]
    }
   ],
   "source": [
    "##solution\n",
    "\n",
    "def is_palindrome(num):\n",
    "    temp = num\n",
    "    reverse = 0\n",
    "    while temp > 0:\n",
    "        reverse = (reverse * 10) + (temp % 10)\n",
    "        temp = temp // 10\n",
    "    return reverse == num\n",
    "\n",
    "num = int(input(\"Enter a number: \"))\n",
    "if is_palindrome(num):\n",
    "    print(num, \"is a palindrome\")\n",
    "else:\n",
    "    print(num, \"is not a palindrome\")\n"
   ]
  },
  {
   "cell_type": "code",
   "execution_count": 28,
   "id": "2c888521-d7db-4d61-99f6-717bdf439f99",
   "metadata": {},
   "outputs": [],
   "source": [
    "## Q9. Write a code to print odd numbers from 1 to 100 using list comprehension.\n",
    "##Note: Use a list comprehension to create a list from 1 to 100 and use another List comprehension to filter out odd numbers."
   ]
  },
  {
   "cell_type": "code",
   "execution_count": 29,
   "id": "d1131b15-999d-401b-81de-15ae15c98af0",
   "metadata": {},
   "outputs": [
    {
     "name": "stdout",
     "output_type": "stream",
     "text": [
      "[1, 3, 5, 7, 9, 11, 13, 15, 17, 19, 21, 23, 25, 27, 29, 31, 33, 35, 37, 39, 41, 43, 45, 47, 49, 51, 53, 55, 57, 59, 61, 63, 65, 67, 69, 71, 73, 75, 77, 79, 81, 83, 85, 87, 89, 91, 93, 95, 97, 99]\n"
     ]
    }
   ],
   "source": [
    "odd_numbers = [num for num in range(1, 101) if num % 2 != 0]\n",
    "print(odd_numbers)\n"
   ]
  },
  {
   "cell_type": "code",
   "execution_count": null,
   "id": "cb1cad35-caf3-4159-bc14-591ba7c69c7a",
   "metadata": {},
   "outputs": [],
   "source": []
  }
 ],
 "metadata": {
  "kernelspec": {
   "display_name": "Python 3 (ipykernel)",
   "language": "python",
   "name": "python3"
  },
  "language_info": {
   "codemirror_mode": {
    "name": "ipython",
    "version": 3
   },
   "file_extension": ".py",
   "mimetype": "text/x-python",
   "name": "python",
   "nbconvert_exporter": "python",
   "pygments_lexer": "ipython3",
   "version": "3.10.8"
  }
 },
 "nbformat": 4,
 "nbformat_minor": 5
}
