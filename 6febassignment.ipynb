{
 "cells": [
  {
   "cell_type": "code",
   "execution_count": 1,
   "id": "941897ea-8018-4ab4-8d1e-e07c0e511af3",
   "metadata": {},
   "outputs": [],
   "source": [
    "#Q1. Create a function which will take a list as an argument and return the product of all the numbers\n",
    "#after creating a flat list.\n",
    "#Use the below-given list as an argument for your function.\n",
    "#list1 = [1,2,3,4, [44,55,66, True], False, (34,56,78,89,34), {1,2,3,3,2,1}, {1:34, \"key2\": [55, 67, 78, 89], 4: (45,\n",
    "#22, 61, 34)}, [56, 'data science'], 'Machine Learning']\n",
    "#Note: you must extract numeric keys and values of the dictionary also."
   ]
  },
  {
   "cell_type": "code",
   "execution_count": 3,
   "id": "7dba5ed6-c463-4b49-905d-d80fd8f55a67",
   "metadata": {},
   "outputs": [
    {
     "name": "stdout",
     "output_type": "stream",
     "text": [
      "0\n"
     ]
    }
   ],
   "source": [
    "#solution\n",
    "\n",
    "def product_of_numbers(lst):\n",
    "    product = 1\n",
    "    for item in lst:\n",
    "        if isinstance(item, (int, float)):\n",
    "            product *= item\n",
    "        elif isinstance(item, list):\n",
    "            product *= product_of_numbers(item)\n",
    "        elif isinstance(item, tuple):\n",
    "            product *= product_of_numbers(item)\n",
    "        elif isinstance(item, dict):\n",
    "            for key, value in item.items():\n",
    "                if isinstance(key, (int, float)):\n",
    "                    product *= key\n",
    "                if isinstance(value, (int, float)):\n",
    "                    product *= value\n",
    "                if isinstance(value, list):\n",
    "                    product *= product_of_numbers(value)\n",
    "                if isinstance(value, tuple):\n",
    "                    product *= product_of_numbers(value)\n",
    "    return product\n",
    "\n",
    "list1 = [1, 2, 3, 4, [44, 55, 66, True], False, (34, 56, 78, 89, 34), {1, 2, 3, 3, 2, 1},\n",
    "         {1: 34, \"key2\": [55, 67, 78, 89], 4: (45, 22, 61, 34)}, [56, 'data science'], 'Machine Learning']\n",
    "\n",
    "result = product_of_numbers(list1)\n",
    "print(result)\n"
   ]
  },
  {
   "cell_type": "code",
   "execution_count": 4,
   "id": "41e113b0-5d9e-4b22-887a-853c6d1839f7",
   "metadata": {},
   "outputs": [],
   "source": [
    "#Q2. Write a python program for encrypting a message sent to you by your friend. The logic of encryption\n",
    "#should be such that, for a the output should be z. For b, the output should be y. For c, the output should\n",
    "#be x respectively. Also, the whitespace should be replaced with a dollar sign. Keep the punctuation\n",
    "#marks unchanged.\n",
    "#Input Sentence: I want to become a Data Scientist.\n",
    "#Encrypt the above input sentence using the program you just created.\n",
    "#Note: Convert the given input sentence into lowercase before encrypting. The final output should be\n",
    "#lowercase."
   ]
  },
  {
   "cell_type": "code",
   "execution_count": 12,
   "id": "1d8aef84-a44f-4d53-97ea-7826b858ba6f",
   "metadata": {},
   "outputs": [
    {
     "name": "stdout",
     "output_type": "stream",
     "text": [
      "r$dzmg$gl$yvxlnv$z$wzgz$hxrvmgrhg.\n"
     ]
    }
   ],
   "source": [
    "def encrypt_message(sentence):\n",
    "    encrypted_sentence = \"\"\n",
    "    alphabet = \"abcdefghijklmnopqrstuvwxyz\"\n",
    "    for char in sentence.lower():\n",
    "        if char == \" \":\n",
    "            encrypted_sentence += \"$\"\n",
    "        elif char in alphabet:\n",
    "            encrypted_sentence += alphabet[25 - alphabet.index(char)]\n",
    "        else:\n",
    "            encrypted_sentence += char\n",
    "    return encrypted_sentence\n",
    "\n",
    "sentence = \"I want to become a Data Scientist.\"\n",
    "encrypted_sentence = encrypt_message(sentence)\n",
    "print(encrypted_sentence)\n"
   ]
  },
  {
   "cell_type": "code",
   "execution_count": null,
   "id": "ce9a346c-d1e5-4907-a4ed-8bcb2aaa7582",
   "metadata": {},
   "outputs": [],
   "source": []
  },
  {
   "cell_type": "code",
   "execution_count": null,
   "id": "dac4145f-64e7-4f33-a2ca-7ab3b78a8291",
   "metadata": {},
   "outputs": [],
   "source": []
  }
 ],
 "metadata": {
  "kernelspec": {
   "display_name": "Python 3 (ipykernel)",
   "language": "python",
   "name": "python3"
  },
  "language_info": {
   "codemirror_mode": {
    "name": "ipython",
    "version": 3
   },
   "file_extension": ".py",
   "mimetype": "text/x-python",
   "name": "python",
   "nbconvert_exporter": "python",
   "pygments_lexer": "ipython3",
   "version": "3.10.8"
  }
 },
 "nbformat": 4,
 "nbformat_minor": 5
}
