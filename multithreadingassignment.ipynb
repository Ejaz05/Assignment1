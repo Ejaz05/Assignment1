{
 "cells": [
  {
   "cell_type": "code",
   "execution_count": 1,
   "id": "0b9182ad-860c-4074-a408-c8c7fec4f2e0",
   "metadata": {},
   "outputs": [],
   "source": [
    "# Q1. What is multithreading in python? Why is it used? Name the module used to handle threads in python.\n",
    "\n",
    "#Ans: Multithreading in Python is the ability to run multiple threads within a single program, allowing for concurrent execution of tasks. Each thread runs independently, allowing multiple tasks to be executed simultaneously within a single process.\n",
    "\n",
    "#Multithreading is used to improve the performance of programs that can benefit from parallel processing. By running multiple threads, a program can utilize multiple CPUs or CPU cores, which can significantly improve its performance. Multithreading can be particularly useful in applications that are I/O-bound or involve long-running tasks, such as network servers, data processing, and scientific computing.\n",
    "\n",
    "#In Python, the threading module is used to handle threads. This module provides a way to create and manage threads, and it includes classes and functions for synchronizing threads and protecting shared resources. The threading module provides a high-level interface to multithreading, allowing Python developers to easily implement concurrency in their programs."
   ]
  },
  {
   "cell_type": "code",
   "execution_count": 2,
   "id": "44d80721-c5ae-4da9-a937-037d1e804157",
   "metadata": {},
   "outputs": [],
   "source": [
    "# Q2: Why threading module used? Write the use of the following functions\n",
    "#1. activeCount()\n",
    "#2. currentThread()\n",
    "#3. enumerate()\n",
    "\n",
    "#Ans: The threading module in Python is used to handle threads and implement multithreading in a program. It provides classes and functions for creating, managing, and synchronizing threads.\n",
    "\n",
    "#The following are the uses of the specific functions in the threading module:\n",
    "\n",
    "#activeCount(): This function is used to return the number of thread objects that are currently active in the program. An active thread is a thread that has been started but has not yet been joined. The activeCount() function is useful for debugging and monitoring purposes, as it allows you to see how many threads are currently running in your program.\n",
    "\n",
    "#currentThread(): This function is used to return a reference to the current thread object. The current thread is the thread that is currently executing the Python code. The currentThread() function is useful for debugging and monitoring purposes, as it allows you to identify the current thread and obtain information about it, such as its name, ID, and state.\n",
    "\n",
    "#enumerate(): This function is used to return a list of all thread objects that are currently active in the program. An active thread is a thread that has been started but has not yet been joined. The enumerate() function is useful for debugging and monitoring purposes, as it allows you to see all the threads that are currently running in your program and obtain information about each thread, such as its name, ID, and state."
   ]
  },
  {
   "cell_type": "code",
   "execution_count": 3,
   "id": "e16d321d-35d8-48ab-a94c-3004ab88ef67",
   "metadata": {},
   "outputs": [],
   "source": [
    "#Q3. Explain the following functions\n",
    "#1. run()\n",
    "#2. start()\n",
    "#3. join()\n",
    "#4. isAlive()\n",
    "\n",
    "#Ans:\n",
    "#In the context of the threading module in Python, the following are the functions and their explanations:\n",
    "\n",
    "#run(): This method is called when a thread starts running. It is the entry point for the thread's execution, and it is where the thread's code is defined. The run() method must be overridden in a subclass of the Thread class to define the thread's behavior.\n",
    "\n",
    "#start(): This method is used to start the execution of a thread. When called, it creates a new thread and calls the run() method of that thread to start its execution. The start() method must be called on a Thread object that has been instantiated, but it can only be called once. If start() is called multiple times on the same Thread object, it will raise an error.\n",
    "\n",
    "#join(): This method is used to wait for a thread to finish its execution. When called, it blocks the calling thread until the target thread has completed its execution. The join() method can take an optional timeout parameter, which specifies the maximum amount of time to wait for the target thread to complete. If the timeout expires before the target thread has completed, the join() method will return, and the calling thread will continue its execution.\n",
    "\n",
    "#isAlive(): This method is used to check whether a thread is currently running. When called, it returns a Boolean value that indicates whether the target thread is alive or not. A thread is considered alive if it has been started but has not yet completed its execution. The isAlive() method can be used to check the status of a thread and take appropriate action based on its result.\n",
    "\n",
    "\n",
    "\n"
   ]
  },
  {
   "cell_type": "code",
   "execution_count": 4,
   "id": "d12f14ea-dde6-4407-8255-bfbf04ec2b3e",
   "metadata": {},
   "outputs": [],
   "source": [
    "#4. Write a python program to create two threads. Thread one must print the list of squares and thread two must print the list of cubes"
   ]
  },
  {
   "cell_type": "code",
   "execution_count": 5,
   "id": "50816c36-17ff-47e8-ade8-0720b1db3d90",
   "metadata": {},
   "outputs": [
    {
     "name": "stdout",
     "output_type": "stream",
     "text": [
      "1 squared is 1\n",
      "2 squared is 4\n",
      "3 squared is 9\n",
      "4 squared is 16\n",
      "5 squared is 25\n",
      "6 squared is 36\n",
      "7 squared is 49\n",
      "8 squared is 64\n",
      "9 squared is 81\n",
      "10 squared is 100\n",
      "1 cubed is 1\n",
      "2 cubed is 8\n",
      "3 cubed is 27\n",
      "4 cubed is 64\n",
      "5 cubed is 125\n",
      "6 cubed is 216\n",
      "7 cubed is 343\n",
      "8 cubed is 512\n",
      "9 cubed is 729\n",
      "10 cubed is 1000\n"
     ]
    }
   ],
   "source": [
    "import threading\n",
    "\n",
    "def print_squares():\n",
    "    for i in range(1, 11):\n",
    "        print(f\"{i} squared is {i**2}\")\n",
    "\n",
    "def print_cubes():\n",
    "    for i in range(1, 11):\n",
    "        print(f\"{i} cubed is {i**3}\")\n",
    "\n",
    "t1 = threading.Thread(target=print_squares)\n",
    "t2 = threading.Thread(target=print_cubes)\n",
    "\n",
    "t1.start()\n",
    "t2.start()\n",
    "\n",
    "t1.join()\n",
    "t2.join()\n"
   ]
  },
  {
   "cell_type": "code",
   "execution_count": 7,
   "id": "3bbae685-de91-497a-b224-9640e1104ad5",
   "metadata": {},
   "outputs": [],
   "source": [
    "#Q5. State advantages and disadvantages of multithreading.\n",
    "\n",
    "#Ans:Multithreading is a powerful technique that can provide many benefits, but it also has some drawbacks. Here are some advantages and disadvantages of multithreading:\n",
    "\n",
    "#Advantages:\n",
    "\n",
    "#1 Improved performance: Multithreading can improve the performance of a program by allowing multiple tasks to run concurrently, which can lead to faster execution times.\n",
    "#2 Efficient use of resources: Multithreading allows for efficient use of system resources, as multiple threads can share the same memory space and CPU time.\n",
    "#3 Simplified program structure: Multithreading can simplify the structure of a program by allowing it to be broken down into smaller, more manageable tasks that can be executed independently.\n",
    "#4 Enhanced responsiveness: Multithreading can enhance the responsiveness of a program by allowing it to continue processing other tasks while waiting for I/O operations or other slow tasks to complete.\n",
    "\n",
    "#Disadvantages:\n",
    "\n",
    "#1 Complexity: Multithreaded programs can be more complex than single-threaded programs, as developers must consider issues such as synchronization and thread safety.\n",
    "#2Overhead: Multithreading can introduce overhead due to the need to manage multiple threads, which can lead to reduced performance in some cases.\n",
    "#3 Resource contention: Multithreading can result in resource contention, as multiple threads may attempt to access the same shared resources at the same time, leading to race conditions, deadlocks, or other synchronization issues.\n",
    "#4 Debugging and testing: Multithreaded programs can be more difficult to debug and test than single-threaded programs, as issues such as race conditions and deadlocks can be difficult to reproduce and diagnose.\n",
    "\n",
    "#Overall, the advantages of multithreading can make it a useful technique for improving program performance and resource utilization, but the complexity and overhead it introduces must be carefully considered when deciding whether to use it in a particular application.\n"
   ]
  },
  {
   "cell_type": "code",
   "execution_count": 8,
   "id": "3f1f2928-cd36-4562-a853-b75cf8872586",
   "metadata": {},
   "outputs": [],
   "source": [
    "#Q6. Explain deadlocks and race conditions.\n",
    "\n",
    "#Ans: Deadlocks and race conditions are two types of synchronization issues that can occur in multithreaded programs.\n",
    "\n",
    "# Deadlock: A deadlock occurs when two or more threads are blocked and waiting for each other to release resources that they are holding, resulting in a situation where none of the threads can proceed. In other words, each thread is waiting for the other thread to release a resource that it needs, but neither thread can proceed until the other thread releases the resource.\n",
    "# For example, if Thread A is holding Resource X and waiting for Resource Y to be released by Thread B, and Thread B is holding Resource Y and waiting for Resource X to be released by Thread A, a deadlock will occur.\n",
    "\n",
    "# Race condition: A race condition occurs when two or more threads access a shared resource at the same time, and the result of the program depends on the order in which the threads execute. In other words, the program behavior is dependent on the timing of the thread execution.\n",
    "# For example, if two threads are updating a shared variable, and the order in which they execute is not controlled, the final value of the variable may be different from what is expected due to race conditions."
   ]
  },
  {
   "cell_type": "code",
   "execution_count": null,
   "id": "353f93c3-a10b-467a-b277-4c3d890b9b5a",
   "metadata": {},
   "outputs": [],
   "source": []
  }
 ],
 "metadata": {
  "kernelspec": {
   "display_name": "Python 3 (ipykernel)",
   "language": "python",
   "name": "python3"
  },
  "language_info": {
   "codemirror_mode": {
    "name": "ipython",
    "version": 3
   },
   "file_extension": ".py",
   "mimetype": "text/x-python",
   "name": "python",
   "nbconvert_exporter": "python",
   "pygments_lexer": "ipython3",
   "version": "3.10.8"
  }
 },
 "nbformat": 4,
 "nbformat_minor": 5
}
