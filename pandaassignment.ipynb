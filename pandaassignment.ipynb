{
 "cells": [
  {
   "cell_type": "code",
   "execution_count": 1,
   "id": "a0a375be-75b2-4644-8090-bfc4a4c96f1c",
   "metadata": {},
   "outputs": [
    {
     "name": "stdout",
     "output_type": "stream",
     "text": [
      "0     4\n",
      "1     8\n",
      "2    15\n",
      "3    16\n",
      "4    23\n",
      "5    42\n",
      "dtype: int64\n"
     ]
    }
   ],
   "source": [
    "#Q1. Create a Pandas Series that contains the following data: 4, 8, 15, 16, 23, and 42. Then, print the series.\n",
    "\n",
    "#Ans: \n",
    "\n",
    "import pandas as pd\n",
    "\n",
    "# Create a Pandas Series with the given data\n",
    "data = [4, 8, 15, 16, 23, 42]\n",
    "series = pd.Series(data)\n",
    "\n",
    "# Print the series\n",
    "print(series)\n"
   ]
  },
  {
   "cell_type": "code",
   "execution_count": 2,
   "id": "0581d6eb-bafb-45cd-a464-3bae753650fc",
   "metadata": {},
   "outputs": [
    {
     "name": "stdout",
     "output_type": "stream",
     "text": [
      "0     1\n",
      "1     2\n",
      "2     3\n",
      "3     4\n",
      "4     5\n",
      "5     6\n",
      "6     7\n",
      "7     8\n",
      "8     9\n",
      "9    10\n",
      "dtype: int64\n"
     ]
    }
   ],
   "source": [
    "#Q2. Create a variable of list type containing 10 elements in it, and apply pandas.Series function on the variable print it.\n",
    "\n",
    "import pandas as pd\n",
    "\n",
    "# Create a list with 10 elements\n",
    "my_list = [1, 2, 3, 4, 5, 6, 7, 8, 9, 10]\n",
    "\n",
    "# Convert the list into a Pandas Series\n",
    "my_series = pd.Series(my_list)\n",
    "\n",
    "# Print the series\n",
    "print(my_series)\n"
   ]
  },
  {
   "cell_type": "code",
   "execution_count": 3,
   "id": "83e004d5-ad25-400e-a2c1-77fb0d784cd4",
   "metadata": {},
   "outputs": [
    {
     "name": "stdout",
     "output_type": "stream",
     "text": [
      "     Name  Age  Gender\n",
      "0   Alice   25  Female\n",
      "1     Bob   30    Male\n",
      "2  Claire   27  Female\n"
     ]
    }
   ],
   "source": [
    "#Q3. Create a Pandas DataFrame that contains the following data:\n",
    "\n",
    "import pandas as pd\n",
    "\n",
    "# Create a dictionary with the given data\n",
    "data = {\n",
    "    \"Name\": [\"Alice\", \"Bob\", \"Claire\"],\n",
    "    \"Age\": [25, 30, 27],\n",
    "    \"Gender\": [\"Female\", \"Male\", \"Female\"]\n",
    "}\n",
    "\n",
    "# Convert the dictionary into a Pandas DataFrame\n",
    "df = pd.DataFrame(data)\n",
    "\n",
    "# Print the DataFrame\n",
    "print(df)\n"
   ]
  },
  {
   "cell_type": "code",
   "execution_count": 4,
   "id": "4e7b6a41-c9d8-4cec-bf74-31028a4f2c7a",
   "metadata": {},
   "outputs": [
    {
     "name": "stdout",
     "output_type": "stream",
     "text": [
      "      Name  Age  Gender\n",
      "0    Richa   25  Female\n",
      "1    Mohan   30    Male\n",
      "2  Shalini   27  Female\n",
      "0    25\n",
      "1    30\n",
      "2    27\n",
      "Name: Age, dtype: int64\n"
     ]
    }
   ],
   "source": [
    "#Q4. What is ‘DataFrame’ in pandas and how is it different from pandas.series? Explain with an example.\n",
    "\n",
    "#Ans: In pandas, a DataFrame is a two-dimensional labeled data structure with columns of potentially different data types. It is similar to a spreadsheet or a SQL table, where each column can contain data of a different type (such as numbers, strings, or dates), and each row represents a single observation.\n",
    "\n",
    "#On the other hand, a Series in pandas is a one-dimensional labeled data structure that can contain any data type. It is similar to a list or an array, where each element is associated with a label or an index.\n",
    "\n",
    "#The main difference between a DataFrame and a Series is that a DataFrame can contain multiple columns of data, while a Series can only contain a single column of data.\n",
    "\n",
    "#Here's an example to illustrate the difference between a DataFrame and a Series:\n",
    "import pandas as pd\n",
    "\n",
    "# Create a dictionary with data for a DataFrame\n",
    "data = {\n",
    "    \"Name\": [\"Richa\", \"Mohan\", \"Shalini\"],\n",
    "    \"Age\": [25, 30, 27],\n",
    "    \"Gender\": [\"Female\", \"Male\", \"Female\"]\n",
    "}\n",
    "\n",
    "# Create a DataFrame from the dictionary\n",
    "df = pd.DataFrame(data)\n",
    "\n",
    "# Print the DataFrame\n",
    "print(df)\n",
    "\n",
    "# Create a Series from one of the columns of the DataFrame\n",
    "age_series = df[\"Age\"]\n",
    "\n",
    "# Print the Series\n",
    "print(age_series)\n",
    "\n"
   ]
  },
  {
   "cell_type": "code",
   "execution_count": 5,
   "id": "c7c91dfd-41b4-4966-93c7-fe86ccb4da64",
   "metadata": {},
   "outputs": [],
   "source": [
    "#In this example, we first create a dictionary with data for a DataFrame containing three columns: \"Name\", \"Age\", and \"Gender\". We then use this dictionary to create a Pandas DataFrame using the pd.DataFrame() function. We print the resulting DataFrame, which has three columns and three rows.\n",
    "\n",
    "#Next, we create a Pandas Series by selecting the \"Age\" column from the DataFrame using df[\"Age\"]. We print the resulting Series, which has a single column of data with three rows.\n",
    "\n",
    "#So, the main difference between a DataFrame and a Series is that a DataFrame can contain multiple columns of data, while a Series can only contain a single column of data. In other words, a DataFrame is a collection of Series, where each Series represents a column of data.\n",
    "\n"
   ]
  },
  {
   "cell_type": "code",
   "execution_count": 6,
   "id": "efb24405-efe6-4b3d-9839-db37e3e49bbf",
   "metadata": {},
   "outputs": [],
   "source": [
    "#Q5. What are some common functions you can use to manipulate data in a Pandas DataFrame? Can you give an example of when you might use one of these functions?"
   ]
  },
  {
   "cell_type": "code",
   "execution_count": 7,
   "id": "0e6c6068-e952-42c6-b399-b2608041aac7",
   "metadata": {},
   "outputs": [],
   "source": [
    "#Pandas provides a wide range of functions for manipulating data in a DataFrame. Here are some common functions:\n",
    "\n",
    "#head() and tail(): These functions allow you to view the first or last n rows of the DataFrame, respectively. For example, df.head() returns the first five rows of the DataFrame df.\n",
    "\n",
    "#info() and describe(): info() provides information about the DataFrame, such as the data types of each column and the number of non-null values. describe() provides statistical information about the DataFrame, such as the mean, standard deviation, and quartiles of each numerical column.\n",
    "\n",
    "#drop(): This function allows you to remove rows or columns from the DataFrame. For example, df.drop(columns=[\"column_name\"]) removes the column with the name \"column_name\" from the DataFrame df.\n",
    "\n",
    "#groupby(): This function allows you to group the rows of the DataFrame based on one or more columns, and then apply a function to each group. For example, df.groupby(\"column_name\").mean() groups the rows of the DataFrame df based on the values in the column with the name \"column_name\", and then calculates the mean value for each group.\n",
    "\n",
    "#merge(): This function allows you to combine two or more DataFrames based on a common column. For example, if you have two DataFrames df1 and df2 with a common column \"column_name\", you can merge them using pd.merge(df1, df2, on=\"column_name\").\n",
    "\n",
    "#pivot_table(): This function allows you to create a pivot table from the DataFrame, where the values of one column are aggregated based on the values of two or more other columns. For example, pd.pivot_table(df, values=\"value_column\", index=\"row_column\", columns=\"column_column\", aggfunc=\"mean\") creates a pivot table where the mean value of the \"value_column\" is calculated for each combination of values in the \"row_column\" and \"column_column\".\n",
    "\n",
    "#These are just a few examples of the many functions available in Pandas for manipulating data in a DataFrame. The choice of which function to use depends on the specific task at hand. For example, if you want to remove some unnecessary columns from the DataFrame, you can use df.drop(). If you want to calculate some statistics for each group of rows based on a certain column, you can use df.groupby()."
   ]
  },
  {
   "cell_type": "code",
   "execution_count": 8,
   "id": "f8e21177-8183-416b-9f20-4dd7d4407c77",
   "metadata": {},
   "outputs": [],
   "source": [
    "#Q6. Which of the following is mutable in nature Series, DataFrame, Panel?\n",
    "\n",
    "#Ans: Both Series and DataFrame are mutable in nature in Pandas, which means that you can modify their content after creation. However, Panel is not mutable in Pandas, as it has been deprecated since version 0.25.0 and replaced with the more powerful multi-dimensional data structures such as the xarray library."
   ]
  },
  {
   "cell_type": "code",
   "execution_count": 9,
   "id": "fd8a77fa-06d2-4ab4-91f3-4fad59f30143",
   "metadata": {},
   "outputs": [
    {
     "name": "stdout",
     "output_type": "stream",
     "text": [
      "   Student    ID Grade\n",
      "0    Rohan  1001     A\n",
      "1  Manahar  1002     B\n",
      "2     Alka  1003     C\n",
      "3    Sonam  1004     A\n"
     ]
    }
   ],
   "source": [
    "#Q7. Create a DataFrame using multiple Series. Explain with an example.\n",
    "\n",
    "import pandas as pd\n",
    "\n",
    "# Create a Series of student names\n",
    "students = pd.Series(['Rohan', 'Manahar', 'Alka', 'Sonam'])\n",
    "\n",
    "# Create a Series of student IDs\n",
    "ids = pd.Series([1001, 1002, 1003, 1004])\n",
    "\n",
    "# Create a Series of student grades\n",
    "grades = pd.Series(['A', 'B', 'C', 'A'])\n",
    "\n",
    "# Combine the Series into a DataFrame\n",
    "df = pd.DataFrame({'Student': students, 'ID': ids, 'Grade': grades})\n",
    "\n",
    "# Print the DataFrame\n",
    "print(df)\n"
   ]
  },
  {
   "cell_type": "code",
   "execution_count": null,
   "id": "70152327-6599-43bf-b82c-1b1e8ce0f0ab",
   "metadata": {},
   "outputs": [],
   "source": []
  }
 ],
 "metadata": {
  "kernelspec": {
   "display_name": "Python 3 (ipykernel)",
   "language": "python",
   "name": "python3"
  },
  "language_info": {
   "codemirror_mode": {
    "name": "ipython",
    "version": 3
   },
   "file_extension": ".py",
   "mimetype": "text/x-python",
   "name": "python",
   "nbconvert_exporter": "python",
   "pygments_lexer": "ipython3",
   "version": "3.10.8"
  }
 },
 "nbformat": 4,
 "nbformat_minor": 5
}
