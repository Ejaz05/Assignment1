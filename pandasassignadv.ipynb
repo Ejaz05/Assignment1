{
 "cells": [
  {
   "cell_type": "code",
   "execution_count": 2,
   "id": "988f4abc-a576-4ab0-916f-963ebc9c02b2",
   "metadata": {},
   "outputs": [],
   "source": [
    "#Consider following code to answer further questions:\n",
    "import pandas as pd\n",
    "course_name = ['Data Science', 'Machine Learning', 'Big Data', 'Data Engineer']\n",
    "duration = [2,3,6,4]\n",
    "df = pd.DataFrame(data = {'course_name' : course_name, 'duration' : duration})"
   ]
  },
  {
   "cell_type": "code",
   "execution_count": 8,
   "id": "5ffde1a2-6403-4673-b722-8081bfe6e608",
   "metadata": {},
   "outputs": [
    {
     "name": "stdout",
     "output_type": "stream",
     "text": [
      "course_name    Machine Learning\n",
      "duration                      3\n",
      "Name: 1, dtype: object\n"
     ]
    }
   ],
   "source": [
    "#Q1. Write a code to print the data present in the second row of the dataframe, df.\n",
    "\n",
    "print(df.iloc[1])"
   ]
  },
  {
   "cell_type": "code",
   "execution_count": 9,
   "id": "6a053c9b-6833-49b8-bbe8-74511d18e979",
   "metadata": {},
   "outputs": [],
   "source": [
    "#Q2. What is the difference between the functions loc and iloc in pandas.DataFrame?\n",
    "\n",
    "#Ans: loc and iloc are both methods in pandas DataFrame used for indexing and selecting data from a DataFrame, but they have different ways of accessing data.\n",
    "\n",
    "#iloc is used for integer-based indexing and selection, where you specify the row and column numbers based on their integer position. For example, df.iloc[0, 1] would give you the value in the first row and second column of the DataFrame df.\n",
    "\n",
    "#loc is used for label-based indexing and selection, where you specify the row and column labels based on their names. For example, df.loc[0, 'duration'] would give you the value in the first row and 'duration' column of the DataFrame df."
   ]
  },
  {
   "cell_type": "code",
   "execution_count": 10,
   "id": "475eeda6-761e-44d0-b98d-da9c51e6a300",
   "metadata": {},
   "outputs": [],
   "source": [
    "#Q3. Reindex the given dataframe using a variable, reindex = [3,0,1,2] and store it in the variable, new_df\n",
    "#then find the output for both new_df.loc[2] and new_df.iloc[2]. Did you observe any difference in both the outputs? If so then explain it."
   ]
  },
  {
   "cell_type": "code",
   "execution_count": 11,
   "id": "68e026f2-f7d8-48c2-ac6c-909ffe9d6bc2",
   "metadata": {},
   "outputs": [],
   "source": [
    "reindex = [3, 0, 1, 2]\n",
    "new_df = df.reindex(index=reindex)"
   ]
  },
  {
   "cell_type": "code",
   "execution_count": 12,
   "id": "7db47b8b-1498-4475-83f1-53bd55c04bac",
   "metadata": {},
   "outputs": [
    {
     "data": {
      "text/html": [
       "<div>\n",
       "<style scoped>\n",
       "    .dataframe tbody tr th:only-of-type {\n",
       "        vertical-align: middle;\n",
       "    }\n",
       "\n",
       "    .dataframe tbody tr th {\n",
       "        vertical-align: top;\n",
       "    }\n",
       "\n",
       "    .dataframe thead th {\n",
       "        text-align: right;\n",
       "    }\n",
       "</style>\n",
       "<table border=\"1\" class=\"dataframe\">\n",
       "  <thead>\n",
       "    <tr style=\"text-align: right;\">\n",
       "      <th></th>\n",
       "      <th>course_name</th>\n",
       "      <th>duration</th>\n",
       "    </tr>\n",
       "  </thead>\n",
       "  <tbody>\n",
       "    <tr>\n",
       "      <th>3</th>\n",
       "      <td>Data Engineer</td>\n",
       "      <td>4</td>\n",
       "    </tr>\n",
       "    <tr>\n",
       "      <th>0</th>\n",
       "      <td>Data Science</td>\n",
       "      <td>2</td>\n",
       "    </tr>\n",
       "    <tr>\n",
       "      <th>1</th>\n",
       "      <td>Machine Learning</td>\n",
       "      <td>3</td>\n",
       "    </tr>\n",
       "    <tr>\n",
       "      <th>2</th>\n",
       "      <td>Big Data</td>\n",
       "      <td>6</td>\n",
       "    </tr>\n",
       "  </tbody>\n",
       "</table>\n",
       "</div>"
      ],
      "text/plain": [
       "        course_name  duration\n",
       "3     Data Engineer         4\n",
       "0      Data Science         2\n",
       "1  Machine Learning         3\n",
       "2          Big Data         6"
      ]
     },
     "execution_count": 12,
     "metadata": {},
     "output_type": "execute_result"
    }
   ],
   "source": [
    "new_df"
   ]
  },
  {
   "cell_type": "code",
   "execution_count": 13,
   "id": "a9d68d2b-94b4-40a7-91c4-c8b3bb089ee5",
   "metadata": {},
   "outputs": [
    {
     "data": {
      "text/plain": [
       "course_name    Big Data\n",
       "duration              6\n",
       "Name: 2, dtype: object"
      ]
     },
     "execution_count": 13,
     "metadata": {},
     "output_type": "execute_result"
    }
   ],
   "source": [
    "new_df.loc[2]"
   ]
  },
  {
   "cell_type": "code",
   "execution_count": 14,
   "id": "5bcbfb3c-4a7c-4acb-9f92-da00d2dfe8c3",
   "metadata": {},
   "outputs": [
    {
     "data": {
      "text/plain": [
       "course_name    Machine Learning\n",
       "duration                      3\n",
       "Name: 1, dtype: object"
      ]
     },
     "execution_count": 14,
     "metadata": {},
     "output_type": "execute_result"
    }
   ],
   "source": [
    "new_df.iloc[2]"
   ]
  },
  {
   "cell_type": "code",
   "execution_count": 15,
   "id": "831d8e15-b4c4-4984-96fc-dcbe024fed62",
   "metadata": {},
   "outputs": [],
   "source": [
    "#Now, let's compare new_df.loc[2] and new_df.iloc[2]. new_df.loc[2] would give you the row with label '2', which corresponds to the course name 'Big Data' and duration '6'. On the other hand, new_df.iloc[2] would give you the row with integer position 2, which corresponds to the course name 'Machine Learning' and duration '3'.\n",
    "\n",
    "#Therefore, there is a difference in the outputs of new_df.loc[2] and new_df.iloc[2] because they are accessing data using different methods. loc uses label-based indexing, while iloc uses integer-based indexing."
   ]
  },
  {
   "cell_type": "code",
   "execution_count": 16,
   "id": "6dfd0a76-61fe-43fc-b60a-e9506e8ad1a5",
   "metadata": {},
   "outputs": [],
   "source": [
    "#Consider the below code to answer further questions:\n",
    "import pandas as pd\n",
    "import numpy as np\n",
    "columns = ['column_1', 'column_2', 'column_3', 'column_4', 'column_5', 'column_6']\n",
    "indices = [1,2,3,4,5,6]\n",
    "#Creating a dataframe:\n",
    "df1 = pd.DataFrame(np.random.rand(6,6), columns = columns, index = indices)"
   ]
  },
  {
   "cell_type": "code",
   "execution_count": 26,
   "id": "2b6cecd7-7ffc-4d02-8b06-7785ab2c4f85",
   "metadata": {},
   "outputs": [
    {
     "name": "stdout",
     "output_type": "stream",
     "text": [
      "column_1    0.417204\n",
      "column_2    0.581961\n",
      "column_3    0.191665\n",
      "column_4    0.509457\n",
      "column_5    0.531326\n",
      "column_6    0.558863\n",
      "dtype: float64\n"
     ]
    }
   ],
   "source": [
    "#Q4. Write a code to find the following statistical measurements for the above dataframe df1:\n",
    "#(i) mean of each and every column present in the dataframe.\n",
    "\n",
    "column_means = df1.mean()\n",
    "print(column_means)\n"
   ]
  },
  {
   "cell_type": "code",
   "execution_count": 23,
   "id": "5c2df542-c048-483f-b9dd-d164a1002013",
   "metadata": {},
   "outputs": [
    {
     "name": "stdout",
     "output_type": "stream",
     "text": [
      "standard deviation of column_2 is:  0.32718810324211733\n"
     ]
    }
   ],
   "source": [
    "#(ii) standard deviation of column, ‘column_2’\n",
    "\n",
    "column_2_std = df1['column_2'].std()\n",
    "print('standard deviation of column_2 is: ',column_2_std)"
   ]
  },
  {
   "cell_type": "code",
   "execution_count": 27,
   "id": "65f3a550-774a-474e-8ae0-af5449761119",
   "metadata": {},
   "outputs": [
    {
     "ename": "TypeError",
     "evalue": "unsupported operand type(s) for +: 'float' and 'str'",
     "output_type": "error",
     "traceback": [
      "\u001b[0;31m---------------------------------------------------------------------------\u001b[0m",
      "\u001b[0;31mTypeError\u001b[0m                                 Traceback (most recent call last)",
      "Cell \u001b[0;32mIn[27], line 6\u001b[0m\n\u001b[1;32m      1\u001b[0m \u001b[38;5;66;03m#Q5. Replace the data present in the second row of column, ‘column_2’ by a string variable then find the mean of column, column_2.\u001b[39;00m\n\u001b[1;32m      2\u001b[0m \u001b[38;5;66;03m#If you are getting errors in executing it then explain why.\u001b[39;00m\n\u001b[1;32m      3\u001b[0m \u001b[38;5;66;03m#[Hint: To replace the data use df1.loc[] and equate this to string data of your choice.]\u001b[39;00m\n\u001b[1;32m      5\u001b[0m df1\u001b[38;5;241m.\u001b[39mloc[\u001b[38;5;241m2\u001b[39m, \u001b[38;5;124m'\u001b[39m\u001b[38;5;124mcolumn_2\u001b[39m\u001b[38;5;124m'\u001b[39m] \u001b[38;5;241m=\u001b[39m \u001b[38;5;124m'\u001b[39m\u001b[38;5;124mhello\u001b[39m\u001b[38;5;124m'\u001b[39m\n\u001b[0;32m----> 6\u001b[0m column_2_mean \u001b[38;5;241m=\u001b[39m \u001b[43mdf1\u001b[49m\u001b[43m[\u001b[49m\u001b[38;5;124;43m'\u001b[39;49m\u001b[38;5;124;43mcolumn_2\u001b[39;49m\u001b[38;5;124;43m'\u001b[39;49m\u001b[43m]\u001b[49m\u001b[38;5;241;43m.\u001b[39;49m\u001b[43mmean\u001b[49m\u001b[43m(\u001b[49m\u001b[43m)\u001b[49m\n\u001b[1;32m      7\u001b[0m \u001b[38;5;28mprint\u001b[39m(column_2_mean)\n",
      "File \u001b[0;32m/opt/conda/lib/python3.10/site-packages/pandas/core/generic.py:11847\u001b[0m, in \u001b[0;36mNDFrame._add_numeric_operations.<locals>.mean\u001b[0;34m(self, axis, skipna, level, numeric_only, **kwargs)\u001b[0m\n\u001b[1;32m  11829\u001b[0m \u001b[38;5;129m@doc\u001b[39m(\n\u001b[1;32m  11830\u001b[0m     _num_doc,\n\u001b[1;32m  11831\u001b[0m     desc\u001b[38;5;241m=\u001b[39m\u001b[38;5;124m\"\u001b[39m\u001b[38;5;124mReturn the mean of the values over the requested axis.\u001b[39m\u001b[38;5;124m\"\u001b[39m,\n\u001b[0;32m   (...)\u001b[0m\n\u001b[1;32m  11845\u001b[0m     \u001b[38;5;241m*\u001b[39m\u001b[38;5;241m*\u001b[39mkwargs,\n\u001b[1;32m  11846\u001b[0m ):\n\u001b[0;32m> 11847\u001b[0m     \u001b[38;5;28;01mreturn\u001b[39;00m \u001b[43mNDFrame\u001b[49m\u001b[38;5;241;43m.\u001b[39;49m\u001b[43mmean\u001b[49m\u001b[43m(\u001b[49m\u001b[38;5;28;43mself\u001b[39;49m\u001b[43m,\u001b[49m\u001b[43m \u001b[49m\u001b[43maxis\u001b[49m\u001b[43m,\u001b[49m\u001b[43m \u001b[49m\u001b[43mskipna\u001b[49m\u001b[43m,\u001b[49m\u001b[43m \u001b[49m\u001b[43mlevel\u001b[49m\u001b[43m,\u001b[49m\u001b[43m \u001b[49m\u001b[43mnumeric_only\u001b[49m\u001b[43m,\u001b[49m\u001b[43m \u001b[49m\u001b[38;5;241;43m*\u001b[39;49m\u001b[38;5;241;43m*\u001b[39;49m\u001b[43mkwargs\u001b[49m\u001b[43m)\u001b[49m\n",
      "File \u001b[0;32m/opt/conda/lib/python3.10/site-packages/pandas/core/generic.py:11401\u001b[0m, in \u001b[0;36mNDFrame.mean\u001b[0;34m(self, axis, skipna, level, numeric_only, **kwargs)\u001b[0m\n\u001b[1;32m  11393\u001b[0m \u001b[38;5;28;01mdef\u001b[39;00m \u001b[38;5;21mmean\u001b[39m(\n\u001b[1;32m  11394\u001b[0m     \u001b[38;5;28mself\u001b[39m,\n\u001b[1;32m  11395\u001b[0m     axis: Axis \u001b[38;5;241m|\u001b[39m \u001b[38;5;28;01mNone\u001b[39;00m \u001b[38;5;241m|\u001b[39m lib\u001b[38;5;241m.\u001b[39mNoDefault \u001b[38;5;241m=\u001b[39m lib\u001b[38;5;241m.\u001b[39mno_default,\n\u001b[0;32m   (...)\u001b[0m\n\u001b[1;32m  11399\u001b[0m     \u001b[38;5;241m*\u001b[39m\u001b[38;5;241m*\u001b[39mkwargs,\n\u001b[1;32m  11400\u001b[0m ) \u001b[38;5;241m-\u001b[39m\u001b[38;5;241m>\u001b[39m Series \u001b[38;5;241m|\u001b[39m \u001b[38;5;28mfloat\u001b[39m:\n\u001b[0;32m> 11401\u001b[0m     \u001b[38;5;28;01mreturn\u001b[39;00m \u001b[38;5;28;43mself\u001b[39;49m\u001b[38;5;241;43m.\u001b[39;49m\u001b[43m_stat_function\u001b[49m\u001b[43m(\u001b[49m\n\u001b[1;32m  11402\u001b[0m \u001b[43m        \u001b[49m\u001b[38;5;124;43m\"\u001b[39;49m\u001b[38;5;124;43mmean\u001b[39;49m\u001b[38;5;124;43m\"\u001b[39;49m\u001b[43m,\u001b[49m\u001b[43m \u001b[49m\u001b[43mnanops\u001b[49m\u001b[38;5;241;43m.\u001b[39;49m\u001b[43mnanmean\u001b[49m\u001b[43m,\u001b[49m\u001b[43m \u001b[49m\u001b[43maxis\u001b[49m\u001b[43m,\u001b[49m\u001b[43m \u001b[49m\u001b[43mskipna\u001b[49m\u001b[43m,\u001b[49m\u001b[43m \u001b[49m\u001b[43mlevel\u001b[49m\u001b[43m,\u001b[49m\u001b[43m \u001b[49m\u001b[43mnumeric_only\u001b[49m\u001b[43m,\u001b[49m\u001b[43m \u001b[49m\u001b[38;5;241;43m*\u001b[39;49m\u001b[38;5;241;43m*\u001b[39;49m\u001b[43mkwargs\u001b[49m\n\u001b[1;32m  11403\u001b[0m \u001b[43m    \u001b[49m\u001b[43m)\u001b[49m\n",
      "File \u001b[0;32m/opt/conda/lib/python3.10/site-packages/pandas/core/generic.py:11353\u001b[0m, in \u001b[0;36mNDFrame._stat_function\u001b[0;34m(self, name, func, axis, skipna, level, numeric_only, **kwargs)\u001b[0m\n\u001b[1;32m  11343\u001b[0m     warnings\u001b[38;5;241m.\u001b[39mwarn(\n\u001b[1;32m  11344\u001b[0m         \u001b[38;5;124m\"\u001b[39m\u001b[38;5;124mUsing the level keyword in DataFrame and Series aggregations is \u001b[39m\u001b[38;5;124m\"\u001b[39m\n\u001b[1;32m  11345\u001b[0m         \u001b[38;5;124m\"\u001b[39m\u001b[38;5;124mdeprecated and will be removed in a future version. Use groupby \u001b[39m\u001b[38;5;124m\"\u001b[39m\n\u001b[0;32m   (...)\u001b[0m\n\u001b[1;32m  11348\u001b[0m         stacklevel\u001b[38;5;241m=\u001b[39mfind_stack_level(),\n\u001b[1;32m  11349\u001b[0m     )\n\u001b[1;32m  11350\u001b[0m     \u001b[38;5;28;01mreturn\u001b[39;00m \u001b[38;5;28mself\u001b[39m\u001b[38;5;241m.\u001b[39m_agg_by_level(\n\u001b[1;32m  11351\u001b[0m         name, axis\u001b[38;5;241m=\u001b[39maxis, level\u001b[38;5;241m=\u001b[39mlevel, skipna\u001b[38;5;241m=\u001b[39mskipna, numeric_only\u001b[38;5;241m=\u001b[39mnumeric_only\n\u001b[1;32m  11352\u001b[0m     )\n\u001b[0;32m> 11353\u001b[0m \u001b[38;5;28;01mreturn\u001b[39;00m \u001b[38;5;28;43mself\u001b[39;49m\u001b[38;5;241;43m.\u001b[39;49m\u001b[43m_reduce\u001b[49m\u001b[43m(\u001b[49m\n\u001b[1;32m  11354\u001b[0m \u001b[43m    \u001b[49m\u001b[43mfunc\u001b[49m\u001b[43m,\u001b[49m\u001b[43m \u001b[49m\u001b[43mname\u001b[49m\u001b[38;5;241;43m=\u001b[39;49m\u001b[43mname\u001b[49m\u001b[43m,\u001b[49m\u001b[43m \u001b[49m\u001b[43maxis\u001b[49m\u001b[38;5;241;43m=\u001b[39;49m\u001b[43maxis\u001b[49m\u001b[43m,\u001b[49m\u001b[43m \u001b[49m\u001b[43mskipna\u001b[49m\u001b[38;5;241;43m=\u001b[39;49m\u001b[43mskipna\u001b[49m\u001b[43m,\u001b[49m\u001b[43m \u001b[49m\u001b[43mnumeric_only\u001b[49m\u001b[38;5;241;43m=\u001b[39;49m\u001b[43mnumeric_only\u001b[49m\n\u001b[1;32m  11355\u001b[0m \u001b[43m\u001b[49m\u001b[43m)\u001b[49m\n",
      "File \u001b[0;32m/opt/conda/lib/python3.10/site-packages/pandas/core/series.py:4816\u001b[0m, in \u001b[0;36mSeries._reduce\u001b[0;34m(self, op, name, axis, skipna, numeric_only, filter_type, **kwds)\u001b[0m\n\u001b[1;32m   4812\u001b[0m     \u001b[38;5;28;01mraise\u001b[39;00m \u001b[38;5;167;01mNotImplementedError\u001b[39;00m(\n\u001b[1;32m   4813\u001b[0m         \u001b[38;5;124mf\u001b[39m\u001b[38;5;124m\"\u001b[39m\u001b[38;5;124mSeries.\u001b[39m\u001b[38;5;132;01m{\u001b[39;00mname\u001b[38;5;132;01m}\u001b[39;00m\u001b[38;5;124m does not implement \u001b[39m\u001b[38;5;132;01m{\u001b[39;00mkwd_name\u001b[38;5;132;01m}\u001b[39;00m\u001b[38;5;124m.\u001b[39m\u001b[38;5;124m\"\u001b[39m\n\u001b[1;32m   4814\u001b[0m     )\n\u001b[1;32m   4815\u001b[0m \u001b[38;5;28;01mwith\u001b[39;00m np\u001b[38;5;241m.\u001b[39merrstate(\u001b[38;5;28mall\u001b[39m\u001b[38;5;241m=\u001b[39m\u001b[38;5;124m\"\u001b[39m\u001b[38;5;124mignore\u001b[39m\u001b[38;5;124m\"\u001b[39m):\n\u001b[0;32m-> 4816\u001b[0m     \u001b[38;5;28;01mreturn\u001b[39;00m \u001b[43mop\u001b[49m\u001b[43m(\u001b[49m\u001b[43mdelegate\u001b[49m\u001b[43m,\u001b[49m\u001b[43m \u001b[49m\u001b[43mskipna\u001b[49m\u001b[38;5;241;43m=\u001b[39;49m\u001b[43mskipna\u001b[49m\u001b[43m,\u001b[49m\u001b[43m \u001b[49m\u001b[38;5;241;43m*\u001b[39;49m\u001b[38;5;241;43m*\u001b[39;49m\u001b[43mkwds\u001b[49m\u001b[43m)\u001b[49m\n",
      "File \u001b[0;32m/opt/conda/lib/python3.10/site-packages/pandas/core/nanops.py:93\u001b[0m, in \u001b[0;36mdisallow.__call__.<locals>._f\u001b[0;34m(*args, **kwargs)\u001b[0m\n\u001b[1;32m     91\u001b[0m \u001b[38;5;28;01mtry\u001b[39;00m:\n\u001b[1;32m     92\u001b[0m     \u001b[38;5;28;01mwith\u001b[39;00m np\u001b[38;5;241m.\u001b[39merrstate(invalid\u001b[38;5;241m=\u001b[39m\u001b[38;5;124m\"\u001b[39m\u001b[38;5;124mignore\u001b[39m\u001b[38;5;124m\"\u001b[39m):\n\u001b[0;32m---> 93\u001b[0m         \u001b[38;5;28;01mreturn\u001b[39;00m \u001b[43mf\u001b[49m\u001b[43m(\u001b[49m\u001b[38;5;241;43m*\u001b[39;49m\u001b[43margs\u001b[49m\u001b[43m,\u001b[49m\u001b[43m \u001b[49m\u001b[38;5;241;43m*\u001b[39;49m\u001b[38;5;241;43m*\u001b[39;49m\u001b[43mkwargs\u001b[49m\u001b[43m)\u001b[49m\n\u001b[1;32m     94\u001b[0m \u001b[38;5;28;01mexcept\u001b[39;00m \u001b[38;5;167;01mValueError\u001b[39;00m \u001b[38;5;28;01mas\u001b[39;00m e:\n\u001b[1;32m     95\u001b[0m     \u001b[38;5;66;03m# we want to transform an object array\u001b[39;00m\n\u001b[1;32m     96\u001b[0m     \u001b[38;5;66;03m# ValueError message to the more typical TypeError\u001b[39;00m\n\u001b[1;32m     97\u001b[0m     \u001b[38;5;66;03m# e.g. this is normally a disallowed function on\u001b[39;00m\n\u001b[1;32m     98\u001b[0m     \u001b[38;5;66;03m# object arrays that contain strings\u001b[39;00m\n\u001b[1;32m     99\u001b[0m     \u001b[38;5;28;01mif\u001b[39;00m is_object_dtype(args[\u001b[38;5;241m0\u001b[39m]):\n",
      "File \u001b[0;32m/opt/conda/lib/python3.10/site-packages/pandas/core/nanops.py:155\u001b[0m, in \u001b[0;36mbottleneck_switch.__call__.<locals>.f\u001b[0;34m(values, axis, skipna, **kwds)\u001b[0m\n\u001b[1;32m    153\u001b[0m         result \u001b[38;5;241m=\u001b[39m alt(values, axis\u001b[38;5;241m=\u001b[39maxis, skipna\u001b[38;5;241m=\u001b[39mskipna, \u001b[38;5;241m*\u001b[39m\u001b[38;5;241m*\u001b[39mkwds)\n\u001b[1;32m    154\u001b[0m \u001b[38;5;28;01melse\u001b[39;00m:\n\u001b[0;32m--> 155\u001b[0m     result \u001b[38;5;241m=\u001b[39m \u001b[43malt\u001b[49m\u001b[43m(\u001b[49m\u001b[43mvalues\u001b[49m\u001b[43m,\u001b[49m\u001b[43m \u001b[49m\u001b[43maxis\u001b[49m\u001b[38;5;241;43m=\u001b[39;49m\u001b[43maxis\u001b[49m\u001b[43m,\u001b[49m\u001b[43m \u001b[49m\u001b[43mskipna\u001b[49m\u001b[38;5;241;43m=\u001b[39;49m\u001b[43mskipna\u001b[49m\u001b[43m,\u001b[49m\u001b[43m \u001b[49m\u001b[38;5;241;43m*\u001b[39;49m\u001b[38;5;241;43m*\u001b[39;49m\u001b[43mkwds\u001b[49m\u001b[43m)\u001b[49m\n\u001b[1;32m    157\u001b[0m \u001b[38;5;28;01mreturn\u001b[39;00m result\n",
      "File \u001b[0;32m/opt/conda/lib/python3.10/site-packages/pandas/core/nanops.py:418\u001b[0m, in \u001b[0;36m_datetimelike_compat.<locals>.new_func\u001b[0;34m(values, axis, skipna, mask, **kwargs)\u001b[0m\n\u001b[1;32m    415\u001b[0m \u001b[38;5;28;01mif\u001b[39;00m datetimelike \u001b[38;5;129;01mand\u001b[39;00m mask \u001b[38;5;129;01mis\u001b[39;00m \u001b[38;5;28;01mNone\u001b[39;00m:\n\u001b[1;32m    416\u001b[0m     mask \u001b[38;5;241m=\u001b[39m isna(values)\n\u001b[0;32m--> 418\u001b[0m result \u001b[38;5;241m=\u001b[39m \u001b[43mfunc\u001b[49m\u001b[43m(\u001b[49m\u001b[43mvalues\u001b[49m\u001b[43m,\u001b[49m\u001b[43m \u001b[49m\u001b[43maxis\u001b[49m\u001b[38;5;241;43m=\u001b[39;49m\u001b[43maxis\u001b[49m\u001b[43m,\u001b[49m\u001b[43m \u001b[49m\u001b[43mskipna\u001b[49m\u001b[38;5;241;43m=\u001b[39;49m\u001b[43mskipna\u001b[49m\u001b[43m,\u001b[49m\u001b[43m \u001b[49m\u001b[43mmask\u001b[49m\u001b[38;5;241;43m=\u001b[39;49m\u001b[43mmask\u001b[49m\u001b[43m,\u001b[49m\u001b[43m \u001b[49m\u001b[38;5;241;43m*\u001b[39;49m\u001b[38;5;241;43m*\u001b[39;49m\u001b[43mkwargs\u001b[49m\u001b[43m)\u001b[49m\n\u001b[1;32m    420\u001b[0m \u001b[38;5;28;01mif\u001b[39;00m datetimelike:\n\u001b[1;32m    421\u001b[0m     result \u001b[38;5;241m=\u001b[39m _wrap_results(result, orig_values\u001b[38;5;241m.\u001b[39mdtype, fill_value\u001b[38;5;241m=\u001b[39miNaT)\n",
      "File \u001b[0;32m/opt/conda/lib/python3.10/site-packages/pandas/core/nanops.py:706\u001b[0m, in \u001b[0;36mnanmean\u001b[0;34m(values, axis, skipna, mask)\u001b[0m\n\u001b[1;32m    703\u001b[0m     dtype_count \u001b[38;5;241m=\u001b[39m dtype\n\u001b[1;32m    705\u001b[0m count \u001b[38;5;241m=\u001b[39m _get_counts(values\u001b[38;5;241m.\u001b[39mshape, mask, axis, dtype\u001b[38;5;241m=\u001b[39mdtype_count)\n\u001b[0;32m--> 706\u001b[0m the_sum \u001b[38;5;241m=\u001b[39m _ensure_numeric(\u001b[43mvalues\u001b[49m\u001b[38;5;241;43m.\u001b[39;49m\u001b[43msum\u001b[49m\u001b[43m(\u001b[49m\u001b[43maxis\u001b[49m\u001b[43m,\u001b[49m\u001b[43m \u001b[49m\u001b[43mdtype\u001b[49m\u001b[38;5;241;43m=\u001b[39;49m\u001b[43mdtype_sum\u001b[49m\u001b[43m)\u001b[49m)\n\u001b[1;32m    708\u001b[0m \u001b[38;5;28;01mif\u001b[39;00m axis \u001b[38;5;129;01mis\u001b[39;00m \u001b[38;5;129;01mnot\u001b[39;00m \u001b[38;5;28;01mNone\u001b[39;00m \u001b[38;5;129;01mand\u001b[39;00m \u001b[38;5;28mgetattr\u001b[39m(the_sum, \u001b[38;5;124m\"\u001b[39m\u001b[38;5;124mndim\u001b[39m\u001b[38;5;124m\"\u001b[39m, \u001b[38;5;28;01mFalse\u001b[39;00m):\n\u001b[1;32m    709\u001b[0m     count \u001b[38;5;241m=\u001b[39m cast(np\u001b[38;5;241m.\u001b[39mndarray, count)\n",
      "File \u001b[0;32m/opt/conda/lib/python3.10/site-packages/numpy/core/_methods.py:48\u001b[0m, in \u001b[0;36m_sum\u001b[0;34m(a, axis, dtype, out, keepdims, initial, where)\u001b[0m\n\u001b[1;32m     46\u001b[0m \u001b[38;5;28;01mdef\u001b[39;00m \u001b[38;5;21m_sum\u001b[39m(a, axis\u001b[38;5;241m=\u001b[39m\u001b[38;5;28;01mNone\u001b[39;00m, dtype\u001b[38;5;241m=\u001b[39m\u001b[38;5;28;01mNone\u001b[39;00m, out\u001b[38;5;241m=\u001b[39m\u001b[38;5;28;01mNone\u001b[39;00m, keepdims\u001b[38;5;241m=\u001b[39m\u001b[38;5;28;01mFalse\u001b[39;00m,\n\u001b[1;32m     47\u001b[0m          initial\u001b[38;5;241m=\u001b[39m_NoValue, where\u001b[38;5;241m=\u001b[39m\u001b[38;5;28;01mTrue\u001b[39;00m):\n\u001b[0;32m---> 48\u001b[0m     \u001b[38;5;28;01mreturn\u001b[39;00m \u001b[43mumr_sum\u001b[49m\u001b[43m(\u001b[49m\u001b[43ma\u001b[49m\u001b[43m,\u001b[49m\u001b[43m \u001b[49m\u001b[43maxis\u001b[49m\u001b[43m,\u001b[49m\u001b[43m \u001b[49m\u001b[43mdtype\u001b[49m\u001b[43m,\u001b[49m\u001b[43m \u001b[49m\u001b[43mout\u001b[49m\u001b[43m,\u001b[49m\u001b[43m \u001b[49m\u001b[43mkeepdims\u001b[49m\u001b[43m,\u001b[49m\u001b[43m \u001b[49m\u001b[43minitial\u001b[49m\u001b[43m,\u001b[49m\u001b[43m \u001b[49m\u001b[43mwhere\u001b[49m\u001b[43m)\u001b[49m\n",
      "\u001b[0;31mTypeError\u001b[0m: unsupported operand type(s) for +: 'float' and 'str'"
     ]
    }
   ],
   "source": [
    "#Q5. Replace the data present in the second row of column, ‘column_2’ by a string variable then find the mean of column, column_2.\n",
    "#If you are getting errors in executing it then explain why.\n",
    "#[Hint: To replace the data use df1.loc[] and equate this to string data of your choice.]\n",
    "\n",
    "df1.loc[2, 'column_2'] = 'hello'\n",
    "column_2_mean = df1['column_2'].mean()\n",
    "print(column_2_mean)\n"
   ]
  },
  {
   "cell_type": "code",
   "execution_count": 28,
   "id": "5b9d8444-b18b-4234-9717-5f573485482e",
   "metadata": {},
   "outputs": [],
   "source": [
    "#This will replace the value in the second row of column 'column_2' with the string 'hello', and then calculate the mean of the column.\n",
    "\n",
    "#However, this code will raise a TypeError because you cannot calculate the mean of a column that contains both numeric and non-numeric values. In this case, we have replaced a numeric value with a string, which makes it impossible to calculate the mean of the column. To avoid this error, you should replace the value with a numeric value, such as a float or an integer:\n"
   ]
  },
  {
   "cell_type": "code",
   "execution_count": 29,
   "id": "b4ddc1d0-8cc4-46c7-a5fa-3c8f8d7ae306",
   "metadata": {},
   "outputs": [],
   "source": [
    "#Q6. What do you understand about the windows function in pandas and list the types of windows functions?\n",
    "\n",
    "#Ans: In Pandas, a window function is used to perform calculations on a subset of rows within a DataFrame. It operates on a sliding window of rows, defined by a window specification, which can include the size of the window and the offset between each window. The window function is applied to the data within the window, producing an output value that is associated with the last row of the window.\n",
    "\n",
    "#Pandas supports a wide range of window functions, which can be broadly categorized into the following types:\n",
    "\n",
    "#Rolling window functions: These functions calculate a rolling window of values over a DataFrame column, with a fixed window size and an optional window offset. Examples include rolling mean, rolling sum, rolling min, rolling max, etc.\n",
    "\n",
    "#Expanding window functions: These functions calculate a rolling statistic over the entire DataFrame column, from the beginning to the current row. Examples include expanding mean, expanding sum, expanding min, expanding max, etc.\n",
    "\n",
    "#Exponentially weighted window functions: These functions calculate a weighted rolling statistic over a DataFrame column, where the weights are based on an exponentially decreasing function of time. Examples include exponentially weighted moving average (EWMA), exponentially weighted moving variance, etc.\n",
    "\n",
    "#Other window functions: Pandas also supports several other window functions, such as shift, diff, pct_change, etc., which operate on a fixed window of rows or columns and compute a value based on the differences between the rows or columns.\n",
    "\n",
    "#Overall, window functions in Pandas are a powerful tool for performing complex calculations on subsets of data within a DataFrame, and can be used to compute rolling statistics, identify trends and patterns in time series data, and perform other types of analysis."
   ]
  },
  {
   "cell_type": "code",
   "execution_count": 30,
   "id": "92418d66-5278-4156-bcbb-972295c43f11",
   "metadata": {},
   "outputs": [],
   "source": [
    "#Q7. Write a code to print only the current month and year at the time of answering this question.\n",
    "#[Hint: Use pandas.datetime function]"
   ]
  },
  {
   "cell_type": "code",
   "execution_count": 37,
   "id": "df783c9d-8eec-4323-96d0-7a2663aedebc",
   "metadata": {},
   "outputs": [
    {
     "name": "stdout",
     "output_type": "stream",
     "text": [
      "Current Month and Year:  March 2023\n"
     ]
    },
    {
     "name": "stderr",
     "output_type": "stream",
     "text": [
      "/tmp/ipykernel_1294/4122636495.py:2: FutureWarning: The pandas.datetime class is deprecated and will be removed from pandas in a future version. Import from datetime module instead.\n",
      "  current_month_year = pd.datetime.now().strftime(\"%B %Y\")\n"
     ]
    }
   ],
   "source": [
    "import pandas as pd\n",
    "current_month_year = pd.datetime.now().strftime(\"%B %Y\")\n",
    "print(\"Current Month and Year: \", current_month_year)\n"
   ]
  },
  {
   "cell_type": "code",
   "execution_count": 38,
   "id": "1cc4d531-852e-4393-87b1-bdc7887f46be",
   "metadata": {},
   "outputs": [],
   "source": [
    "#Q8. Write a Python program that takes in two dates as input (in the format YYYY-MM-DD) and calculates the difference between them in days, hours, and minutes using Pandas time delta. The\n",
    "#program should prompt the user to enter the dates and display the result."
   ]
  },
  {
   "cell_type": "code",
   "execution_count": 61,
   "id": "af19afed-63d2-4f33-bfa5-86c8b01d308c",
   "metadata": {},
   "outputs": [
    {
     "name": "stdin",
     "output_type": "stream",
     "text": [
      "Enter the first date (YYYY-MM-DD):  2023-02-28\n",
      "Enter the second date (YYYY-MM-DD):  2023-03-29\n"
     ]
    },
    {
     "name": "stdout",
     "output_type": "stream",
     "text": [
      "The time difference between 2023-02-28 and 2023-03-29 is 29 days, 0 hours, and 0 minutes.\n"
     ]
    }
   ],
   "source": [
    "import pandas as pd\n",
    "\n",
    "# Prompt user to enter two dates in YYYY-MM-DD format\n",
    "date1 = input(\"Enter the first date (YYYY-MM-DD): \")\n",
    "date2 = input(\"Enter the second date (YYYY-MM-DD): \")\n",
    "\n",
    "# Convert input dates to datetime objects\n",
    "date1_obj = pd.to_datetime(date1)\n",
    "date2_obj = pd.to_datetime(date2)\n",
    "\n",
    "# Calculate the time difference between the two dates using timedelta\n",
    "time_diff = date2_obj - date1_obj\n",
    "\n",
    "# Extract the number of days, hours, and minutes from the time difference\n",
    "days = time_diff.days\n",
    "hours = time_diff.seconds // 3600\n",
    "minutes = (time_diff.seconds // 60) % 60\n",
    "\n",
    "# Display the result\n",
    "print(f\"The time difference between {date1} and {date2} is {days} days, {hours} hours, and {minutes} minutes.\")\n"
   ]
  },
  {
   "cell_type": "code",
   "execution_count": 45,
   "id": "370ca3bc-68a9-4b4c-afb9-8cef2feb4366",
   "metadata": {},
   "outputs": [],
   "source": [
    "#Q9. Write a Python program that reads a CSV file containing categorical data and converts a specified\n",
    "#column to a categorical data type. The program should prompt the user to enter the file path, column\n",
    "#name, and category order, and then display the sorted data."
   ]
  },
  {
   "cell_type": "code",
   "execution_count": 62,
   "id": "a483d69e-d3c1-4974-b6a7-a16db7e6ed96",
   "metadata": {},
   "outputs": [
    {
     "name": "stdin",
     "output_type": "stream",
     "text": [
      "Enter the file path of the CSV file:  services.csv\n",
      "Enter the name of the column to convert:  service_areas\n",
      "Enter the category order (comma-separated):  1,2\n"
     ]
    },
    {
     "name": "stdout",
     "output_type": "stream",
     "text": [
      "    Unnamed: 0  id  location_id  program_id         accepted_payments  \\\n",
      "0            0   1            1         NaN                       NaN   \n",
      "1            1   2            2         NaN                       NaN   \n",
      "2            2   3            3         NaN                       NaN   \n",
      "3            3   4            4         NaN                       NaN   \n",
      "4            4   5            5         NaN                       NaN   \n",
      "5            5   6            6         NaN                       NaN   \n",
      "6            6   7            7         NaN                       NaN   \n",
      "7            7   8            8         NaN                       NaN   \n",
      "8            8   9            9         NaN                       NaN   \n",
      "9            9  10           10         NaN                       NaN   \n",
      "10          10  11           11         NaN                       NaN   \n",
      "11          11  12           12         NaN                       NaN   \n",
      "12          12  13           13         NaN                       NaN   \n",
      "13          13  14           14         NaN                       NaN   \n",
      "14          14  15           15         NaN                       NaN   \n",
      "15          15  16           16         NaN                       NaN   \n",
      "16          16  17           17         NaN                       NaN   \n",
      "17          17  18           18         NaN                       NaN   \n",
      "18          18  19           19         NaN                       NaN   \n",
      "19          19  20           20         NaN                       NaN   \n",
      "20          20  21           21         NaN                       NaN   \n",
      "21          21  22           22         NaN  Cash, Check, Credit Card   \n",
      "22          22  23           22         NaN                       NaN   \n",
      "\n",
      "           alternate_name                                application_process  \\\n",
      "0                     NaN                         Walk in or apply by phone.   \n",
      "1                     NaN                 Apply by phone for an appointment.   \n",
      "2                     NaN        Phone for information (403-4300 Ext. 4322).   \n",
      "3                     NaN                                    Apply by phone.   \n",
      "4                     NaN                             Phone for information.   \n",
      "5                     NaN  Walk in or apply by phone for membership appli...   \n",
      "6                     NaN  Apply by phone or be referred by a doctor, soc...   \n",
      "7                     NaN                                    Apply by phone.   \n",
      "8                     NaN  Walk in. Proof of residency in California requ...   \n",
      "9                     NaN  Walk in. Proof of California residency to rece...   \n",
      "10                    NaN  Walk in. Proof of California residency require...   \n",
      "11                    NaN  Walk in or apply by phone, email or webpage re...   \n",
      "12                    NaN  Walk in. Proof of California residency require...   \n",
      "13                    NaN  Call for appointment. Referral from human serv...   \n",
      "14                    NaN          Walk in or through other agency referral.   \n",
      "15                    NaN  Walk in. Written application, identification r...   \n",
      "16                    NaN                              Call for information.   \n",
      "17                    NaN  Call for screening appointment. Medical visits...   \n",
      "18                    NaN     Call for screening appointment (650-347-3648).   \n",
      "19                    NaN                                           Walk in.   \n",
      "20                    NaN                    By phone during business hours.   \n",
      "21  Fotos para pasaportes                  Walk in or apply by phone or mail   \n",
      "22                    NaN                  Walk in or apply by phone or mail   \n",
      "\n",
      "                                             audience  \\\n",
      "0   Older adults age 55 or over, ethnic minorities...   \n",
      "1        Residents of San Mateo County age 55 or over   \n",
      "2   Older adults age 55 or over who can benefit fr...   \n",
      "3   Parents, children, families with problems of c...   \n",
      "4   Low-income working families with children tran...   \n",
      "5                                             Any age   \n",
      "6   Older adults who have memory or sensory loss, ...   \n",
      "7   Senior citizens age 60 or over, disabled indiv...   \n",
      "8      Ethnic minorities, especially Spanish speaking   \n",
      "9                                                 NaN   \n",
      "10                                                NaN   \n",
      "11  Adults, parents, children in 1st-12th grades i...   \n",
      "12                                                NaN   \n",
      "13  Individuals or families with low or no income ...   \n",
      "14  Adult alcoholic/drug addictive men and women w...   \n",
      "15                                                NaN   \n",
      "16                                                NaN   \n",
      "17                                                NaN   \n",
      "18                                                NaN   \n",
      "19                                                NaN   \n",
      "20                                                NaN   \n",
      "21  Profit and nonprofit businesses, the public, m...   \n",
      "22  Second service and nonprofit businesses, the p...   \n",
      "\n",
      "                                          description  \\\n",
      "0   A walk-in center for older adults that provide...   \n",
      "1   Provides training and job placement to eligibl...   \n",
      "2   Offers supportive counseling services to San M...   \n",
      "3   Provides supervised visitation services and a ...   \n",
      "4   Provides fixed 8% short term loans to eligible...   \n",
      "5   A multipurpose center offering a wide variety ...   \n",
      "6   Rosener House is a day center for older adults...   \n",
      "7   Delivers a hot meal to the home of persons age...   \n",
      "8   Provides general reading material, including b...   \n",
      "9   Provides general reading and media materials, ...   \n",
      "10  Provides general reading materials, including ...   \n",
      "11  Offers an intergenerational literacy program f...   \n",
      "12  Provides general reading materials, including ...   \n",
      "13  Provides food, clothing, bus tokens and shelte...   \n",
      "14  Provides a long-term (6-12 month) residential ...   \n",
      "15  Provides emergency assistance including food a...   \n",
      "16  Provides emergency food, clothing and furnitur...   \n",
      "17  By appointment only, Project Smile provides a ...   \n",
      "18  Provides free medical and dental care to those...   \n",
      "19              no unrequired fields for this service   \n",
      "20                                just a test service   \n",
      "21  [NOTE THIS IS NOT A REAL SERVICE--THIS IS FOR ...   \n",
      "22  [NOTE THIS IS NOT A REAL ORGANIZATION--THIS IS...   \n",
      "\n",
      "                                          eligibility  ...  \\\n",
      "0   Age 55 or over for most programs, age 60 or ov...  ...   \n",
      "1   Age 55 or over, county resident and willing an...  ...   \n",
      "2         Resident of San Mateo County age 55 or over  ...   \n",
      "3                                                None  ...   \n",
      "4   Eligibility: Low-income family with legal cust...  ...   \n",
      "5                                                None  ...   \n",
      "6                                      Age 18 or over  ...   \n",
      "7             Homebound person unable to cook or shop  ...   \n",
      "8     Resident of California to obtain a library card  ...   \n",
      "9             Resident of California to obtain a card  ...   \n",
      "10  Resident of California to obtain a library car...  ...   \n",
      "11  English-speaking adult reading at or below 7th...  ...   \n",
      "12    Resident of California to obtain a library card  ...   \n",
      "13  None for most services. For emergency assistan...  ...   \n",
      "14  Age 21-60, detoxed, physically able and willin...  ...   \n",
      "15                      None for emergency assistance  ...   \n",
      "16                                Low-income families  ...   \n",
      "17    Low-income person without access to health care  ...   \n",
      "18    Low-income person without access to health care  ...   \n",
      "19                                                NaN  ...   \n",
      "20                                                NaN  ...   \n",
      "21                                               None  ...   \n",
      "22                                               None  ...   \n",
      "\n",
      "                                    name  \\\n",
      "0        Fair Oaks Adult Activity Center   \n",
      "1       Second Career Employment Program   \n",
      "2                 Senior Peer Counseling   \n",
      "3               Family Visitation Center   \n",
      "4      Economic Self-Sufficiency Program   \n",
      "5   Little House Recreational Activities   \n",
      "6       Rosener House Adult Day Services   \n",
      "7         Meals on Wheels - South County   \n",
      "8                       Fair Oaks Branch   \n",
      "9                           Main Library   \n",
      "10                       Schaberg Branch   \n",
      "11                          Project Read   \n",
      "12                 Redwood Shores Branch   \n",
      "13                    Redwood City Corps   \n",
      "14           Adult Rehabilitation Center   \n",
      "15                       Sunnyvale Corps   \n",
      "16     South San Francisco Citadel Corps   \n",
      "17                         Project Smile   \n",
      "18         San Mateo Free Medical Clinic   \n",
      "19             Service with blank fields   \n",
      "20       Service for Admin Test Location   \n",
      "21                       Passport Photos   \n",
      "22                  Example Service Name   \n",
      "\n",
      "                          required_documents service_areas    status  \\\n",
      "0                                        NaN           NaN    active   \n",
      "1                                        NaN           NaN    active   \n",
      "2                                        NaN           NaN    active   \n",
      "3                                        NaN           NaN    active   \n",
      "4                                        NaN           NaN    active   \n",
      "5                                        NaN           NaN    active   \n",
      "6                                        NaN           NaN    active   \n",
      "7                                        NaN           NaN    active   \n",
      "8                                        NaN           NaN    active   \n",
      "9                                        NaN           NaN    active   \n",
      "10                                       NaN           NaN    active   \n",
      "11                                       NaN           NaN    active   \n",
      "12                                       NaN           NaN    active   \n",
      "13                                       NaN           NaN    active   \n",
      "14                                       NaN           NaN    active   \n",
      "15                                       NaN           NaN    active   \n",
      "16                                       NaN           NaN    active   \n",
      "17                                       NaN           NaN    active   \n",
      "18                                       NaN           NaN    active   \n",
      "19                                       NaN           NaN   defunct   \n",
      "20                                       NaN           NaN  inactive   \n",
      "21  Government-issued picture identification           NaN    active   \n",
      "22                                       NaN           NaN    active   \n",
      "\n",
      "                                            wait_time                 website  \\\n",
      "0                                            No wait.                     NaN   \n",
      "1                                             Varies.                     NaN   \n",
      "2                                             Varies.                     NaN   \n",
      "3                                            No wait.                     NaN   \n",
      "4                                                 NaN                     NaN   \n",
      "5                                            No wait.                     NaN   \n",
      "6                                            No wait.                     NaN   \n",
      "7                                            No wait.                     NaN   \n",
      "8                                            No wait.                     NaN   \n",
      "9                                            No wait.                     NaN   \n",
      "10                                           No wait.                     NaN   \n",
      "11  Depends on availability of tutors for small gr...                     NaN   \n",
      "12                                           No wait.                     NaN   \n",
      "13                                  Up to 20 minutes.                     NaN   \n",
      "14  Varies according to available beds for men and...                     NaN   \n",
      "15                                           No wait.                     NaN   \n",
      "16                                                NaN                     NaN   \n",
      "17                                            Varies.                     NaN   \n",
      "18                                            Varies.                     NaN   \n",
      "19                                                NaN                     NaN   \n",
      "20                                                NaN                     NaN   \n",
      "21                                No wait to 2 weeks.  http://www.example.com   \n",
      "22                                 No wait to 2 weeks  http://www.example.com   \n",
      "\n",
      "                                taxonomy_ids        Date Product Category  \\\n",
      "0                                        NaN  2023-12-11            goods   \n",
      "1                                        NaN  2023-12-11            goods   \n",
      "2                                        NaN  2023-12-11            goods   \n",
      "3                                        NaN  2023-12-11            goods   \n",
      "4                                        NaN  2023-12-11            goods   \n",
      "5                                        NaN  2023-12-11            goods   \n",
      "6                                        NaN  2023-12-11            goods   \n",
      "7                                        NaN  2023-12-11            goods   \n",
      "8                                        NaN  2023-12-11            goods   \n",
      "9                                        NaN  2023-12-11            goods   \n",
      "10                                       NaN  2023-12-11            goods   \n",
      "11                                       NaN  2023-12-11            goods   \n",
      "12                                       NaN  2023-12-11            goods   \n",
      "13                                       NaN  2023-12-11            goods   \n",
      "14                                       NaN  2023-12-11            goods   \n",
      "15                                       NaN  2023-12-11            goods   \n",
      "16                                       NaN  2023-12-11            goods   \n",
      "17                                       NaN  2023-12-11            goods   \n",
      "18                                       NaN  2023-12-11            goods   \n",
      "19                                       NaN  2023-12-11            goods   \n",
      "20                                       NaN  2023-12-11            goods   \n",
      "21  105, 108, 108-05, 108-05-01, 111, 111-05  2023-12-11            goods   \n",
      "22                                       NaN  2023-12-11            goods   \n",
      "\n",
      "       Sales  \n",
      "0   not good  \n",
      "1   not good  \n",
      "2   not good  \n",
      "3   not good  \n",
      "4   not good  \n",
      "5   not good  \n",
      "6   not good  \n",
      "7   not good  \n",
      "8   not good  \n",
      "9   not good  \n",
      "10  not good  \n",
      "11  not good  \n",
      "12  not good  \n",
      "13  not good  \n",
      "14  not good  \n",
      "15  not good  \n",
      "16  not good  \n",
      "17  not good  \n",
      "18  not good  \n",
      "19  not good  \n",
      "20  not good  \n",
      "21  not good  \n",
      "22  not good  \n",
      "\n",
      "[23 rows x 26 columns]\n"
     ]
    }
   ],
   "source": [
    "import pandas as pd\n",
    "\n",
    "# Prompt the user to enter the file path, column name, and category order\n",
    "file_path = input(\"Enter the file path of the CSV file: \")\n",
    "column_name = input(\"Enter the name of the column to convert: \")\n",
    "category_order = input(\"Enter the category order (comma-separated): \").split(',')\n",
    "\n",
    "# Read the CSV file into a DataFrame\n",
    "df = pd.read_csv(file_path)\n",
    "\n",
    "# Convert the specified column to a categorical data type\n",
    "df[column_name] = pd.Categorical(df[column_name], categories=category_order)\n",
    "\n",
    "# Display the sorted data\n",
    "print(df.sort_values(column_name))\n"
   ]
  },
  {
   "cell_type": "code",
   "execution_count": 52,
   "id": "c302fecd-f7a9-42f6-9aff-fd5fb231fca5",
   "metadata": {},
   "outputs": [],
   "source": [
    "#Q10. Write a Python program that reads a CSV file containing sales data for different products and\n",
    "#visualizes the data using a stacked bar chart to show the sales of each product category over time. The\n",
    "#program should prompt the user to enter the file path and display the chart."
   ]
  },
  {
   "cell_type": "code",
   "execution_count": null,
   "id": "e2290479-ba73-4574-ab32-2a2b7a785f4d",
   "metadata": {},
   "outputs": [
    {
     "name": "stdin",
     "output_type": "stream",
     "text": [
      "Enter the file path of the CSV file:  sales_data.csv\n"
     ]
    },
    {
     "data": {
      "image/png": "[encoded data removed]",
      "text/plain": [
       "<Figure size 640x480 with 1 Axes>"
      ]
     },
     "metadata": {},
     "output_type": "display_data"
    }
   ],
   "source": [
    "import pandas as pd\n",
    "import matplotlib.pyplot as plt\n",
    "\n",
    "# Prompt the user to enter the file path\n",
    "file_path = input(\"Enter the file path of the CSV file: \")\n",
    "\n",
    "# Read the CSV file into a DataFrame\n",
    "df = pd.read_csv(file_path)\n",
    "\n",
    "# Convert the date column to a datetime data type\n",
    "df['Date'] = pd.to_datetime(df['Date'])\n",
    "\n",
    "# Group the data by product category and date, and sum the sales\n",
    "grouped = df.groupby(['Product Category', 'Date']).sum()\n",
    "\n",
    "# Pivot the data to create a stacked bar chart\n",
    "pivoted = grouped.pivot_table(values='Sales', index='Date', columns='Product Category')\n",
    "\n",
    "# Create a stacked bar chart\n",
    "ax = pivoted.plot(kind='bar', stacked=True)\n",
    "\n",
    "# Set the chart title and axes labels\n",
    "ax.set_title('Sales by Product Category')\n",
    "ax.set_xlabel('Date')\n",
    "ax.set_ylabel('Sales')\n",
    "\n",
    "# Show the chart\n",
    "plt.show()\n"
   ]
  },
  {
   "cell_type": "code",
   "execution_count": null,
   "id": "46879a74-6888-43be-908f-e8802b924512",
   "metadata": {},
   "outputs": [],
   "source": [
    "import pandas as pd\n",
    "\n",
    "# Prompt the user to enter the file path\n",
    "file_path = input(\"Enter the file path of the CSV file containing the student data: \")\n",
    "\n",
    "# Read the CSV file into a Pandas DataFrame\n",
    "df = pd.read_csv(file_path)\n",
    "\n",
    "# Calculate the mean, median, and mode of the test scores using Pandas tools\n",
    "mean = df['Test Score'].mean()\n",
    "median = df['Test Score'].median()\n",
    "mode = df['Test Score'].mode()\n",
    "\n",
    "# Display the mean, median, and mode in a table\n",
    "table = pd.DataFrame({\n",
    "    'Statistic': ['Mean', 'Median', 'Mode'],\n",
    "    'Value': [mean, median, mode]\n",
    "})\n",
    "\n",
    "print(table)\n"
   ]
  },
  {
   "cell_type": "code",
   "execution_count": null,
   "id": "be548245-2d73-4eed-9b4b-bed9f296518e",
   "metadata": {},
   "outputs": [],
   "source": []
  }
 ],
 "metadata": {
  "kernelspec": {
   "display_name": "Python 3 (ipykernel)",
   "language": "python",
   "name": "python3"
  },
  "language_info": {
   "codemirror_mode": {
    "name": "ipython",
    "version": 3
   },
   "file_extension": ".py",
   "mimetype": "text/x-python",
   "name": "python",
   "nbconvert_exporter": "python",
   "pygments_lexer": "ipython3",
   "version": "3.10.8"
  }
 },
 "nbformat": 4,
 "nbformat_minor": 5
}
