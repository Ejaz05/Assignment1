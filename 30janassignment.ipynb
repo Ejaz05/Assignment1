{
 "cells": [
  {
   "cell_type": "code",
   "execution_count": 2,
   "id": "05d7e38d-0439-4df9-8732-8584b702bd15",
   "metadata": {},
   "outputs": [],
   "source": [
    "#Q1"
   ]
  },
  {
   "cell_type": "code",
   "execution_count": 3,
   "id": "84b5cca2-3335-4250-9151-d43716f13c76",
   "metadata": {},
   "outputs": [
    {
     "name": "stdin",
     "output_type": "stream",
     "text": [
      "Enter your percentage:  97\n"
     ]
    },
    {
     "name": "stdout",
     "output_type": "stream",
     "text": [
      "A\n"
     ]
    }
   ],
   "source": [
    "#solution\n",
    "percentage = float(input(\"Enter your percentage: \"))\n",
    "\n",
    "if percentage > 90:\n",
    "    print(\"A\")\n",
    "elif percentage > 80 and percentage <= 90:\n",
    "    print(\"B\")\n",
    "elif percentage >= 60 and percentage <= 80:\n",
    "    print(\"C\")\n",
    "else:\n",
    "    print(\"D\")\n"
   ]
  },
  {
   "cell_type": "code",
   "execution_count": 4,
   "id": "d199b236-2b98-4909-9cbf-f88bac3b0187",
   "metadata": {},
   "outputs": [],
   "source": [
    "#Q2:"
   ]
  },
  {
   "cell_type": "code",
   "execution_count": 5,
   "id": "e1c96a54-b769-4ee7-a447-6a56f9d41466",
   "metadata": {},
   "outputs": [
    {
     "name": "stdin",
     "output_type": "stream",
     "text": [
      "Enter the cost price of the bike:  90000\n"
     ]
    },
    {
     "name": "stdout",
     "output_type": "stream",
     "text": [
      "The road tax to be paid is: 9000.0\n"
     ]
    }
   ],
   "source": [
    "#solution\n",
    "\n",
    "def road_tax(cost_price):\n",
    "    if cost_price > 100000:\n",
    "        return 0.15 * cost_price\n",
    "    elif cost_price > 50000:\n",
    "        return 0.10 * cost_price\n",
    "    else:\n",
    "        return 0.05 * cost_price\n",
    "\n",
    "cost_price = float(input(\"Enter the cost price of the bike: \"))\n",
    "tax = road_tax(cost_price)\n",
    "\n",
    "print(\"The road tax to be paid is:\", tax)\n"
   ]
  },
  {
   "cell_type": "code",
   "execution_count": 7,
   "id": "8a847079-ab20-4e0d-9269-6112f629ab61",
   "metadata": {},
   "outputs": [
    {
     "name": "stdin",
     "output_type": "stream",
     "text": [
      "Enter a city:  Delhi\n"
     ]
    },
    {
     "name": "stdout",
     "output_type": "stream",
     "text": [
      "The monuments in Delhi are: Red Fort\n"
     ]
    }
   ],
   "source": [
    "#Q3\n",
    "#solution\n",
    "\n",
    "def monuments(city):\n",
    "    if city == 'Delhi':\n",
    "        return 'Red Fort'\n",
    "    elif city == 'Agra':\n",
    "        return 'Taj Mahal'\n",
    "    elif city == 'Jaipur':\n",
    "        return 'Jal Mahal'\n",
    "    else:\n",
    "        return 'Invalid city name'\n",
    "\n",
    "city = input(\"Enter a city: \")\n",
    "result = monuments(city)\n",
    "\n",
    "print(\"The monuments in\", city, \"are:\", result)\n"
   ]
  },
  {
   "cell_type": "code",
   "execution_count": 9,
   "id": "bb7c0312-5e60-4992-9fab-05bcb55694fa",
   "metadata": {},
   "outputs": [
    {
     "name": "stdin",
     "output_type": "stream",
     "text": [
      "Enter a number:  120\n"
     ]
    },
    {
     "name": "stdout",
     "output_type": "stream",
     "text": [
      "The number can be divided by 3 3 times before it becomes less than or equal to 10.\n"
     ]
    }
   ],
   "source": [
    "#4. Check how many times a given number can be divided by 3 before it is less than or equal to 10.\n",
    "\n",
    "def divide_by_3(num):\n",
    "    count = 0\n",
    "    while num > 10:\n",
    "        num /= 3\n",
    "        count += 1\n",
    "    return count\n",
    "\n",
    "num = int(input(\"Enter a number: \"))\n",
    "result = divide_by_3(num)\n",
    "\n",
    "print(\"The number can be divided by 3\", result, \"times before it becomes less than or equal to 10.\")\n"
   ]
  },
  {
   "cell_type": "code",
   "execution_count": 10,
   "id": "39c6f8e4-4eee-4596-bfee-851525d5da11",
   "metadata": {},
   "outputs": [
    {
     "name": "stdout",
     "output_type": "stream",
     "text": [
      "1\n",
      "2\n",
      "3\n",
      "4\n",
      "5\n",
      "6\n",
      "7\n",
      "8\n",
      "9\n",
      "10\n"
     ]
    }
   ],
   "source": [
    "#5. 'Why and When to Use while Loop in Python give a detailed description with example.\n",
    "\n",
    "#sol:A while loop in Python is used when you want to repeatedly execute a block of code as long as a given condition is true. \n",
    "#The condition is evaluated before each iteration of the loop, and if it is True, the code inside the loop is executed. Once the condition becomes False, the loop terminates and the program continues with the next statement after the loop.\n",
    "\n",
    "#Here is an example of using a while loop to print the numbers from 1 to 10:\n",
    "\n",
    "count = 1\n",
    "while count <= 10:\n",
    "    print(count)\n",
    "    count += 1\n"
   ]
  },
  {
   "cell_type": "code",
   "execution_count": 11,
   "id": "7420ee15-4e3e-405b-a3dc-4d91391a7bb7",
   "metadata": {},
   "outputs": [
    {
     "name": "stdin",
     "output_type": "stream",
     "text": [
      "Enter number of rows:  4\n"
     ]
    },
    {
     "name": "stdout",
     "output_type": "stream",
     "text": [
      "   *\n",
      "  ***\n",
      " *****\n",
      "*******\n"
     ]
    }
   ],
   "source": [
    "#Q6:Use nested while loop to print 3 difierenet pattern\n",
    "\n",
    "#Triangle pattern:\n",
    "rows = int(input(\"Enter number of rows: \"))\n",
    "\n",
    "count = 1\n",
    "while count <= rows:\n",
    "    space = rows - count\n",
    "    while space > 0:\n",
    "        print(\" \", end=\"\")\n",
    "        space -= 1\n",
    "    star = 2 * count - 1\n",
    "    while star > 0:\n",
    "        print(\"*\", end=\"\")\n",
    "        star -= 1\n",
    "    print(\"\")\n",
    "    count += 1\n"
   ]
  },
  {
   "cell_type": "code",
   "execution_count": 12,
   "id": "242377b4-a031-488e-b6fc-00beb6248933",
   "metadata": {},
   "outputs": [
    {
     "name": "stdin",
     "output_type": "stream",
     "text": [
      "Enter number of rows:  5\n"
     ]
    },
    {
     "name": "stdout",
     "output_type": "stream",
     "text": [
      "    *\n",
      "   ***\n",
      "  *****\n",
      " *******\n",
      "*********\n"
     ]
    }
   ],
   "source": [
    "#Pyramid pattern:\n",
    "\n",
    "rows = int(input(\"Enter number of rows: \"))\n",
    "\n",
    "for i in range(1, rows + 1):\n",
    "    for j in range(1, rows - i + 1):\n",
    "        print(\" \", end=\"\")\n",
    "    for k in range(1, 2 * i):\n",
    "        print(\"*\", end=\"\")\n",
    "    print(\"\")\n"
   ]
  },
  {
   "cell_type": "code",
   "execution_count": 13,
   "id": "6fe65589-c513-4f53-87a4-e1d13a08fa63",
   "metadata": {},
   "outputs": [
    {
     "name": "stdin",
     "output_type": "stream",
     "text": [
      "Enter number of rows:  7\n"
     ]
    },
    {
     "name": "stdout",
     "output_type": "stream",
     "text": [
      "      *\n",
      "     ***\n",
      "    *****\n",
      "   *******\n",
      "  *********\n",
      " ***********\n",
      "*************\n",
      " ***********\n",
      "  *********\n",
      "   *******\n",
      "    *****\n",
      "     ***\n",
      "      *\n"
     ]
    }
   ],
   "source": [
    "#Diamond pattern\n",
    "\n",
    "rows = int(input(\"Enter number of rows: \"))\n",
    "\n",
    "for i in range(1, rows + 1):\n",
    "    for j in range(1, rows - i + 1):\n",
    "        print(\" \", end=\"\")\n",
    "    for k in range(1, 2 * i):\n",
    "        print(\"*\", end=\"\")\n",
    "    print(\"\")\n",
    "\n",
    "for i in range(rows - 1, 0, -1):\n",
    "    for j in range(1, rows - i + 1):\n",
    "        print(\" \", end=\"\")\n",
    "    for k in range(1, 2 * i):\n",
    "        print(\"*\", end=\"\")\n",
    "    print(\"\")\n"
   ]
  },
  {
   "cell_type": "code",
   "execution_count": 14,
   "id": "28446531-ae07-4648-b49d-8d4b5be0aacf",
   "metadata": {},
   "outputs": [
    {
     "name": "stdout",
     "output_type": "stream",
     "text": [
      "10\n",
      "9\n",
      "8\n",
      "7\n",
      "6\n",
      "5\n",
      "4\n",
      "3\n",
      "2\n",
      "1\n"
     ]
    }
   ],
   "source": [
    "#Q7:Reverse a while loop to display numbers from10 to 1\n",
    "\n",
    "count = 10\n",
    "while count >= 1:\n",
    "    print(count)\n",
    "    count -= 1\n"
   ]
  },
  {
   "cell_type": "code",
   "execution_count": 15,
   "id": "150cc8a9-bcc6-4396-a630-694bc1f2fb35",
   "metadata": {},
   "outputs": [
    {
     "name": "stdout",
     "output_type": "stream",
     "text": [
      "10\n",
      "9\n",
      "8\n",
      "7\n",
      "6\n",
      "5\n",
      "4\n",
      "3\n",
      "2\n",
      "1\n"
     ]
    }
   ],
   "source": [
    "#Q8:Reverse a while loop to display numbers from 10 to 1\n",
    "\n",
    "count = 10\n",
    "while count >= 1:\n",
    "    print(count)\n",
    "    count -= 1\n"
   ]
  },
  {
   "cell_type": "code",
   "execution_count": null,
   "id": "7f01f477-ba4d-4fac-abeb-e39295eb2805",
   "metadata": {},
   "outputs": [],
   "source": []
  }
 ],
 "metadata": {
  "kernelspec": {
   "display_name": "Python 3 (ipykernel)",
   "language": "python",
   "name": "python3"
  },
  "language_info": {
   "codemirror_mode": {
    "name": "ipython",
    "version": 3
   },
   "file_extension": ".py",
   "mimetype": "text/x-python",
   "name": "python",
   "nbconvert_exporter": "python",
   "pygments_lexer": "ipython3",
   "version": "3.10.8"
  }
 },
 "nbformat": 4,
 "nbformat_minor": 5
}
