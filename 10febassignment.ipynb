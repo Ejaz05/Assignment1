{
 "cells": [
  {
   "cell_type": "code",
   "execution_count": 1,
   "id": "5759bb89-e767-4a27-9f42-2a0516ba29c8",
   "metadata": {},
   "outputs": [],
   "source": [
    "#Q1. Which function is used to open a file? What are the different modes of opening a file? Explain each mode\n",
    "#of file opening."
   ]
  },
  {
   "cell_type": "code",
   "execution_count": 2,
   "id": "744953a1-05be-4cd4-bf3c-b1abfcdaa82c",
   "metadata": {},
   "outputs": [],
   "source": [
    "#sol:\n",
    "#In Python, the open() function is used to open a file. The function takes two arguments: the name of the file and the mode in which the file should be opened. The different modes of opening a file are:\n",
    "\n",
    "#'r' (Read Only): This is the default mode. The file is opened in read-only mode and any attempt to write to the file will raise an error.\n",
    "\n",
    "#'w' (Write Only): This mode opens the file for writing. If the file already exists, its contents will be truncated and if the file does not exist, a new file will be created.\n",
    "\n",
    "#'a' (Append Only): This mode opens the file for writing but it appends the data to the end of the file instead of truncating it. If the file does not exist, a new file will be created.\n",
    "\n",
    "#'x' (Exclusive Creation): This mode is used to create a new file for writing. If the file already exists, the function will raise an error.\n",
    "\n",
    "#'b' (Binary): This mode is used when working with binary files such as images or audio files. This mode can be combined with other modes such as 'rb' (Read Binary), 'wb' (Write Binary), 'ab' (Append Binary), and 'xb' (Exclusive Creation Binary).\n",
    "\n",
    "#'t' (Text): This mode is used when working with text files. This mode can be combined with other modes such as 'rt' (Read Text), 'wt' (Write Text), 'at' (Append Text), and 'xt' (Exclusive Creation Text).\n",
    "\n"
   ]
  },
  {
   "cell_type": "code",
   "execution_count": 6,
   "id": "4d4134a9-178b-40a6-9f73-c453344e453f",
   "metadata": {},
   "outputs": [],
   "source": [
    "#For example, to open a file in read-only mode, you would use:\n",
    "#  f = open('file.txt', 'r')\n"
   ]
  },
  {
   "cell_type": "code",
   "execution_count": 5,
   "id": "1bf55a17-6309-4770-840e-fe7ab68e84b4",
   "metadata": {},
   "outputs": [],
   "source": [
    "#And to open a file in write-only mode, you would use:\n",
    "#f  = open('file.txt', 'w')"
   ]
  },
  {
   "cell_type": "code",
   "execution_count": 7,
   "id": "0899a862-26e3-47ba-9631-9b3b1c8aa22a",
   "metadata": {},
   "outputs": [],
   "source": [
    "#Q2. Why close() function is used? Why is it important to close a file?"
   ]
  },
  {
   "cell_type": "code",
   "execution_count": 9,
   "id": "41c773e8-1efc-4d44-b4c7-e34446134716",
   "metadata": {},
   "outputs": [],
   "source": [
    "#solution:\n",
    "#The close() function is used to close an open file. When a file is opened, the operating system reserves some system resources for the file, such as memory, to allow for reading and writing operations. When you are done with the file, it is a good practice to close it so that the operating system can release these resources and they can be used by other processes.\n",
    "\n",
    "#Closing a file is especially important when you are working with large files or if you are opening and closing many files in a short period of time, as it can help prevent resource exhaustion and improve the performance of your program.\n",
    "\n",
    "#In addition, when a file is not properly closed, there is a risk of data loss. This is because the contents of an open file may be cached in memory and not yet written to disk. If the file is not closed before the program terminates, the cached data may be lost.\n",
    "\n",
    "#For example, to close a file, you would use:\n",
    "\n",
    "# f = open('file.txt', 'r')\n",
    "# perform some operations on the file\n",
    "# f.close()"
   ]
  },
  {
   "cell_type": "code",
   "execution_count": 10,
   "id": "f261b51f-7e6e-4b6a-968a-027fb29d62eb",
   "metadata": {},
   "outputs": [],
   "source": [
    "#Q3. Write a python program to create a text file. Write ‘I want to become a Data Scientist’ in that file. Then\n",
    "#close the file. Open this file and read the content of the file."
   ]
  },
  {
   "cell_type": "code",
   "execution_count": 11,
   "id": "c9e5ea9a-f313-4afe-9d2e-b00181d59b23",
   "metadata": {},
   "outputs": [
    {
     "name": "stdout",
     "output_type": "stream",
     "text": [
      "I want to become a Data Scientist\n"
     ]
    }
   ],
   "source": [
    "#solution:\n",
    "# create the file and write to it\n",
    "file = open(\"data_scientist_goal.txt\", \"w\")\n",
    "file.write(\"I want to become a Data Scientist\")\n",
    "file.close()\n",
    "\n",
    "# open the file and read its content\n",
    "file = open(\"data_scientist_goal.txt\", \"r\")\n",
    "content = file.read()\n",
    "file.close()\n",
    "\n",
    "# print the content of the file\n",
    "print(content)\n"
   ]
  },
  {
   "cell_type": "code",
   "execution_count": 12,
   "id": "a43c3b2e-bd41-481c-8cc6-142d950c3c08",
   "metadata": {},
   "outputs": [],
   "source": [
    "#Q4. Explain the following with python code: read(), readline() and readlines()."
   ]
  },
  {
   "cell_type": "code",
   "execution_count": 13,
   "id": "b85558e0-b80b-402f-895d-632b2852eed4",
   "metadata": {},
   "outputs": [],
   "source": [
    "#solution\n",
    "#read() method is used to read the entire contents of a file as a string. Here is an example:"
   ]
  },
  {
   "cell_type": "code",
   "execution_count": 15,
   "id": "7839d3c4-3410-4521-a113-133d72474427",
   "metadata": {},
   "outputs": [],
   "source": [
    "# opening the file in read mode\n",
    "# file = open(\"example.txt\", \"r\")\n",
    "\n",
    "# using the read() method\n",
    "# contents = file.read()\n",
    "\n",
    "# printing the contents of the file\n",
    "# print(contents)\n",
    "\n",
    "# closing the file\n",
    "# file.close()\n"
   ]
  },
  {
   "cell_type": "code",
   "execution_count": 16,
   "id": "e04c0967-6ece-43e1-ae4e-37fa63862410",
   "metadata": {},
   "outputs": [],
   "source": [
    "#readline() method is used to read a single line of the file. Here is an example\n",
    "# opening the file in read mode\n",
    "# file = open(\"example.txt\", \"r\")\n",
    "\n",
    "# using the readline() method\n",
    "# line = file.readline()\n",
    "\n",
    "# printing the line\n",
    "# print(line)\n",
    "\n",
    "# closing the file\n",
    "# file.close()\n"
   ]
  },
  {
   "cell_type": "code",
   "execution_count": 17,
   "id": "11e4e9d9-655b-4416-85f3-1069f202b0dc",
   "metadata": {},
   "outputs": [],
   "source": [
    "# readlines() method is used to read all the lines of the file as a list of strings. Here is an example:\n",
    "# opening the file in read mode\n",
    "# file = open(\"example.txt\", \"r\")\n",
    "\n",
    "# using the readlines() method\n",
    "# lines = file.readlines()\n",
    "\n",
    "# printing the lines\n",
    "# for line in lines:\n",
    "    # print(line)\n",
    "\n",
    "# closing the file\n",
    "# file.close()\n"
   ]
  },
  {
   "cell_type": "code",
   "execution_count": 18,
   "id": "042e1bb6-a9ff-4340-a73e-4b1893124125",
   "metadata": {},
   "outputs": [],
   "source": [
    "#Q5. Explain why with statement is used with open(). What is the advantage of using with statement and\n",
    "#open() together?"
   ]
  },
  {
   "cell_type": "code",
   "execution_count": 20,
   "id": "8516bb03-ab45-40cf-b0cb-14c9943af037",
   "metadata": {},
   "outputs": [],
   "source": [
    "#solution\n",
    "#The with statement is used in Python to ensure that resources are properly managed, even in the presence of exceptions. When using the with statement with the open() function, it ensures that the file is properly closed after the block of code is executed, even if an exception is raised during the execution of the code.\n",
    "\n",
    "#The advantage of using the with statement and open() together is that it eliminates the need to manually close the file after reading or writing to it. If you don't use the with statement, you have to manually close the file using the close() method, which can be prone to errors. If you forget to close the file, it can lead to resource leaks, which can affect the performance of your application.\n",
    "\n",
    "#Here is an example of using the with statement with the open() function:\n",
    "\n",
    "# opening the file in read mode\n",
    "# with open(\"example.txt\", \"r\") as file:\n",
    "   # contents = file.read()\n",
    "   # print(contents)\n"
   ]
  },
  {
   "cell_type": "code",
   "execution_count": 21,
   "id": "41d06f53-4f7c-4701-b27d-014a00ae32a5",
   "metadata": {},
   "outputs": [],
   "source": [
    "#Q6. Explain the write() and writelines() functions. Give a suitable example."
   ]
  },
  {
   "cell_type": "code",
   "execution_count": null,
   "id": "e4816f46-4a11-4af6-a527-1b237334ed95",
   "metadata": {
    "tags": []
   },
   "outputs": [],
   "source": [
    "#solution\n",
    "\n",
    "#write() function is used to write a string to a file. The string is written to the file starting at the current position of the file pointer. If the file does not exist, it will be created. Here is an example:\n",
    "# opening the file in write mode\n",
    "# file = open(\"example.txt\", \"w\")\n",
    "\n",
    "# using the write() function\n",
    "# file.write(\"Hello, World!\")\n",
    "\n",
    "# closing the file\n",
    "# file.close()\n",
    "\n",
    "#writelines() function is used to write a sequence of strings to a file. The strings are concatenated and written to the file starting at the current position of the file pointer. If the file does not exist, it will be created. Here is an example:\n",
    "\n",
    "# opening the file in write mode\n",
    "# file = open(\"example.txt\", \"w\")\n",
    "\n",
    "# using the writelines() function\n",
    "# lines = [\"Hello, World!\", \"How are you?\"]\n",
    "# file.writelines(lines)\n",
    "\n",
    "# closing the file\n",
    "# file.close()\n",
    "\n",
    "\n",
    "#Just like with the read() and readlines() functions, it's a good practice to use the with statement when using the write() and writelines() functions to ensure that the file is properly closed after writing to it. Here is an example:\n",
    "\n",
    "# opening the file in write mode\n",
    "# with open(\"example.txt\", \"w\") as file:\n",
    "   # file.write(\"Hello, World!\")\n"
   ]
  }
 ],
 "metadata": {
  "kernelspec": {
   "display_name": "Python 3 (ipykernel)",
   "language": "python",
   "name": "python3"
  },
  "language_info": {
   "codemirror_mode": {
    "name": "ipython",
    "version": 3
   },
   "file_extension": ".py",
   "mimetype": "text/x-python",
   "name": "python",
   "nbconvert_exporter": "python",
   "pygments_lexer": "ipython3",
   "version": "3.10.8"
  }
 },
 "nbformat": 4,
 "nbformat_minor": 5
}
