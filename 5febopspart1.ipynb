{
 "cells": [
  {
   "cell_type": "code",
   "execution_count": 1,
   "id": "3b47490a-5ed3-4eef-b8ab-cb60dd123980",
   "metadata": {},
   "outputs": [],
   "source": [
    "#oops-part1"
   ]
  },
  {
   "cell_type": "code",
   "execution_count": 2,
   "id": "6d4be875-312e-40df-a08e-5d62998481e6",
   "metadata": {},
   "outputs": [],
   "source": [
    "##oops stands for object-oriented programming system"
   ]
  },
  {
   "cell_type": "code",
   "execution_count": 3,
   "id": "6eebc628-847f-4b25-b4be-f03426c18586",
   "metadata": {},
   "outputs": [],
   "source": [
    "a=1"
   ]
  },
  {
   "cell_type": "code",
   "execution_count": 4,
   "id": "98ce0760-dd69-455e-a4c0-f10563fd3b14",
   "metadata": {},
   "outputs": [
    {
     "name": "stdout",
     "output_type": "stream",
     "text": [
      "<class 'int'>\n"
     ]
    }
   ],
   "source": [
    "print(type(a))"
   ]
  },
  {
   "cell_type": "code",
   "execution_count": 7,
   "id": "f91cbfa3-c3b3-4dca-b88c-d9406c9e958c",
   "metadata": {},
   "outputs": [
    {
     "name": "stdout",
     "output_type": "stream",
     "text": [
      "<class 'str'>\n"
     ]
    }
   ],
   "source": [
    "print(type(\"pwskills\"))"
   ]
  },
  {
   "cell_type": "code",
   "execution_count": 8,
   "id": "7fe1fadb-e597-4926-aeab-8962f16cc7b6",
   "metadata": {},
   "outputs": [],
   "source": [
    "class test:\n",
    "    pass"
   ]
  },
  {
   "cell_type": "code",
   "execution_count": 9,
   "id": "0e3497ce-36ed-4797-a3aa-ba0063f37563",
   "metadata": {},
   "outputs": [],
   "source": [
    "a= test()"
   ]
  },
  {
   "cell_type": "code",
   "execution_count": 10,
   "id": "d3b9d53a-f30a-4797-a48d-b3c268f4b4ee",
   "metadata": {},
   "outputs": [
    {
     "data": {
      "text/plain": [
       "__main__.test"
      ]
     },
     "execution_count": 10,
     "metadata": {},
     "output_type": "execute_result"
    }
   ],
   "source": [
    "type(a)"
   ]
  },
  {
   "cell_type": "code",
   "execution_count": 11,
   "id": "f8e8b6d3-e791-4422-9d43-bd3e6571e9cd",
   "metadata": {},
   "outputs": [
    {
     "name": "stdout",
     "output_type": "stream",
     "text": [
      "<class '__main__.test'>\n"
     ]
    }
   ],
   "source": [
    "print(type(a))"
   ]
  },
  {
   "cell_type": "code",
   "execution_count": 18,
   "id": "4fd32b6c-b3e6-4c9f-817c-4e5fe0e6413c",
   "metadata": {},
   "outputs": [],
   "source": [
    "class pwskills:\n",
    "    \n",
    "    def welcome_msg(self):\n",
    "        print(\"welcome to pwskills\")"
   ]
  },
  {
   "cell_type": "code",
   "execution_count": 20,
   "id": "5f6b5871-afdd-4a22-a65d-fe0ef515208f",
   "metadata": {},
   "outputs": [],
   "source": [
    "rohan=pwskills()"
   ]
  },
  {
   "cell_type": "code",
   "execution_count": 19,
   "id": "aed4e641-aa20-4d6d-a926-1b7ce0a50eed",
   "metadata": {},
   "outputs": [
    {
     "name": "stdout",
     "output_type": "stream",
     "text": [
      "<class '__main__.pwskills'>\n"
     ]
    }
   ],
   "source": [
    "print(type(rohan))"
   ]
  },
  {
   "cell_type": "code",
   "execution_count": 21,
   "id": "81bc1547-542c-4b44-9f5a-f8ea6f5c3bff",
   "metadata": {},
   "outputs": [
    {
     "name": "stdout",
     "output_type": "stream",
     "text": [
      "welcome to pwskills\n"
     ]
    }
   ],
   "source": [
    "rohan.welcome_msg()"
   ]
  },
  {
   "cell_type": "code",
   "execution_count": 24,
   "id": "bc9a4df4-0625-4a48-8afa-4bc9f4fde306",
   "metadata": {},
   "outputs": [],
   "source": [
    "gaurav =pwskills()"
   ]
  },
  {
   "cell_type": "code",
   "execution_count": 25,
   "id": "5e93fce7-6be0-4af2-8b57-302decb2b331",
   "metadata": {},
   "outputs": [
    {
     "name": "stdout",
     "output_type": "stream",
     "text": [
      "welcome to pwskills\n"
     ]
    }
   ],
   "source": [
    "gaurav.welcome_msg()"
   ]
  },
  {
   "cell_type": "code",
   "execution_count": 26,
   "id": "f6c4f31c-801a-4403-8ed2-052a3d1099ff",
   "metadata": {},
   "outputs": [],
   "source": [
    "class pwskills1:\n",
    "    \n",
    "    def __init__(self , phone_number , email_id, student_id):\n",
    "        self.phone_number = phone_number\n",
    "        self.email_id = email_id\n",
    "        self.student_id = student_id\n",
    "        \n",
    "    def return_student_details(self):\n",
    "        return self.student_id , self.phone_number , self.email_id\n",
    "    "
   ]
  },
  {
   "cell_type": "code",
   "execution_count": 28,
   "id": "56ae9b14-e8ea-4bd9-8d8b-7902936f23a1",
   "metadata": {},
   "outputs": [
    {
     "ename": "TypeError",
     "evalue": "pwskills1.__init__() missing 3 required positional arguments: 'phone_number', 'email_id', and 'student_id'",
     "output_type": "error",
     "traceback": [
      "\u001b[0;31m---------------------------------------------------------------------------\u001b[0m",
      "\u001b[0;31mTypeError\u001b[0m                                 Traceback (most recent call last)",
      "Cell \u001b[0;32mIn[28], line 1\u001b[0m\n\u001b[0;32m----> 1\u001b[0m rohan\u001b[38;5;241m=\u001b[39m\u001b[43mpwskills1\u001b[49m\u001b[43m(\u001b[49m\u001b[43m)\u001b[49m\n",
      "\u001b[0;31mTypeError\u001b[0m: pwskills1.__init__() missing 3 required positional arguments: 'phone_number', 'email_id', and 'student_id'"
     ]
    }
   ],
   "source": [
    "rohan=pwskills1()"
   ]
  },
  {
   "cell_type": "code",
   "execution_count": 29,
   "id": "410714c7-d55c-4b94-b0e3-d4024576f1df",
   "metadata": {},
   "outputs": [],
   "source": [
    "rohan=pwskills1(1234567890, \"rohan@gmail.com\" , 101)"
   ]
  },
  {
   "cell_type": "code",
   "execution_count": 31,
   "id": "38750d95-410a-43a5-96b5-96a3a4068d84",
   "metadata": {},
   "outputs": [
    {
     "data": {
      "text/plain": [
       "(101, 1234567890, 'rohan@gmail.com')"
      ]
     },
     "execution_count": 31,
     "metadata": {},
     "output_type": "execute_result"
    }
   ],
   "source": [
    "rohan.return_student_details()"
   ]
  },
  {
   "cell_type": "code",
   "execution_count": 38,
   "id": "4e2cc220-9582-4fa6-961f-2e2a1abce260",
   "metadata": {},
   "outputs": [
    {
     "data": {
      "text/plain": [
       "'rohan@gmail.com'"
      ]
     },
     "execution_count": 38,
     "metadata": {},
     "output_type": "execute_result"
    }
   ],
   "source": [
    "rohan.email_id"
   ]
  },
  {
   "cell_type": "code",
   "execution_count": 32,
   "id": "d153f502-192c-4b38-98bd-2fbcc9918b67",
   "metadata": {},
   "outputs": [],
   "source": [
    " gaurav = pwskills1(8987676553,\"gaurav@hotmail.com\" , 102)"
   ]
  },
  {
   "cell_type": "code",
   "execution_count": 33,
   "id": "049614dc-1479-4afe-b808-b3ac90432954",
   "metadata": {},
   "outputs": [
    {
     "data": {
      "text/plain": [
       "(102, 8987676553, 'gaurav@hotmail.com')"
      ]
     },
     "execution_count": 33,
     "metadata": {},
     "output_type": "execute_result"
    }
   ],
   "source": [
    "gaurav.return_student_details()"
   ]
  },
  {
   "cell_type": "code",
   "execution_count": 45,
   "id": "c9fb7b6a-3a93-4bb8-854c-5a703ff4426a",
   "metadata": {},
   "outputs": [],
   "source": [
    "class pwskills2:\n",
    "    \n",
    "    def __init__(self , phone_number , email_id, student_id):\n",
    "        self.phone_number1 = phone_number\n",
    "        self.email_id1 = email_id\n",
    "        self.student_id1 = student_id\n",
    "        \n",
    "    def return_student_details(self):\n",
    "        return self.student_id1 , self.phone_number1 , self.email_id1\n",
    "    "
   ]
  },
  {
   "cell_type": "code",
   "execution_count": 47,
   "id": "0a5625dc-b6b4-425e-a57b-b0ced9edb79c",
   "metadata": {},
   "outputs": [],
   "source": [
    "sudh= pwskills2(9900775544, \"sudh@gmail.com\" , 103)"
   ]
  },
  {
   "cell_type": "code",
   "execution_count": 48,
   "id": "b46e8d82-3cc2-44dc-ad34-016968f08f73",
   "metadata": {},
   "outputs": [
    {
     "data": {
      "text/plain": [
       "<__main__.pwskills2 at 0x7fdbac1be4d0>"
      ]
     },
     "execution_count": 48,
     "metadata": {},
     "output_type": "execute_result"
    }
   ],
   "source": [
    "sudh"
   ]
  },
  {
   "cell_type": "code",
   "execution_count": 49,
   "id": "00f3ef31-abd3-4b61-b7aa-9a8fb45b6304",
   "metadata": {},
   "outputs": [
    {
     "data": {
      "text/plain": [
       "9900775544"
      ]
     },
     "execution_count": 49,
     "metadata": {},
     "output_type": "execute_result"
    }
   ],
   "source": [
    "sudh.phone_number1"
   ]
  },
  {
   "cell_type": "code",
   "execution_count": 50,
   "id": "931f7a3d-29e0-4375-9bc0-ed301f7df5e9",
   "metadata": {},
   "outputs": [
    {
     "data": {
      "text/plain": [
       "(103, 9900775544, 'sudh@gmail.com')"
      ]
     },
     "execution_count": 50,
     "metadata": {},
     "output_type": "execute_result"
    }
   ],
   "source": [
    "sudh.return_student_details()"
   ]
  },
  {
   "cell_type": "code",
   "execution_count": 51,
   "id": "a2a6f00e-1154-4cdd-9e98-47e7d27d263e",
   "metadata": {},
   "outputs": [],
   "source": [
    "class pwskills3:\n",
    "    \n",
    "    def __init__(ejaz , phone_number , email_id, student_id):\n",
    "        ejaz.phone_number1 = phone_number\n",
    "        ejaz.email_id1 = email_id\n",
    "        ejaz.student_id1 = student_id\n",
    "        \n",
    "    def return_student_details(ejaz):\n",
    "        return ejaz.student_id1 , ejaz.phone_number1 , ejaz.email_id1\n",
    "    "
   ]
  },
  {
   "cell_type": "code",
   "execution_count": 52,
   "id": "8d0019e1-41c8-44bb-8ced-cbe9c49c3191",
   "metadata": {},
   "outputs": [],
   "source": [
    "rohan=pwskills3(12234, \"r@gmail.com\" , 105)"
   ]
  },
  {
   "cell_type": "code",
   "execution_count": 53,
   "id": "bbc8bfdc-207b-423b-a52e-f9979f37c987",
   "metadata": {},
   "outputs": [
    {
     "data": {
      "text/plain": [
       "12234"
      ]
     },
     "execution_count": 53,
     "metadata": {},
     "output_type": "execute_result"
    }
   ],
   "source": [
    "rohan.phone_number1"
   ]
  },
  {
   "cell_type": "code",
   "execution_count": null,
   "id": "ef1de6cd-e98e-44fc-a659-94e96e01fa59",
   "metadata": {},
   "outputs": [],
   "source": []
  }
 ],
 "metadata": {
  "kernelspec": {
   "display_name": "Python 3 (ipykernel)",
   "language": "python",
   "name": "python3"
  },
  "language_info": {
   "codemirror_mode": {
    "name": "ipython",
    "version": 3
   },
   "file_extension": ".py",
   "mimetype": "text/x-python",
   "name": "python",
   "nbconvert_exporter": "python",
   "pygments_lexer": "ipython3",
   "version": "3.10.8"
  }
 },
 "nbformat": 4,
 "nbformat_minor": 5
}
