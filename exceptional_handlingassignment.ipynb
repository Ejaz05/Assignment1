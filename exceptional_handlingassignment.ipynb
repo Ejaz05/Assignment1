{
 "cells": [
  {
   "cell_type": "code",
   "execution_count": 1,
   "id": "347b69f1-499b-4347-9fea-76036c704a6e",
   "metadata": {},
   "outputs": [],
   "source": [
    "#Q1. What is an Exception in python? Write the difference between Exceptions and syntax errors.\n"
   ]
  },
  {
   "cell_type": "code",
   "execution_count": 2,
   "id": "5363c425-5373-4294-ab6b-a1cf5bff9875",
   "metadata": {},
   "outputs": [],
   "source": [
    "#ANS:\n",
    "\n",
    "#An exception in Python is an abnormal event or runtime error that occurs during the execution of a program. It is a way to handle errors and unexpected situations in the code.\n",
    "\n",
    "#A syntax error, on the other hand, is a compile-time error that occurs when the code is not written correctly according to the rules of the programming language. Syntax errors prevent the code from being executed and must be fixed before the code can run.\n",
    "\n",
    "#The main difference between exceptions and syntax errors is that syntax errors are detected before the code is executed, while exceptions are raised during the execution of the code. Exceptions are typically raised due to unexpected situations such as incorrect user input, missing files, or memory errors, and can be handled using try-except blocks. Syntax errors cannot be handled in this way and must be fixed directly in the code."
   ]
  },
  {
   "cell_type": "code",
   "execution_count": 3,
   "id": "cd9a1750-d59d-43d3-9d4e-fecbfc858de0",
   "metadata": {},
   "outputs": [],
   "source": [
    "#Q2. What happens when an exception is not handled? Explain with an example"
   ]
  },
  {
   "cell_type": "code",
   "execution_count": 5,
   "id": "6aa56023-dae1-4f13-9641-1c3ee2fcae1c",
   "metadata": {},
   "outputs": [
    {
     "name": "stdin",
     "output_type": "stream",
     "text": [
      "Enter a number:  10\n",
      "Enter another number:  5\n"
     ]
    },
    {
     "name": "stdout",
     "output_type": "stream",
     "text": [
      "2.0\n"
     ]
    }
   ],
   "source": [
    "#ANS:When an exception is not handled, the program will terminate abruptly and an error message will be displayed. This can cause the program to stop working and leave the user with an unhandled error message.\n",
    "#example:\n",
    "\n",
    "def divide(a, b):\n",
    "    return a / b\n",
    "\n",
    "num1 = int(input(\"Enter a number: \"))\n",
    "num2 = int(input(\"Enter another number: \"))\n",
    "\n",
    "result = divide(num1, num2)\n",
    "print(result)"
   ]
  },
  {
   "cell_type": "code",
   "execution_count": 7,
   "id": "6ffeb600-bbd3-4d2c-a762-cbf9ab18bd57",
   "metadata": {},
   "outputs": [],
   "source": [
    "#If the user enters 0 for the second number, a ZeroDivisionError will be raised when the code tries to divide by zero. If the exception is not handled, the program will terminate with the following error message\n",
    "\n",
    "#ZeroDivisionError: division by zero\n",
    "\n",
    "#This type of error can cause confusion for the user and may leave them with an unclear idea of what went wrong. To avoid this, it is a good practice to handle exceptions in the code and provide a meaningful error message to the user.\n"
   ]
  },
  {
   "cell_type": "code",
   "execution_count": 8,
   "id": "3ba421fd-ce36-42a1-9ef7-7a2a31c6b176",
   "metadata": {},
   "outputs": [
    {
     "name": "stdin",
     "output_type": "stream",
     "text": [
      "Enter a number:  10\n",
      "Enter another number:  0\n"
     ]
    },
    {
     "name": "stdout",
     "output_type": "stream",
     "text": [
      "Error: Cannot divide by zero.\n"
     ]
    }
   ],
   "source": [
    "def divide(a, b):\n",
    "    return a / b\n",
    "\n",
    "try:\n",
    "    num1 = int(input(\"Enter a number: \"))\n",
    "    num2 = int(input(\"Enter another number: \"))\n",
    "    result = divide(num1, num2)\n",
    "    print(result)\n",
    "except ZeroDivisionError:\n",
    "    print(\"Error: Cannot divide by zero.\")\n"
   ]
  },
  {
   "cell_type": "code",
   "execution_count": 9,
   "id": "a07483a6-bce0-411f-a2cb-b76f38bf1738",
   "metadata": {},
   "outputs": [],
   "source": [
    "#This code uses a try-except block to handle the ZeroDivisionError that could occur if the user inputs 0 for the second number. If the error occurs, the program will display a custom error message instead of terminating with the default error message."
   ]
  },
  {
   "cell_type": "code",
   "execution_count": 10,
   "id": "633884b5-8d38-405e-8beb-1d28ad93fcb8",
   "metadata": {},
   "outputs": [],
   "source": [
    "#Q4. Explain with an example:\n",
    "#a. try and else\n",
    "#b. finally\n",
    "#c. raise"
   ]
  },
  {
   "cell_type": "code",
   "execution_count": 11,
   "id": "49c4096f-0059-4a01-abf8-e9025c248dab",
   "metadata": {},
   "outputs": [
    {
     "name": "stdin",
     "output_type": "stream",
     "text": [
      "Enter a number:  10\n",
      "Enter another number:  0\n"
     ]
    },
    {
     "name": "stdout",
     "output_type": "stream",
     "text": [
      "Error: Cannot divide by zero.\n"
     ]
    }
   ],
   "source": [
    "#The try and else blocks are used together to handle exceptions in Python. The code inside the try block is executed, and if an exception occurs, the code inside the except block is executed. If no exception occurs in the try block, the code inside the else block is executed.\n",
    "\n",
    "#Here is an example of how try and else can be used:\n",
    "\n",
    "def divide(a, b):\n",
    "    return a / b\n",
    "\n",
    "try:\n",
    "    num1 = int(input(\"Enter a number: \"))\n",
    "    num2 = int(input(\"Enter another number: \"))\n",
    "    result = divide(num1, num2)\n",
    "except ZeroDivisionError:\n",
    "    print(\"Error: Cannot divide by zero.\")\n",
    "else:\n",
    "    print(result)\n"
   ]
  },
  {
   "cell_type": "code",
   "execution_count": 12,
   "id": "cd0efd6a-5c33-4474-a786-a8aba69bafcc",
   "metadata": {},
   "outputs": [
    {
     "name": "stdin",
     "output_type": "stream",
     "text": [
      "Enter a number:  10\n",
      "Enter another number:  0\n"
     ]
    },
    {
     "name": "stdout",
     "output_type": "stream",
     "text": [
      "Error: Cannot divide by zero.\n",
      "The operation is complete.\n"
     ]
    }
   ],
   "source": [
    "#b. finally:\n",
    "\n",
    "#The finally block is used to execute a block of code regardless of whether an exception occurs in the try block or not. The finally block is useful for cleaning up resources such as file handles, database connections, or network sockets.\n",
    "\n",
    "#Here is an example of how finally can be used:\n",
    "\n",
    "def divide(a, b):\n",
    "    return a / b\n",
    "\n",
    "try:\n",
    "    num1 = int(input(\"Enter a number: \"))\n",
    "    num2 = int(input(\"Enter another number: \"))\n",
    "    result = divide(num1, num2)\n",
    "except ZeroDivisionError:\n",
    "    print(\"Error: Cannot divide by zero.\")\n",
    "else:\n",
    "    print(result)\n",
    "finally:\n",
    "    print(\"The operation is complete.\")\n"
   ]
  },
  {
   "cell_type": "code",
   "execution_count": 13,
   "id": "e6c80ff0-6b22-494d-93ef-7b73ffb8cb70",
   "metadata": {},
   "outputs": [
    {
     "name": "stdin",
     "output_type": "stream",
     "text": [
      "Enter your age:  -290\n"
     ]
    },
    {
     "name": "stdout",
     "output_type": "stream",
     "text": [
      "Age cannot be negative.\n"
     ]
    }
   ],
   "source": [
    "#c. raise:\n",
    "\n",
    "#The raise statement is used to raise an exception in Python. The raise statement can be used to raise a specific exception or to re-raise the current exception.\n",
    "\n",
    "#Here is an example of how raise can be used:\n",
    "\n",
    "def validate_age(age):\n",
    "    if age < 0:\n",
    "        raise ValueError(\"Age cannot be negative.\")\n",
    "    elif age > 200:\n",
    "        raise ValueError(\"Age is too high.\")\n",
    "\n",
    "try:\n",
    "    age = int(input(\"Enter your age: \"))\n",
    "    validate_age(age)\n",
    "except ValueError as e:\n",
    "    print(e)\n"
   ]
  },
  {
   "cell_type": "code",
   "execution_count": 14,
   "id": "108add6f-994c-445b-8664-18460a534345",
   "metadata": {},
   "outputs": [],
   "source": [
    "#Q5. What are Custom Exceptions in python? Why do we need Custom Exceptions? Explain with an example"
   ]
  },
  {
   "cell_type": "code",
   "execution_count": 15,
   "id": "42b61477-5144-4936-926f-e23a8d0ddf00",
   "metadata": {},
   "outputs": [
    {
     "name": "stdin",
     "output_type": "stream",
     "text": [
      "Enter your age:  223\n"
     ]
    },
    {
     "name": "stdout",
     "output_type": "stream",
     "text": [
      "Entered age is very high\n"
     ]
    }
   ],
   "source": [
    "#Custom exceptions in Python are exceptions that are defined by the user to handle specific errors or conditions in their code. They are needed because sometimes the built-in exceptions provided by Python may not fit the specific needs of the program.\n",
    "\n",
    "#For example, let's say you are writing a program that checks the validity of a person's age. You might want to raise an exception if the age entered is negative or greater than 200, since these values would be considered invalid. You could create a custom exception called InvalidAgeException and raise it whenever an invalid age is entered:\n",
    "\n",
    "class InvalidAgeException(Exception):\n",
    "    pass\n",
    "\n",
    "def validate_age(age):\n",
    "    if age < 0:\n",
    "        raise InvalidAgeException(\"Entered age is negative\")\n",
    "    elif age > 200:\n",
    "        raise InvalidAgeException(\"Entered age is very high\")\n",
    "\n",
    "try:\n",
    "    age = int(input(\"Enter your age: \"))\n",
    "    validate_age(age)\n",
    "except InvalidAgeException as e:\n",
    "    print(e)\n",
    "else:\n",
    "    print(\"Valid age entered\")\n"
   ]
  },
  {
   "cell_type": "code",
   "execution_count": 16,
   "id": "00bf5e85-827b-4271-b507-b9e9bb4ad19f",
   "metadata": {},
   "outputs": [],
   "source": [
    "#Q6. Create a custom exception class. Use this class to handle an exception."
   ]
  },
  {
   "cell_type": "code",
   "execution_count": 17,
   "id": "13272a39-822e-4b1d-a66f-5ddcdcb06bd6",
   "metadata": {},
   "outputs": [
    {
     "name": "stdin",
     "output_type": "stream",
     "text": [
      "Enter a number:  -99\n"
     ]
    },
    {
     "name": "stdout",
     "output_type": "stream",
     "text": [
      "Number is negative\n"
     ]
    }
   ],
   "source": [
    "class CustomException(Exception):\n",
    "    def __init__(self, message):\n",
    "        self.message = message\n",
    "\n",
    "try:\n",
    "    num = int(input(\"Enter a number: \"))\n",
    "    if num < 0:\n",
    "        raise CustomException(\"Number is negative\")\n",
    "except CustomException as e:\n",
    "    print(e.message)\n",
    "else:\n",
    "    print(\"Positive number entered\")\n"
   ]
  },
  {
   "cell_type": "code",
   "execution_count": null,
   "id": "5ba812e6-80f6-4385-add1-14fb0ae7e837",
   "metadata": {},
   "outputs": [],
   "source": []
  }
 ],
 "metadata": {
  "kernelspec": {
   "display_name": "Python 3 (ipykernel)",
   "language": "python",
   "name": "python3"
  },
  "language_info": {
   "codemirror_mode": {
    "name": "ipython",
    "version": 3
   },
   "file_extension": ".py",
   "mimetype": "text/x-python",
   "name": "python",
   "nbconvert_exporter": "python",
   "pygments_lexer": "ipython3",
   "version": "3.10.8"
  }
 },
 "nbformat": 4,
 "nbformat_minor": 5
}
