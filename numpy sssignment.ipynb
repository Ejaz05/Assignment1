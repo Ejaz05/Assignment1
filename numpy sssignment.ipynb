{
 "cells": [
  {
   "cell_type": "code",
   "execution_count": 2,
   "id": "8e608a25-7419-4ac8-8554-82bcc43338e1",
   "metadata": {},
   "outputs": [],
   "source": [
    "#Consider the below code to answer further questions:\n",
    "import numpy as np\n",
    "list_ = [ '1' , '2' , '3' , '4' , '5' ]\n",
    "array_list = np.array(object = list_)"
   ]
  },
  {
   "cell_type": "code",
   "execution_count": 4,
   "id": "69b315e2-480d-40b7-ba69-f44e4618a261",
   "metadata": {},
   "outputs": [],
   "source": [
    "#Q1. Is there any difference in the data type of variables list_ and array_list? If there is then write a code to print the data types of both the variables."
   ]
  },
  {
   "cell_type": "code",
   "execution_count": 8,
   "id": "a95211f6-78f2-40bb-9f27-1844508713fa",
   "metadata": {},
   "outputs": [
    {
     "name": "stdout",
     "output_type": "stream",
     "text": [
      "Data type of list_: <class 'list'>\n",
      "Data type of array_list: <class 'numpy.ndarray'>\n"
     ]
    }
   ],
   "source": [
    "#Yes, there is a difference in the data type of variables list_ and array_list.\n",
    "\n",
    "#The variable list_ is a Python list, while the variable array_list is a numpy array.\n",
    "\n",
    "#To print the data types of both the variables, you can use the type() function as follows:\n",
    "\n",
    "import numpy as np\n",
    "list_ = ['1', '2', '3', '4', '5']\n",
    "array_list = np.array(object=list_)\n",
    "\n",
    "print(\"Data type of list_:\", type(list_))\n",
    "print(\"Data type of array_list:\", type(array_list))\n"
   ]
  },
  {
   "cell_type": "code",
   "execution_count": 4,
   "id": "6804428f-682a-4500-a714-f570ef587da3",
   "metadata": {},
   "outputs": [],
   "source": [
    "#Q2. Write a code to print the data type of each and every element of both the variables list_ and array_list."
   ]
  },
  {
   "cell_type": "code",
   "execution_count": 5,
   "id": "14194497-b682-4969-90ad-087fce6bd16c",
   "metadata": {},
   "outputs": [
    {
     "name": "stdout",
     "output_type": "stream",
     "text": [
      "Data type of 1 in list_: <class 'str'>\n",
      "Data type of 2 in list_: <class 'str'>\n",
      "Data type of 3 in list_: <class 'str'>\n",
      "Data type of 4 in list_: <class 'str'>\n",
      "Data type of 5 in list_: <class 'str'>\n",
      "Data type of 1 in array_list: <class 'numpy.str_'>\n",
      "Data type of 2 in array_list: <class 'numpy.str_'>\n",
      "Data type of 3 in array_list: <class 'numpy.str_'>\n",
      "Data type of 4 in array_list: <class 'numpy.str_'>\n",
      "Data type of 5 in array_list: <class 'numpy.str_'>\n"
     ]
    }
   ],
   "source": [
    "import numpy as np\n",
    "list_ = ['1', '2', '3', '4', '5']\n",
    "array_list = np.array(object=list_)\n",
    "\n",
    "# Print data type of each element in list_\n",
    "for element in list_:\n",
    "    print(\"Data type of\", element, \"in list_:\", type(element))\n",
    "\n",
    "# Print data type of each element in array_list\n",
    "for element in array_list:\n",
    "    print(\"Data type of\", element, \"in array_list:\", type(element))\n"
   ]
  },
  {
   "cell_type": "code",
   "execution_count": 11,
   "id": "f14e6c9c-0b0a-49de-be32-a3861716d3a0",
   "metadata": {},
   "outputs": [],
   "source": [
    "#Q3. Considering the following changes in the variable, array_list:\n",
    "#array_list = np.array(object = list_, dtype = int)\n",
    "#Will there be any difference in the data type of the elements present in both the variables, list_ and\n",
    "#array_list? If so then print the data types of each and every element present in both the variables, list_ and array_list."
   ]
  },
  {
   "cell_type": "code",
   "execution_count": 12,
   "id": "df71b21a-3a46-4adc-b255-636e3cfbddf7",
   "metadata": {},
   "outputs": [
    {
     "name": "stdout",
     "output_type": "stream",
     "text": [
      "Data type of 1 in list_: <class 'str'>\n",
      "Data type of 2 in list_: <class 'str'>\n",
      "Data type of 3 in list_: <class 'str'>\n",
      "Data type of 4 in list_: <class 'str'>\n",
      "Data type of 5 in list_: <class 'str'>\n",
      "Data type of 1 in array_list: <class 'numpy.int64'>\n",
      "Data type of 2 in array_list: <class 'numpy.int64'>\n",
      "Data type of 3 in array_list: <class 'numpy.int64'>\n",
      "Data type of 4 in array_list: <class 'numpy.int64'>\n",
      "Data type of 5 in array_list: <class 'numpy.int64'>\n"
     ]
    }
   ],
   "source": [
    "#Yes, there will be a difference in the data type of the elements present in both the variables list_ and array_list\n",
    "#This code creates a numpy array from the list_ variable with the data type specified as int. This means that the elements of the numpy array will be integers, whereas the elements of the original list_ variable are strings.\n",
    "\n",
    "import numpy as np\n",
    "list_ = ['1', '2', '3', '4', '5']\n",
    "array_list = np.array(object=list_, dtype=int)\n",
    "\n",
    "# Print data type of each element in list_\n",
    "for element in list_:\n",
    "    print(\"Data type of\", element, \"in list_:\", type(element))\n",
    "\n",
    "# Print data type of each element in array_list\n",
    "for element in array_list:\n",
    "    print(\"Data type of\", element, \"in array_list:\", type(element))\n"
   ]
  },
  {
   "cell_type": "code",
   "execution_count": 13,
   "id": "d4211e99-66e0-43c9-9dd5-5739ab777ef4",
   "metadata": {},
   "outputs": [],
   "source": [
    "#Consider the below code to answer further questions:\n",
    "#import numpy as np\n",
    "#num_list = [ [ 1 , 2 , 3 ] , [ 4 , 5 , 6 ] ]\n",
    "#num_array = np.array(object = num_list)\n",
    "#Q4. Write a code to find the following characteristics of variable, num_array:\n",
    "#(i) shape\n",
    "#(ii) size"
   ]
  },
  {
   "cell_type": "code",
   "execution_count": 14,
   "id": "543cc028-327d-4d6e-a905-11539b9b6a02",
   "metadata": {},
   "outputs": [
    {
     "name": "stdout",
     "output_type": "stream",
     "text": [
      "Shape of num_array: (2, 3)\n",
      "Size of num_array: 6\n"
     ]
    }
   ],
   "source": [
    "import numpy as np\n",
    "\n",
    "num_list = [[1, 2, 3], [4, 5, 6]]\n",
    "num_array = np.array(object=num_list)\n",
    "\n",
    "# Find the shape of the num_array variable\n",
    "print(\"Shape of num_array:\", num_array.shape)\n",
    "\n",
    "# Find the size of the num_array variable\n",
    "print(\"Size of num_array:\", num_array.size)\n"
   ]
  },
  {
   "cell_type": "code",
   "execution_count": 16,
   "id": "fd80d6e9-3134-4ff7-98ca-d73055346915",
   "metadata": {},
   "outputs": [],
   "source": [
    "#Q5. Write a code to create numpy array of 3*3 matrix containing zeros only, using a numpy array\n",
    "#creation function.\n",
    "#[Hint: The size of the array will be 9 and the shape will be (3,3).]"
   ]
  },
  {
   "cell_type": "code",
   "execution_count": 19,
   "id": "2a04a68b-1b70-49ce-85f3-ad24b6cd0bea",
   "metadata": {},
   "outputs": [
    {
     "name": "stdout",
     "output_type": "stream",
     "text": [
      "[[0. 0. 0.]\n",
      " [0. 0. 0.]\n",
      " [0. 0. 0.]]\n"
     ]
    }
   ],
   "source": [
    "import numpy as np\n",
    "\n",
    "# Create a 3x3 numpy array containing only zeros\n",
    "zeros_array = np.zeros(shape=(3, 3))\n",
    "\n",
    "# Print the zeros_array variable\n",
    "print(zeros_array)\n"
   ]
  },
  {
   "cell_type": "code",
   "execution_count": 20,
   "id": "7d3c561c-ed82-4f10-b4a1-9f3a729d1199",
   "metadata": {},
   "outputs": [],
   "source": [
    "#Q6. Create an identity matrix of shape (5,5) using numpy functions?\n",
    "#[Hint: An identity matrix is a matrix containing 1 diagonally and other elements will be 0.]"
   ]
  },
  {
   "cell_type": "code",
   "execution_count": 26,
   "id": "28f54a47-f9b8-453a-a587-5bdedab53ba3",
   "metadata": {},
   "outputs": [
    {
     "name": "stdout",
     "output_type": "stream",
     "text": [
      "[[1. 0. 0. 0. 0.]\n",
      " [0. 1. 0. 0. 0.]\n",
      " [0. 0. 1. 0. 0.]\n",
      " [0. 0. 0. 1. 0.]\n",
      " [0. 0. 0. 0. 1.]]\n"
     ]
    }
   ],
   "source": [
    "import numpy as np\n",
    "\n",
    "#identity matrix of shape (5,5) using numpy functions\n",
    "identity_matrix = np.eye(5)\n",
    "\n",
    "# Print the identity_matrix variable\n",
    "print(identity_matrix)"
   ]
  },
  {
   "cell_type": "code",
   "execution_count": null,
   "id": "926cab2d-0a8c-438e-825b-0dcb04d48231",
   "metadata": {},
   "outputs": [],
   "source": []
  }
 ],
 "metadata": {
  "kernelspec": {
   "display_name": "Python 3 (ipykernel)",
   "language": "python",
   "name": "python3"
  },
  "language_info": {
   "codemirror_mode": {
    "name": "ipython",
    "version": 3
   },
   "file_extension": ".py",
   "mimetype": "text/x-python",
   "name": "python",
   "nbconvert_exporter": "python",
   "pygments_lexer": "ipython3",
   "version": "3.10.8"
  }
 },
 "nbformat": 4,
 "nbformat_minor": 5
}
